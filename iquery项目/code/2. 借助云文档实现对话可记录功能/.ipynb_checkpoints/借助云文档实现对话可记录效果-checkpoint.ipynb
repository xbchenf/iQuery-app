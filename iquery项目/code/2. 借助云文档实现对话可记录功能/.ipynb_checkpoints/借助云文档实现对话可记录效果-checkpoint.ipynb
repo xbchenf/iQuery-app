{
 "cells": [
  {
   "cell_type": "markdown",
   "id": "7d103c33-5309-451b-ba47-6e98dab4f854",
   "metadata": {},
   "source": [
    "# 1. 在线记录功能之本地云盘创建"
   ]
  },
  {
   "cell_type": "markdown",
   "id": "75851600-952f-446f-a839-7ebc2cfc3727",
   "metadata": {},
   "source": [
    "## 1.1 添加在云盘创建文件的功能"
   ]
  },
  {
   "cell_type": "code",
   "execution_count": 7,
   "id": "c5b25c04-2c63-4703-8090-a406e3136dce",
   "metadata": {
    "tags": []
   },
   "outputs": [],
   "source": [
    "import os\n",
    "\n",
    "def create_directory(directory):\n",
    "    \"\"\"\n",
    "    根据项目创建云盘目录\n",
    "    \"\"\"\n",
    "    base_path = \"/root/autodl-tmp/iquery项目/iquery云盘\"\n",
    "    full_path = os.path.join(base_path, directory)\n",
    "    # 如果目录不存在，则创建它\n",
    "    if not os.path.exists(full_path):\n",
    "        os.makedirs(full_path)\n",
    "        print(f\"目录 {directory} 创建成功\")\n",
    "    else:\n",
    "        print(f\"目录 {directory} 已存在\")\n"
   ]
  },
  {
   "cell_type": "code",
   "execution_count": 170,
   "id": "9180da7c-36ab-4069-af17-cf89d12f6daa",
   "metadata": {
    "tags": []
   },
   "outputs": [
    {
     "name": "stdout",
     "output_type": "stream",
     "text": [
      "目录 my_directory 创建成功\n"
     ]
    }
   ],
   "source": [
    "directory = \"my_directory\"\n",
    "create_directory(directory)"
   ]
  },
  {
   "cell_type": "raw",
   "id": "4c3409e9-f77b-444f-a484-03f1c4765b1b",
   "metadata": {},
   "source": [
    "操作doc文档\n",
    "\n",
    "pip install python-docx"
   ]
  },
  {
   "cell_type": "code",
   "execution_count": 8,
   "id": "bbe2e3dc-a3ef-4ba2-96dd-d6f37f12f1c2",
   "metadata": {
    "tags": []
   },
   "outputs": [],
   "source": [
    "import os\n",
    "from docx import Document\n",
    "\n",
    "def append_in_doc(folder_name, doc_name, qa_string):\n",
    "    \"\"\"\"\n",
    "    往文件里追加内容\n",
    "    @param folder_name=目录名，doc_name=文件名，qa_string=追加的内容\n",
    "    \"\"\"\n",
    "    base_path = \"/root/autodl-tmp/iquery项目/iquery云盘\"\n",
    "    ## 目录地址\n",
    "    full_path_folder=base_path+\"/\"+folder_name\n",
    "    ## 文件地址\n",
    "    full_path_doc = os.path.join(full_path_folder, doc_name)+\".doc\"\n",
    "    \n",
    "\n",
    "    # 检查目录是否存在，如果不存在则创建\n",
    "    if not os.path.exists(full_path_folder):\n",
    "        os.makedirs(full_path_folder)\n",
    "    \n",
    "    # 检查文件是否存在\n",
    "    if os.path.exists(full_path_doc):\n",
    "        # 文件存在，打开并追加内容\n",
    "        document = Document(full_path_doc)\n",
    "    else:\n",
    "        # 文件不存在，创建一个新的文档对象\n",
    "        document = Document()\n",
    "    # 追加内容\n",
    "    document.add_paragraph(qa_string)\n",
    "    # 保存文档\n",
    "    document.save(full_path_doc)\n",
    "    print(f\"内容已追加到 {doc_name}\")"
   ]
  },
  {
   "cell_type": "code",
   "execution_count": 172,
   "id": "bd9d74b7-922a-4e07-ab53-c112a249401b",
   "metadata": {
    "tags": []
   },
   "outputs": [
    {
     "name": "stdout",
     "output_type": "stream",
     "text": [
      "内容已追加到 example_doc\n"
     ]
    }
   ],
   "source": [
    "# 示例用法\n",
    "append_in_doc('my_directory', 'example_doc', '天青色等烟雨，而我在等你')"
   ]
  },
  {
   "cell_type": "markdown",
   "id": "f7a52952-6ead-4e91-88ec-17a2fd1eed65",
   "metadata": {},
   "source": [
    "## 1.2 之前的功能中融入文档记录的功能"
   ]
  },
  {
   "cell_type": "code",
   "execution_count": 168,
   "id": "eccf8c3f-caee-471b-9a49-4bf517316aa0",
   "metadata": {
    "tags": []
   },
   "outputs": [],
   "source": [
    "import openai\n",
    "import os\n",
    "import numpy as np\n",
    "import pandas as pd\n",
    "import json\n",
    "import io\n",
    "from openai import OpenAI\n",
    "import inspect\n",
    "import pymysql\n",
    "\n",
    "\n",
    "openai.api_key = os.getenv(\"OPENAI_API_KEY\")\n",
    "openai.api_base=\"https://newone.nxykj.tech/v1\"\n",
    "\n",
    "\n",
    "client = OpenAI(api_key=openai.api_key ,base_url=openai.api_base)"
   ]
  },
  {
   "cell_type": "code",
   "execution_count": 10,
   "id": "13200676-b166-43d9-96ef-4ed8df876235",
   "metadata": {
    "tags": []
   },
   "outputs": [],
   "source": [
    "def auto_functions(functions_list):\n",
    "    \"\"\"\n",
    "    Chat模型的functions参数编写函数\n",
    "    :param functions_list: 包含一个或者多个函数对象的列表；\n",
    "    :return：满足Chat模型functions参数要求的functions对象\n",
    "    \"\"\"\n",
    "    def functions_generate(functions_list):\n",
    "        # 创建空列表，用于保存每个函数的描述字典\n",
    "        functions = []\n",
    "        # 对每个外部函数进行循环\n",
    "        for function in functions_list:\n",
    "            # 读取函数对象的函数说明\n",
    "            function_description = inspect.getdoc(function)\n",
    "            # 读取函数的函数名字符串\n",
    "            function_name = function.__name__\n",
    "\n",
    "            system_prompt = '以下是某的函数说明：%s' % function_description\n",
    "            user_prompt = '根据这个函数的函数说明，请帮我创建一个JSON格式的字典，这个字典有如下5点要求：\\\n",
    "                           1.字典总共有三个键值对；\\\n",
    "                           2.第一个键值对的Key是字符串name，value是该函数的名字：%s，也是字符串；\\\n",
    "                           3.第二个键值对的Key是字符串description，value是该函数的函数的功能说明，也是字符串；\\\n",
    "                           4.第三个键值对的Key是字符串parameters，value是一个JSON Schema对象，用于说明该函数的参数输入规范。\\\n",
    "                           5.输出结果必须是一个JSON格式的字典，只输出这个字典即可，前后不需要任何前后修饰或说明的语句' % function_name\n",
    "\n",
    "            response = client.chat.completions.create(\n",
    "                              model=\"gpt-3.5-turbo\",\n",
    "                              messages=[\n",
    "                                {\"role\": \"system\", \"content\": system_prompt},\n",
    "                                {\"role\": \"user\", \"content\": user_prompt}\n",
    "                              ]\n",
    "                            )\n",
    "            json_function_description=json.loads(response.choices[0].message.content.replace(\"```\",\"\").replace(\"json\",\"\"))\n",
    "            json_str={\"type\": \"function\",\"function\":json_function_description}\n",
    "            functions.append(json_str)\n",
    "        return functions\n",
    "    \n",
    "    max_attempts = 4\n",
    "    attempts = 0\n",
    "\n",
    "    while attempts < max_attempts:\n",
    "        try:\n",
    "            functions = functions_generate(functions_list)\n",
    "            break  # 如果代码成功执行，跳出循环\n",
    "        except Exception as e:\n",
    "            attempts += 1  # 增加尝试次数\n",
    "            print(\"发生错误：\", e)\n",
    "            if attempts == max_attempts:\n",
    "                print(\"已达到最大尝试次数，程序终止。\")\n",
    "                raise  # 重新引发最后一个异常\n",
    "            else:\n",
    "                print(\"正在重新运行...\")\n",
    "    return functions"
   ]
  },
  {
   "cell_type": "code",
   "execution_count": 11,
   "id": "a3872aab-ed6d-42f5-89b0-e95aac3fe030",
   "metadata": {
    "tags": []
   },
   "outputs": [],
   "source": [
    "def run_conversation(messages, functions_list=None, model=\"gpt-3.5-turbo\"):\n",
    "    \"\"\"\n",
    "    能够自动执行外部函数调用的对话模型\n",
    "    :param messages: 必要参数，字典类型，输入到Chat模型的messages参数对象\n",
    "    :param functions_list: 可选参数，默认为None，可以设置为包含全部外部函数的列表对象\n",
    "    :param model: Chat模型，可选参数，默认模型为gpt-3.5-turbo\n",
    "    :return：Chat模型输出结果\n",
    "    \"\"\"\n",
    "    # 如果没有外部函数库，则执行普通的对话任务\n",
    "    if functions_list == None:\n",
    "        response = client.chat.completions.create(\n",
    "                        model=model,\n",
    "                        messages=messages,\n",
    "                        )\n",
    "        response_message = response.choices[0].message\n",
    "        final_response = response_message.content\n",
    "        \n",
    "    # 若存在外部函数库，则需要灵活选取外部函数并进行回答\n",
    "    else:\n",
    "        # 创建functions对象\n",
    "        tools = auto_functions(functions_list)\n",
    "        #tools = [{'type': 'function', 'function': {'name': 'sunwukong_function', 'description': '定义了数据集计算过程', 'parameters': {'type': 'object', 'properties': {'data': {'type': 'string', 'description': '表示带入计算的数据表，用字符串进行表示'}}, 'required': ['data']}}}, {'type': 'function', 'function': {'name': 'tangseng_function', 'description': '该函数定义了数据集计算过程', 'parameters': {'type': 'object', 'properties': {'data': {'type': 'string', 'description': '必要参数，表示带入计算的数据表，用字符串进行表示'}}, 'required': ['data']}}}]\n",
    "    \n",
    "\n",
    "        # 创建外部函数库字典\n",
    "        available_functions = {func.__name__: func for func in functions_list}\n",
    "\n",
    "        # 第一次调用大模型\n",
    "        response = client.chat.completions.create(\n",
    "                        model=model,\n",
    "                        messages=messages,\n",
    "                        tools=tools,\n",
    "                        tool_choice=\"auto\", )\n",
    "        response_message = response.choices[0].message\n",
    "\n",
    "        tool_calls = response_message.tool_calls\n",
    "        if tool_calls:\n",
    "            messages.append(response_message) \n",
    "            for tool_call in tool_calls:\n",
    "                function_name = tool_call.function.name\n",
    "                function_to_call = available_functions[function_name]\n",
    "                function_args = json.loads(tool_call.function.arguments)\n",
    "                function_response = function_to_call(**function_args)\n",
    "                messages.append(\n",
    "                    {\n",
    "                        \"tool_call_id\": tool_call.id,\n",
    "                        \"role\": \"tool\",\n",
    "                        \"name\": function_name,\n",
    "                        \"content\": function_response,\n",
    "                    }\n",
    "                ) \n",
    "            print(messages)\n",
    "            ## 第二次调用模型\n",
    "            second_response = client.chat.completions.create(\n",
    "                model=model,\n",
    "                messages=messages,\n",
    "            ) \n",
    "            # 获取最终结果\n",
    "            final_response = second_response.choices[0].message.content\n",
    "        else:\n",
    "            final_response = response_message.content\n",
    "                \n",
    "    return final_response"
   ]
  },
  {
   "cell_type": "code",
   "execution_count": 12,
   "id": "a868e8a3-45e5-4617-80ba-5cd2d8798931",
   "metadata": {
    "collapsed": true,
    "jupyter": {
     "outputs_hidden": true
    },
    "tags": []
   },
   "outputs": [
    {
     "data": {
      "text/plain": [
       "'# iquery数据字典：iquery数据库数据字典\\n\\n本数据字典记录了iquery数据库中各张数据表的基本情况。\\n\\n## 1.user_demographics数据表\\n\\n- 基本解释\\n\\n  \\u200b\\t\\tuser_demographics数据表记录了电信用户的个人基本情况，主要涵盖客户基本生物属性，包括性别、年龄状况、是否结婚以及是否经济独立等。\\n\\n- 数据来源\\n\\n  \\u200b\\tuser_demographics数据集由一线业务人员人工采集记录，并且通过回访确认相关信息，数据集的准确性和可信度都非常高。\\n\\n- 各字段说明\\n\\n| Column Name | Description | Value Range | Value Explanation | Type |\\n|-------------|-------------|-------------|-------------------|------|\\n| customerID | 客户ID，user_demographics数据表主键 |              | 由数字和字母组成的 | VARCHAR(255) |\\n| gender | 用户的性别 | Female, Male | Female (女性), Male (男性) | VARCHAR(255) |\\n| SeniorCitizen | 是否为老人 | 0, 1 | 0 (不是), 1 (是) | INT |\\n| Partner | 用户是否有伴侣 | Yes, No | Yes (有), No (没有) | VARCHAR(255) |\\n| Dependents | 用户经济是否独立，往往用于判断用户是否已经成年 | No, Yes | Yes (有), No (没有) | VARCHAR(255) |\\n\\n## 2.user_services数据表\\n\\n- 基本解释\\n\\n  \\u200b        user_services数据表记录了每位用户订购电信服务的基本情况，截至目前，电信服务商提供了种类多样的服务，包括电话类服务和网络类服务等，本数据集表记录了每位用户订阅电信服务的基本情况。\\n\\n- 数据来源\\n\\n  \\u200b\\t\\tuser_services数据表由后台系统自动创建生成，并未经过人工校验。\\n\\n- 各字段说明\\n\\n| Column Name | Description | Value Range | Value Explanation | Type |\\n|-------------|-------------|-------------|-------------------|------|\\n| customerID | 客户ID，user_services数据表主键 |  | 由数字和字母组成的 | VARCHAR(255) |\\n| PhoneService | 用户是否有电话服务 | No, Yes | Yes (有), No (没有) | VARCHAR(255) |\\n| MultipleLines | 用户是否开通了多条电话业务 | No phone service, No, Yes | Yes (有多条电话线业务), No (没有多条电话线业务), No phone service (没有电话服务) | VARCHAR(255) |\\n| InternetService | 用户的互联网服务类型 | DSL, Fiber optic, No | DSL (DSL), Fiber optic (光纤), No (没有) | VARCHAR(255) |\\n| OnlineSecurity | 是否开通网络安全服务 | No, Yes, No internet service | Yes（有）、No（无） or No internetservice（没有网路服务） | VARCHAR(255) |\\n| OnlineBackup | 是否开通在线备份服务 | Yes, No, No internet service | Yes（有）、No（无） or No internetservice（没有网路服务） | VARCHAR(255) |\\n| DeviceProtection | 是否开通设备保护服务 | No, Yes, No internet service | Yes（有）、No（无） or No internetservice（没有网路服务） | VARCHAR(255) |\\n| TechSupport | 是否开通技术支持业务 | No, Yes, No internet service | Yes（有）、No（无） or No internetservice（没有网路服务） | VARCHAR(255) |\\n| StreamingTV | 是否开通网络电视 | No, Yes, No internet service | Yes（有）、No（无） or No internetservice（没有网路服务） | VARCHAR(255) |\\n| StreamingMovies | 是否开通网络电影 | No, Yes, No internet service | Yes（有）、No（无） or No internetservice（没有网路服务） | VARCHAR(255) |\\n\\n## 3.user_payments数据表\\n\\n- 基本解释\\n\\n  \\u200b\\t\\tuser_payments数据表记录了每一位用户支付状况，既包括用户的支付方式和合同类型，同时也包含用户具体支付金额，包括月付金额和总金额等。\\n\\n- 数据来源\\n\\n  \\u200b\\t\\tuser_payments数据表由后台自动记录生成，并未经过校验。\\n\\n- 各字段说明\\n\\n| Column Name | Description | Value Range | Value Explanation | Type |\\n|-------------|-------------|-------------|-------------------|------|\\n| customerID | 客户ID，user_payments数据表主键 |  | 由数字和字母组成的 | VARCHAR(255) |\\n| Contract | 合同类型 | Month-to-month, One year, Two year | Month-to-month (月付), One year (一年付), Two year (两年付) | VARCHAR(255) |\\n| PaperlessBilling | 是否无纸化账单 | Yes, No | Yes (是), No (否) | VARCHAR(255) |\\n| PaymentMethod | 支付方式 | Electronic check, Mailed check, Bank transfer (automatic), Credit card (automatic) | Electronic check (电子检查), Mailed check (邮寄支票), Bank transfer (automatic) (银行转账), Credit card (automatic) (信用卡) | VARCHAR(255) |\\n| MonthlyCharges | 月费用 |  | 用户平均每月支付费用 | FLOAT        |\\n| TotalCharges | 总费用 |  | 截至目前用户总消费金额 | VARCHAR(255) |\\n\\n## 4.user_churn\\n\\n- 基本解释\\n\\n  \\u200b\\t\\tuser_churn数据表记录了当前用户流失情况。\\n\\n- 数据来源\\n\\n  \\u200b\\t\\tuser_churn数据表由后台自动创建并记录，当合同截至后但用户未续费，则判断该用户目前处于流失状态。\\n\\n- 各字段说明\\n\\n| Column Name | Description | Value Range | Value Explanation | Type |\\n|-------------|-------------|-------------|-------------------|------|\\n| customerID | 客户ID，user_churn数据表主键 |             | 由数字和字母组成的 | VARCHAR(255) |\\n| Churn | 用户是否流失 | No, Yes | Yes (是), No (否) | VARCHAR(255) |\\n\\n'"
      ]
     },
     "execution_count": 12,
     "metadata": {},
     "output_type": "execute_result"
    }
   ],
   "source": [
    "# 打开并读取Markdown文件\n",
    "with open('/root/autodl-tmp/iquery项目/data/数据字典/iquery数据字典.md', 'r', encoding='utf-8') as f:\n",
    "    md_content = f.read()\n",
    "    \n",
    "md_content"
   ]
  },
  {
   "cell_type": "code",
   "execution_count": 13,
   "id": "89ae10e5-f6f2-432a-b19b-85b6a6242887",
   "metadata": {
    "tags": []
   },
   "outputs": [],
   "source": [
    "def sql_inter(sql_query):\n",
    "    \"\"\"\n",
    "    用于获取iquery数据库中各张表的有关相关信息，\\\n",
    "    核心功能是将输入的SQL代码传输至iquery数据库所在的MySQL环境中进行运行，\\\n",
    "    并最终返回SQL代码运行结果。需要注意的是，本函数是借助pymysql来连接MySQL数据库。\n",
    "    :param sql_query: 字符串形式的SQL查询语句，用于执行对MySQL中iquery数据库中各张表进行查询，并获得各表中的各类相关信息\n",
    "    :return：sql_query在MySQL中的运行结果。\n",
    "    \"\"\"\n",
    "    \n",
    "    mysql_pw = \"iquery_agent\"\n",
    "    \n",
    "    connection = pymysql.connect(\n",
    "            host='localhost',  # 数据库地址\n",
    "            user='iquery_agent',  # 数据库用户名\n",
    "            passwd=mysql_pw,  # 数据库密码\n",
    "            db='iquery',  # 数据库名\n",
    "            charset='utf8'  # 字符集选择utf8\n",
    "        )\n",
    "    \n",
    "    try:\n",
    "        with connection.cursor() as cursor:\n",
    "            # SQL查询语句\n",
    "            sql = sql_query\n",
    "            cursor.execute(sql)\n",
    "\n",
    "            # 获取查询结果\n",
    "            results = cursor.fetchall()\n",
    "\n",
    "    finally:\n",
    "        connection.close()\n",
    "    \n",
    "    \n",
    "    return json.dumps(results)"
   ]
  },
  {
   "cell_type": "code",
   "execution_count": 19,
   "id": "3e7b7b5f-cd20-4d10-a8f2-4f46f4e707f3",
   "metadata": {
    "tags": []
   },
   "outputs": [],
   "source": [
    "functions_list = [sql_inter]"
   ]
  },
  {
   "cell_type": "code",
   "execution_count": 14,
   "id": "82c8de4b-979b-42d7-98b2-a94c6d3513b4",
   "metadata": {
    "tags": []
   },
   "outputs": [],
   "source": [
    "import ast\n",
    "\n",
    "def extract_sql(str):\n",
    "    # 使用literal_eval将字符串转换为字典\n",
    "    dict_data = ast.literal_eval(json.dumps(str))\n",
    "\n",
    "    # 提取'sql_query'的值\n",
    "    sql_query_value = dict_data['sql_query']+\"\"\n",
    "    # 提取并返回'sql_query'的值\n",
    "    return sql_query_value"
   ]
  },
  {
   "cell_type": "code",
   "execution_count": 90,
   "id": "46d28172-f0e4-440e-b5ed-962704c7c437",
   "metadata": {
    "tags": []
   },
   "outputs": [],
   "source": [
    "# import ast\n",
    "\n",
    "# def extract_sql(str):\n",
    "#     # 使用literal_eval将字符串转换为字典\n",
    "#     dict_data = json.loads(str)\n",
    "\n",
    "#     # 提取'sql_query'的值\n",
    "#     sql_query_value = dict_data['sql_query']\n",
    "#     # 提取并返回'sql_query'的值\n",
    "#     return sql_query_value"
   ]
  },
  {
   "cell_type": "code",
   "execution_count": 15,
   "id": "77ee67cd-42fe-445a-94fb-6e0250720b85",
   "metadata": {
    "tags": []
   },
   "outputs": [],
   "source": [
    "def check_code_run(messages, functions_list=None, model=\"gpt-3.5-turbo\",auto_run = True):\n",
    "    \"\"\"\n",
    "    能够自动执行外部函数调用的对话模型\n",
    "    :param messages: 必要参数，字典类型，输入到Chat模型的messages参数对象\n",
    "    :param functions_list: 可选参数，默认为None，可以设置为包含全部外部函数的列表对象\n",
    "    :param model: Chat模型，可选参数，默认模型为gpt-3.5-turbo\n",
    "    :return：Chat模型输出结果\n",
    "    \"\"\"\n",
    "    # 如果没有外部函数库，则执行普通的对话任务\n",
    "    if functions_list == None:\n",
    "        response = client.chat.completions.create(\n",
    "                        model=model,\n",
    "                        messages=messages,\n",
    "                        )\n",
    "        response_message = response.choices[0].message\n",
    "        final_response = response_message.content\n",
    "        \n",
    "    # 若存在外部函数库，则需要灵活选取外部函数并进行回答\n",
    "    else:\n",
    "        # 创建functions对象\n",
    "        tools = auto_functions(functions_list)\n",
    "        \n",
    "\n",
    "        # 创建外部函数库字典\n",
    "        available_functions = {func.__name__: func for func in functions_list}\n",
    "\n",
    "        # 第一次调用大模型\n",
    "        response = client.chat.completions.create(\n",
    "                        model=model,\n",
    "                        messages=messages,\n",
    "                        tools=tools,\n",
    "                        tool_choice=\"auto\", )\n",
    "        response_message = response.choices[0].message\n",
    "        tool_calls = response_message.tool_calls\n",
    "        if tool_calls:\n",
    "            messages.append(response_message) \n",
    "            for tool_call in tool_calls:\n",
    "                function_name = tool_call.function.name\n",
    "                function_to_call = available_functions[function_name]\n",
    "                function_args = json.loads(tool_call.function.arguments)\n",
    "              \n",
    "                if auto_run == False:\n",
    "                    print(\"SQL字符串的数据类型\")\n",
    "                    print(type(function_args))\n",
    "                    sql_query = extract_sql(function_args)\n",
    "                \n",
    "                    res = input('即将执行以下代码：%s。是否确认并继续执行（1），或者退出本次运行过程（2）' % sql_query)\n",
    "                    if res == '2':\n",
    "                        print(\"终止运行\")\n",
    "                        return None\n",
    "                    else:\n",
    "                        print(\"正在执行代码，请稍后...\")\n",
    "                        \n",
    "                function_response = function_to_call(**function_args)\n",
    "                messages.append(\n",
    "                    {\n",
    "                        \"tool_call_id\": tool_call.id,\n",
    "                        \"role\": \"tool\",\n",
    "                        \"name\": function_name,\n",
    "                        \"content\": function_response,\n",
    "                    }\n",
    "                ) \n",
    "            ## 第二次调用模型\n",
    "            second_response = client.chat.completions.create(\n",
    "                model=model,\n",
    "                messages=messages,\n",
    "            ) \n",
    "            # 获取最终结果\n",
    "            final_response = second_response.choices[0].message.content\n",
    "        else:\n",
    "            final_response = response_message.content\n",
    "    del messages\n",
    "                \n",
    "    return final_response"
   ]
  },
  {
   "cell_type": "code",
   "execution_count": 16,
   "id": "c0326a6b-8d04-440d-a220-4b741954c11c",
   "metadata": {
    "tags": []
   },
   "outputs": [],
   "source": [
    "import tiktoken\n",
    "\n",
    "def chat_with_inter(functions_list=None, \n",
    "                    prompt=\"你好呀\", \n",
    "                    model=\"gpt-3.5-turbo\", \n",
    "                    system_message=[{\"role\": \"system\", \"content\": \"你是一个智能助手。\"}], \n",
    "                    auto_run = True):\n",
    "    \n",
    "    print(\"正在初始化外部函数库\")\n",
    "    # 创建函数列表对应的参数解释列表\n",
    "    functions = auto_functions(functions_list)\n",
    "    print(\"外部函数库初始化完成\")\n",
    "    project_name = input(\"请输入当前分析项目名称：\")\n",
    "    folder_name = create_directory(project_name)\n",
    "    print(\"已完成数据分析文件创建\")\n",
    "    doc_name = input(\"请输入当前分析需求，如数据清理，数据处理，数据分析段等：\")\n",
    "    doc_name += '问答'\n",
    "    print(\"好的，即将进入交互式分析流程\")\n",
    "    # 多轮对话阈值\n",
    "  # 多轮对话阈值\n",
    "    if 'gpt-4' in model:\n",
    "        tokens_thr = 6000\n",
    "    elif '16k' in model:\n",
    "        tokens_thr = 14000\n",
    "    else:\n",
    "        tokens_thr = 3000\n",
    "    \n",
    "    messages = system_message\n",
    "    ## 完成给用户输入的问题赋值\n",
    "    user_input = prompt\n",
    "    messages.append({\"role\": \"user\", \"content\": prompt})\n",
    "    ## 计算token大小\n",
    "    embedding_model = \"text-embedding-ada-002\"\n",
    "    # 模型对应的分词器（TOKENIZER）\n",
    "    embedding_encoding = \"cl100k_base\"\n",
    "    encoding = tiktoken.get_encoding(embedding_encoding)\n",
    "    tokens_count = len(encoding.encode((prompt + system_message[0][\"content\"])))\n",
    "    \n",
    "    while True:           \n",
    "        answer = check_code_run(messages, \n",
    "                                functions_list=functions_list, \n",
    "                                model=model, \n",
    "                                auto_run = auto_run)\n",
    "        \n",
    "        \n",
    "        print(f\"模型回答: {answer}\")\n",
    "        \n",
    "        #####################判断是否记录文档 start#######################\n",
    "        while True:\n",
    "            record = input('是否记录本次回答（1），还是再次输入问题并生成该问题答案（2）')\n",
    "            if record == '1':\n",
    "                \n",
    "                Q_temp = 'Q:' + user_input\n",
    "                A_temp = 'A:' + answer\n",
    "                \n",
    "                append_in_doc(folder_name=project_name, \n",
    "                                               doc_name=doc_name, \n",
    "                                               qa_string=Q_temp)\n",
    "                append_in_doc(folder_name=project_name, \n",
    "                                               doc_name=doc_name, \n",
    "                                               qa_string=A_temp)\n",
    "                \n",
    "                # 记录本轮问题答案\n",
    "                messages.append({\"role\": \"assistant\", \"content\": answer})\n",
    "                break\n",
    "            else:\n",
    "                print('好的，请再次输入问题')\n",
    "                user_input = input()\n",
    "                messages[-1][\"content\"] = user_input\n",
    "                answer = check_code_run(messages, \n",
    "                                        functions_list=functions_list,                                      \n",
    "                                        model=model,                                       \n",
    "                                        auto_run = auto_run)  \n",
    "                \n",
    "                print(f\"模型回答: {answer}\")\n",
    "                \n",
    "        ########################判断是否记录文档 stop #######################\n",
    "        \n",
    "\n",
    "        # 询问用户是否还有其他问题\n",
    "        user_input = input(\"您还有其他问题吗？(输入退出以结束对话): \")\n",
    "        if user_input == \"退出\":\n",
    "            del messages\n",
    "            break\n",
    "\n",
    "        # 记录新一轮问答\n",
    "        messages.append({\"role\": \"assistant\", \"content\": answer})\n",
    "        messages.append({\"role\": \"user\", \"content\": user_input})\n",
    "        \n",
    "        # 计算当前总token数\n",
    "        tokens_count += len(encoding.encode((answer + user_input)))\n",
    "        \n",
    "        # 删除超出token阈值的对话内容\n",
    "        while tokens_count >= tokens_thr:\n",
    "            tokens_count -= len(encoding.encode(messages.pop(1)[\"content\"]))"
   ]
  },
  {
   "cell_type": "code",
   "execution_count": 20,
   "id": "334f77b3-7685-4fbd-b88d-a62c7487dc84",
   "metadata": {
    "tags": []
   },
   "outputs": [
    {
     "data": {
      "text/plain": [
       "[<function __main__.sql_inter(sql_query)>]"
      ]
     },
     "execution_count": 20,
     "metadata": {},
     "output_type": "execute_result"
    }
   ],
   "source": [
    "functions_list"
   ]
  },
  {
   "cell_type": "code",
   "execution_count": 22,
   "id": "adea8bcf-4909-489c-9b27-ce83e80005c8",
   "metadata": {
    "tags": []
   },
   "outputs": [
    {
     "name": "stdout",
     "output_type": "stream",
     "text": [
      "正在初始化外部函数库\n",
      "外部函数库初始化完成\n"
     ]
    },
    {
     "name": "stdin",
     "output_type": "stream",
     "text": [
      "请输入当前分析项目名称： 数据分析测试\n"
     ]
    },
    {
     "name": "stdout",
     "output_type": "stream",
     "text": [
      "目录 数据分析测试 创建成功\n",
      "已完成数据分析文件创建\n"
     ]
    },
    {
     "name": "stdin",
     "output_type": "stream",
     "text": [
      "请输入当前分析需求，如数据清理，数据处理，数据分析段等： 数据分析\n"
     ]
    },
    {
     "name": "stdout",
     "output_type": "stream",
     "text": [
      "好的，即将进入交互式分析流程\n",
      "SQL字符串的数据类型\n",
      "<class 'dict'>\n"
     ]
    },
    {
     "name": "stdin",
     "output_type": "stream",
     "text": [
      "即将执行以下代码：SHOW TABLES。是否确认并继续执行（1），或者退出本次运行过程（2） 1\n"
     ]
    },
    {
     "name": "stdout",
     "output_type": "stream",
     "text": [
      "正在执行代码，请稍后...\n",
      "模型回答: 在iquery数据库中，共有8张表：\n",
      "\n",
      "1. user_churn: 记录了当前用户的流失情况。\n",
      "2. user_churn_new: 该表是user_churn表的一个备份表。\n",
      "3. user_demographics: 记录了电信用户的个人基本情况，包括性别、年龄等属性信息。\n",
      "4. user_demographics_new: 该表是user_demographics表的一个备份表。\n",
      "5. user_payments: 记录了每位用户的支付情况，包括合同类型、支付方式、月费用等信息。\n",
      "6. user_payments_new: 该表是user_payments表的一个备份表。\n",
      "7. user_services: 记录了每位用户订阅的电信服务情况，包括电话服务、互联网服务等信息。\n",
      "8. user_services_new: 该表是user_services表的一个备份表。\n",
      "\n",
      "以上是该数据库中的所有表。\n"
     ]
    },
    {
     "name": "stdin",
     "output_type": "stream",
     "text": [
      "是否记录本次回答（1），还是再次输入问题并生成该问题答案（2） 1\n"
     ]
    },
    {
     "name": "stdout",
     "output_type": "stream",
     "text": [
      "内容已追加到 数据分析问答\n",
      "内容已追加到 数据分析问答\n"
     ]
    },
    {
     "name": "stdin",
     "output_type": "stream",
     "text": [
      "您还有其他问题吗？(输入退出以结束对话):  退出\n"
     ]
    }
   ],
   "source": [
    "chat_with_inter(functions_list=functions_list, \n",
    "                prompt=\"介绍一下iquery数据库中的表的情况\", \n",
    "                model=\"gpt-3.5-turbo-16k\", \n",
    "                system_message=[{\"role\": \"system\", \"content\": md_content}], \n",
    "                auto_run = False)"
   ]
  },
  {
   "cell_type": "markdown",
   "id": "b826c638-8cda-4e0a-aaa0-d7c746b2f3cb",
   "metadata": {},
   "source": [
    "# 2. 数据分析报告撰写初探"
   ]
  },
  {
   "cell_type": "markdown",
   "id": "9bb7d257-792f-464f-9944-575ae59ee49b",
   "metadata": {},
   "source": [
    "## 2.1 学习本公司的数据分析业务知识"
   ]
  },
  {
   "cell_type": "code",
   "execution_count": 23,
   "id": "4c5c7b63-99dd-4c43-b002-fb3472474b78",
   "metadata": {
    "tags": []
   },
   "outputs": [],
   "source": [
    "# 读取业务知识文档\n",
    "with open('/root/autodl-tmp/iquery项目/data/业务知识/本公司数据分析师业务介绍.md', 'r', encoding='utf-8') as f:\n",
    "    da_instruct = f.read()"
   ]
  },
  {
   "cell_type": "code",
   "execution_count": 191,
   "id": "a1bdb4c9-1f92-40a4-8953-0559e4e8fe62",
   "metadata": {
    "tags": []
   },
   "outputs": [
    {
     "data": {
      "text/markdown": [
       "1.你是一名资深数据分析师，擅长挖掘数字规律并进行深度分析，并擅长编写数据分析报告。\n",
       "\n",
       "2.目前你正在参与一个名为电信用户行为分析的数据分析项目当中，这个项目的核心目的是分析当前电信用户相关数据，并对用户流失情况进行分析。\n",
       "\n",
       "3.电信用户流失项目允许使用存储在MySQL中的一个名为iquery的数据集，该数据集中包含了全部和电信用户流失相关的数据集。\n",
       "\n",
       "4.你目前的核心职责是编写数据分析报告，你能够获得一系列技术人员探索得到的基本结论，也就是一系列前期问答文本，需要在此基础之上编写完善、权威、且容易阅读的数据分析报告。\n",
       "\n",
       "5.你编写的数据分析报告需要分模块进行编写，一篇完整的数据分析报告必须包括以下四个内容模块，分别为数据探索、数据质量校验、数据清洗、数据分析，以下分别解释每个内容模块必须包含的内容：\n",
       "\n",
       "- **问题定义**：明确要回答的问题或达到的目标。\n",
       "- **数据获取**：找到并收集需要的数据。数据可以来自多种来源，比如数据库，网络，第三方API等。\n",
       "- **数据清洗和预处理**：去除无用、重复、错误的数据，处理缺失值，可能还需要进行数据类型转换、数据归一化等操作。\n",
       "- **数据探索和理解**：通过统计分析，可视化等方式对数据进行深入理解，找到数据的规律和特点。\n",
       "- **数据建模**：选择合适的算法和模型，如回归分析，决策树，神经网络等，对数据进行建模。\n",
       "- **模型训练和评估**：使用训练数据集对模型进行训练，并用测试数据集进行模型评估，如准确率，召回率，F1值等。\n",
       "- **结果解释和报告**：将分析和模型结果进行整理和解释，形成报告，为决策提供支持。\n",
       "- **模型部署和监控**：将模型部署到实际业务中，并进行持续的监控和优化。"
      ],
      "text/plain": [
       "<IPython.core.display.Markdown object>"
      ]
     },
     "metadata": {},
     "output_type": "display_data"
    }
   ],
   "source": [
    "from IPython.display import display, Markdown, Code\n",
    "\n",
    "display(Markdown(da_instruct))"
   ]
  },
  {
   "cell_type": "code",
   "execution_count": 24,
   "id": "60546d44-69c0-49e9-8236-1ace1558fbca",
   "metadata": {
    "tags": []
   },
   "outputs": [],
   "source": [
    "## 实现根据项目和文件获取文件内容的方法\n",
    "\n",
    "from docx import Document\n",
    "import os\n",
    "\n",
    "def get_file_content(project_name, file_name):\n",
    "    \"\"\"\n",
    "    实现根据项目名和文件名获取文件内容的方法\n",
    "    @param project_name:项目名，file_name：文件名\n",
    "    @return 文件内容\n",
    "    \"\"\"\n",
    "    # 构建文件的完整路径\n",
    "    base_path = \"/root/autodl-tmp/iquery项目/iquery云盘\"\n",
    "    file_path = os.path.join(project_name, file_name)\n",
    "    full_path = os.path.join(base_path, file_path)+\".doc\"\n",
    "    print(\"打印文件路径：\"+full_path)\n",
    "    \n",
    "    # 确保文件存在\n",
    "    if not os.path.exists(full_path):\n",
    "        return \"文件不存在\"\n",
    "    \n",
    "    try:\n",
    "        # 加载文档\n",
    "        doc = Document(full_path)\n",
    "        content = []\n",
    "        \n",
    "        # 遍历文档中的每个段落，并收集文本\n",
    "        for para in doc.paragraphs:\n",
    "            content.append(para.text)\n",
    "        \n",
    "        # 将所有段落文本合并成一个字符串返回\n",
    "        return '\\n'.join(content)\n",
    "    except Exception as e:\n",
    "        return f\"读取文件时发生错误: {e}\"\n"
   ]
  },
  {
   "cell_type": "code",
   "execution_count": 193,
   "id": "ec31dd58-aad0-4de2-9926-1e270788c372",
   "metadata": {
    "tags": []
   },
   "outputs": [
    {
     "name": "stdout",
     "output_type": "stream",
     "text": [
      "打印文件路径：/root/autodl-tmp/iquery项目/iquery云盘/电信用户行为分析/数据分析问答.doc\n"
     ]
    }
   ],
   "source": [
    "file_content = get_file_content('电信用户行为分析', '数据分析问答')"
   ]
  },
  {
   "cell_type": "code",
   "execution_count": 194,
   "id": "0563275a-dbee-4cd8-b369-e9d7bd81168a",
   "metadata": {
    "tags": []
   },
   "outputs": [
    {
     "data": {
      "text/markdown": [
       "Q:介绍一下iquery数据库中的表的情况\n",
       "A:iquery数据库中共有8张数据表，它们分别是：\n",
       "\n",
       "1. user_churn: 记录了当前用户的流失情况。\n",
       "2. user_churn_new: 一个新的用户流失数据表，可能包含了一些更新的数据。\n",
       "3. user_demographics: 记录了电信用户的个人基本情况，包括性别、年龄状况、是否结婚以及是否经济独立等。\n",
       "4. user_demographics_new: 一个新的用户个人基本情况数据表，可能包含了一些更新的数据。\n",
       "5. user_payments: 记录了每一位用户的支付情况，包括支付方式、合同类型和具体支付金额等。\n",
       "6. user_payments_new: 一个新的用户支付情况数据表，可能包含了一些更新的数据。\n",
       "7. user_services: 记录了每位用户订购电信服务的情况，包括电话服务、互联网服务和网络电视等。\n",
       "8. user_services_new: 一个新的用户订购电信服务的情况数据表，可能包含了一些更新的数据。\n",
       "\n",
       "以上是iquery数据库中的数据表情况。\n",
       "Q:user_demographics表里面男性和女性的人数占比分别是多少？\n",
       "A:在user_demographics数据表中，男性的人数为2744人，女性的人数为2609人。所以男性人数占比约为51.24%，女性人数占比约为48.76%。\n",
       "Q:看一下这个表user_payments里面有哪些字段？\n",
       "A:user_payments表中的字段如下：\n",
       "\n",
       "1. customerID: 客户ID，主键列，类型为varchar(255)\n",
       "2. Contract: 合同类型，类型为varchar(255)\n",
       "3. PaperlessBilling: 是否无纸化账单，类型为varchar(255)\n",
       "4. PaymentMethod: 支付方式，类型为varchar(255)\n",
       "5. MonthlyCharges: 月费用，类型为float\n",
       "6. TotalCharges: 总费用，类型为varchar(255)\n",
       "\n",
       "以上是user_payments表中的字段信息。"
      ],
      "text/plain": [
       "<IPython.core.display.Markdown object>"
      ]
     },
     "metadata": {},
     "output_type": "display_data"
    }
   ],
   "source": [
    "display(Markdown(file_content))"
   ]
  },
  {
   "cell_type": "code",
   "execution_count": 195,
   "id": "d49a1b24-51f1-491a-9661-e26188f61f73",
   "metadata": {
    "tags": []
   },
   "outputs": [],
   "source": [
    "# 读取数据字典\n",
    "with open('/root/autodl-tmp/iquery项目/data/数据字典/iquery数据字典.md', 'r', encoding='utf-8') as f:\n",
    "    md_content = f.read()"
   ]
  },
  {
   "cell_type": "code",
   "execution_count": 196,
   "id": "2592e702-970e-4661-ae00-0dffbd4b9a7f",
   "metadata": {
    "tags": []
   },
   "outputs": [
    {
     "name": "stdout",
     "output_type": "stream",
     "text": [
      "打印文件路径：/root/autodl-tmp/iquery项目/iquery云盘/电信用户行为分析/数据分析问答.doc\n"
     ]
    }
   ],
   "source": [
    "# 读取问答结果\n",
    "file_content = get_file_content('电信用户行为分析', '数据分析问答')"
   ]
  },
  {
   "cell_type": "code",
   "execution_count": 197,
   "id": "0d9067bd-5669-4e3a-a589-5aaa9fc9503c",
   "metadata": {
    "tags": []
   },
   "outputs": [],
   "source": [
    "# 读取业务知识文档\n",
    "with open('/root/autodl-tmp/iquery项目/data/业务知识/本公司数据分析师业务介绍.md', 'r', encoding='utf-8') as f:\n",
    "    da_instruct = f.read()"
   ]
  },
  {
   "cell_type": "code",
   "execution_count": 198,
   "id": "24dc2bcc-fd0d-427b-bd7e-50d1216e5f8e",
   "metadata": {
    "tags": []
   },
   "outputs": [
    {
     "data": {
      "text/markdown": [
       "## 数据探索和理解\n",
       "\n",
       "在电信用户行为分析项目中，数据探索和理解是非常重要的一步。通过对数据的深入分析，我们可以找到数据的规律和特点，为后续的数据清洗和分析提供指导和依据。\n",
       "\n",
       "本部分将对iquery数据库中的数据进行探索和分析，重点关注用户个人基本情况、订购电信服务情况以及支付情况等方面。下面是具体的数据探索和理解分析结果：\n",
       "\n",
       "### 用户个人基本情况分析：\n",
       "\n",
       "**性别分布分析：**\n",
       "\n",
       "根据user_demographics数据表，我们可以看到数据库中共有5353个客户的个人基本信息。其中，男性用户的数量为2744人，女性用户的数量为2609人。通过计算，我们可以得出男性用户占比为51.24%，女性用户占比为48.76%。\n",
       "\n",
       "### 订购电信服务情况分析：\n",
       "\n",
       "**电话服务情况分析：**\n",
       "\n",
       "根据user_services数据表，用户中开通电话服务的人数为6361人，占总用户数的63.72%；没有开通电话服务的人数为3498人，占总用户数的34.99%；有部分用户没有记录电话服务情况。\n",
       "\n",
       "**互联网服务情况分析：**\n",
       "\n",
       "根据user_services数据表，用户中开通互联网服务的人数为5517人，占总用户数的55.28%；没有开通互联网服务的人数为3361人，占总用户数的33.68%；有部分用户没有记录互联网服务情况。\n",
       "\n",
       "**网络电视服务情况分析：**\n",
       "\n",
       "根据user_services数据表，用户中开通网络电视服务的人数为3780人，占总用户数的37.86%；没有开通网络电视服务的人数为2812人，占总用户数的28.15%；有部分用户没有记录网络电视服务情况。\n",
       "\n",
       "### 支付情况分析：\n",
       "\n",
       "**合同类型分析：**\n",
       "\n",
       "根据user_payments数据表，用户中选择月付合同的人数为3875人，占总用户数的38.81%；选择一年付合同的人数为1473人，占总用户数的14.74%；选择两年付合同的人数为1695人，占总用户数的16.97%。\n",
       "\n",
       "**纸质账单使用情况分析：**\n",
       "\n",
       "根据user_payments数据表，选择无纸化账单的人数为3366人，占总用户数的33.70%；选择纸质账单的人数为2770人，占总用户数的27.73%。\n",
       "\n",
       "**支付方式分析：**\n",
       "\n",
       "根据user_payments数据表，用户中选择电子支票作为支付方式的人数为2365人，占总用户数的23.67%；选择邮寄支票的人数为1522人，占总用户数的15.24%；选择银行转账的人数为1543人，占总用户数的15.43%；选择信用卡支付的人数为2264人，占总用户数的22.64%。\n",
       "\n",
       "通过以上数据的探索和分析，我们对电信用户的个人基本情况、订购电信服务情况和支付情况等有了初步的了解。下一步，我们将进行数据质量校验，并进行数据清洗和预处理。"
      ],
      "text/plain": [
       "<IPython.core.display.Markdown object>"
      ]
     },
     "metadata": {},
     "output_type": "display_data"
    }
   ],
   "source": [
    "messages=[\n",
    "            {\"role\": \"system\", \"content\": da_instruct}, \n",
    "            {\"role\": \"system\", \"content\": 'iquery数据库数据字典:%s' % md_content}, \n",
    "            {\"role\": \"system\", \"content\": '数据探索和理解阶段问答文本:%s' % file_content}, \n",
    "            {\"role\": \"user\", \"content\": \"请帮我编写电信用户行为分析的分析报告中的数据探索和理解部分内容\"}\n",
    "        ]\n",
    "\n",
    "response = client.chat.completions.create(\n",
    "        model=\"gpt-3.5-turbo-16k\",\n",
    "        messages=messages,\n",
    "    )\n",
    "\n",
    "display(Markdown(response.choices[0].message.content))"
   ]
  },
  {
   "cell_type": "markdown",
   "id": "0fa2dec2-085e-44d2-91c0-76d6ee16478d",
   "metadata": {},
   "source": [
    "# 3. 实现本地Python代码解释器"
   ]
  },
  {
   "cell_type": "code",
   "execution_count": 25,
   "id": "1fc1c2ef-aacf-407f-99f5-0e4f20d0b230",
   "metadata": {
    "tags": []
   },
   "outputs": [],
   "source": [
    "def extract_data(sql_query,df_name):\n",
    "    \"\"\"\n",
    "    用于借助pymysql，将MySQL中的iquery数据库中的表读取并保存到本地Python环境中。\n",
    "    :param sql_query: 字符串形式的SQL查询语句，用于提取MySQL中iquery数据库中的某张表。\n",
    "    :param df_name: 将MySQL数据库中提取的表格进行本地保存时的变量名，以字符串形式表示。\n",
    "    :return：表格读取和保存结果\n",
    "    \"\"\"\n",
    "    \n",
    "    mysql_pw = \"iquery_agent\"\n",
    "    \n",
    "    connection = pymysql.connect(\n",
    "            host='localhost',  # 数据库地址\n",
    "            user='iquery_agent',  # 数据库用户名\n",
    "            passwd=mysql_pw,  # 数据库密码\n",
    "            db='iquery',  # 数据库名\n",
    "            charset='utf8'  # 字符集选择utf8\n",
    "        )\n",
    "    \n",
    "    \n",
    "    globals()[df_name] = pd.read_sql(sql_query, connection)\n",
    "    \n",
    "    return \"已成功完成%s变量创建\" % df_name"
   ]
  },
  {
   "cell_type": "code",
   "execution_count": 26,
   "id": "612375f0-cb81-46f5-ad65-9a9b4e0be162",
   "metadata": {
    "tags": []
   },
   "outputs": [],
   "source": [
    "sql_query = \"SELECT * FROM user_demographics LIMIT 10\""
   ]
  },
  {
   "cell_type": "code",
   "execution_count": 27,
   "id": "08f5870f-49dc-45e5-bf9c-e7b15bd1274b",
   "metadata": {
    "tags": []
   },
   "outputs": [
    {
     "name": "stderr",
     "output_type": "stream",
     "text": [
      "/tmp/ipykernel_150812/966933623.py:20: UserWarning: pandas only supports SQLAlchemy connectable (engine/connection) or database string URI or sqlite3 DBAPI2 connection. Other DBAPI2 objects are not tested. Please consider using SQLAlchemy.\n",
      "  globals()[df_name] = pd.read_sql(sql_query, connection)\n"
     ]
    },
    {
     "data": {
      "text/plain": [
       "'已成功完成test_dataframe变量创建'"
      ]
     },
     "execution_count": 27,
     "metadata": {},
     "output_type": "execute_result"
    }
   ],
   "source": [
    "data_name = \"test_dataframe\"\n",
    "extract_data(sql_query,data_name)"
   ]
  },
  {
   "cell_type": "code",
   "execution_count": 28,
   "id": "507e3182-d342-4e9a-a280-49adc822bf9c",
   "metadata": {
    "tags": []
   },
   "outputs": [
    {
     "data": {
      "text/html": [
       "<div>\n",
       "<style scoped>\n",
       "    .dataframe tbody tr th:only-of-type {\n",
       "        vertical-align: middle;\n",
       "    }\n",
       "\n",
       "    .dataframe tbody tr th {\n",
       "        vertical-align: top;\n",
       "    }\n",
       "\n",
       "    .dataframe thead th {\n",
       "        text-align: right;\n",
       "    }\n",
       "</style>\n",
       "<table border=\"1\" class=\"dataframe\">\n",
       "  <thead>\n",
       "    <tr style=\"text-align: right;\">\n",
       "      <th></th>\n",
       "      <th>customerID</th>\n",
       "      <th>gender</th>\n",
       "      <th>SeniorCitizen</th>\n",
       "      <th>Partner</th>\n",
       "      <th>Dependents</th>\n",
       "    </tr>\n",
       "  </thead>\n",
       "  <tbody>\n",
       "    <tr>\n",
       "      <th>0</th>\n",
       "      <td>0003-MKNFE</td>\n",
       "      <td>Male</td>\n",
       "      <td>0</td>\n",
       "      <td>No</td>\n",
       "      <td>No</td>\n",
       "    </tr>\n",
       "    <tr>\n",
       "      <th>1</th>\n",
       "      <td>0004-TLHLJ</td>\n",
       "      <td>Male</td>\n",
       "      <td>0</td>\n",
       "      <td>No</td>\n",
       "      <td>No</td>\n",
       "    </tr>\n",
       "    <tr>\n",
       "      <th>2</th>\n",
       "      <td>0011-IGKFF</td>\n",
       "      <td>Male</td>\n",
       "      <td>1</td>\n",
       "      <td>Yes</td>\n",
       "      <td>No</td>\n",
       "    </tr>\n",
       "    <tr>\n",
       "      <th>3</th>\n",
       "      <td>0013-EXCHZ</td>\n",
       "      <td>Female</td>\n",
       "      <td>1</td>\n",
       "      <td>Yes</td>\n",
       "      <td>No</td>\n",
       "    </tr>\n",
       "    <tr>\n",
       "      <th>4</th>\n",
       "      <td>0013-SMEOE</td>\n",
       "      <td>Female</td>\n",
       "      <td>1</td>\n",
       "      <td>Yes</td>\n",
       "      <td>No</td>\n",
       "    </tr>\n",
       "    <tr>\n",
       "      <th>5</th>\n",
       "      <td>0015-UOCOJ</td>\n",
       "      <td>Female</td>\n",
       "      <td>1</td>\n",
       "      <td>No</td>\n",
       "      <td>No</td>\n",
       "    </tr>\n",
       "    <tr>\n",
       "      <th>6</th>\n",
       "      <td>0017-DINOC</td>\n",
       "      <td>Male</td>\n",
       "      <td>0</td>\n",
       "      <td>No</td>\n",
       "      <td>No</td>\n",
       "    </tr>\n",
       "    <tr>\n",
       "      <th>7</th>\n",
       "      <td>0017-IUDMW</td>\n",
       "      <td>Female</td>\n",
       "      <td>0</td>\n",
       "      <td>Yes</td>\n",
       "      <td>Yes</td>\n",
       "    </tr>\n",
       "    <tr>\n",
       "      <th>8</th>\n",
       "      <td>0019-EFAEP</td>\n",
       "      <td>Female</td>\n",
       "      <td>0</td>\n",
       "      <td>No</td>\n",
       "      <td>No</td>\n",
       "    </tr>\n",
       "    <tr>\n",
       "      <th>9</th>\n",
       "      <td>0019-GFNTW</td>\n",
       "      <td>Female</td>\n",
       "      <td>0</td>\n",
       "      <td>No</td>\n",
       "      <td>No</td>\n",
       "    </tr>\n",
       "  </tbody>\n",
       "</table>\n",
       "</div>"
      ],
      "text/plain": [
       "   customerID  gender  SeniorCitizen Partner Dependents\n",
       "0  0003-MKNFE    Male              0      No         No\n",
       "1  0004-TLHLJ    Male              0      No         No\n",
       "2  0011-IGKFF    Male              1     Yes         No\n",
       "3  0013-EXCHZ  Female              1     Yes         No\n",
       "4  0013-SMEOE  Female              1     Yes         No\n",
       "5  0015-UOCOJ  Female              1      No         No\n",
       "6  0017-DINOC    Male              0      No         No\n",
       "7  0017-IUDMW  Female              0     Yes        Yes\n",
       "8  0019-EFAEP  Female              0      No         No\n",
       "9  0019-GFNTW  Female              0      No         No"
      ]
     },
     "execution_count": 28,
     "metadata": {},
     "output_type": "execute_result"
    }
   ],
   "source": [
    "test_dataframe"
   ]
  },
  {
   "cell_type": "code",
   "execution_count": 237,
   "id": "bc1726a6-5ba5-4846-8edc-8efbe6e9c745",
   "metadata": {
    "tags": []
   },
   "outputs": [],
   "source": [
    "functions_list = [extract_data]"
   ]
  },
  {
   "cell_type": "code",
   "execution_count": 239,
   "id": "ff296e48-61cd-4398-9e08-b813a3fb1555",
   "metadata": {
    "tags": []
   },
   "outputs": [
    {
     "data": {
      "text/plain": [
       "[{'type': 'function',\n",
       "  'function': {'name': 'extract_data',\n",
       "   'description': '用于借助pymysql，将MySQL中的iquery数据库中的表读取并保存到本地Python环境中。',\n",
       "   'parameters': {'type': 'object',\n",
       "    'properties': {'sql_query': {'type': 'string',\n",
       "      'description': '字符串形式的SQL查询语句，用于提取MySQL中iquery数据库中的某张表。'},\n",
       "     'df_name': {'type': 'string',\n",
       "      'description': '将MySQL数据库中提取的表格进行本地保存时的变量名，以字符串形式表示。'}},\n",
       "    'required': ['sql_query', 'df_name']}}}]"
      ]
     },
     "execution_count": 239,
     "metadata": {},
     "output_type": "execute_result"
    }
   ],
   "source": [
    "tools = auto_functions(functions_list)\n",
    "tools"
   ]
  },
  {
   "cell_type": "code",
   "execution_count": 240,
   "id": "8cf604cb-e67a-4e19-b92a-7a38b8ec56d0",
   "metadata": {
    "tags": []
   },
   "outputs": [
    {
     "data": {
      "text/plain": [
       "ChatCompletionMessage(content=None, role='assistant', function_call=None, tool_calls=[ChatCompletionMessageToolCall(id='call_7t6dX24TNOzCVCx0cyNJpjCJ', function=Function(arguments='{\"sql_query\":\"SELECT * FROM user_payments\",\"df_name\":\"user_payments\"}', name='extract_data'), type='function')])"
      ]
     },
     "execution_count": 240,
     "metadata": {},
     "output_type": "execute_result"
    }
   ],
   "source": [
    "messages=[\n",
    "            {\"role\": \"user\", \"content\": \"请帮我读取iquery数据库中的user_payments，并保存至本地\"}\n",
    "        ]\n",
    "    \n",
    "response = client.chat.completions.create(\n",
    "        model=\"gpt-3.5-turbo\",\n",
    "        messages=messages,\n",
    "        tools=tools,\n",
    "        tool_choice=\"auto\",  \n",
    "    )\n",
    "\n",
    "response.choices[0].message"
   ]
  },
  {
   "cell_type": "code",
   "execution_count": 29,
   "id": "23165242-059d-422e-8821-b757a88ce2b7",
   "metadata": {
    "tags": []
   },
   "outputs": [],
   "source": [
    "# 能够在本地执行python代码的外部函数\n",
    "# 定义一个名为python_inter的函数，该函数接受一个字符串类型的python代码作为参数\n",
    "def python_inter(py_code):\n",
    "    \"\"\"\n",
    "    该函数的主要作用是对iquery数据库中各张数据表进行查询和处理，并获取最终查询或处理结果。\n",
    "    :param py_code: 字符串形式的Python代码，此代码用于执行对iquery数据库中各张数据表进行操作\n",
    "    :return：返回代码运行的最终结果\n",
    "    \"\"\"    \n",
    "    # 记录函数开始执行时，全局作用域内的变量名\n",
    "    global_vars_before = set(globals().keys())\n",
    "    try:\n",
    "        # 尝试执行传入的代码，代码的作用域为全局作用域\n",
    "        exec(py_code, globals())\n",
    "    except Exception as e:\n",
    "        # 如果代码执行出错，返回错误信息\n",
    "        return str(e)\n",
    "    # 记录代码执行后，全局作用域内的变量名\n",
    "    global_vars_after = set(globals().keys())\n",
    "    # 获取执行代码后新产生的全局变量名\n",
    "    new_vars = global_vars_after - global_vars_before\n",
    "    # 如果有新的全局变量产生\n",
    "    if new_vars:\n",
    "        # 返回新的全局变量及其值\n",
    "        result = {var: globals()[var] for var in new_vars}\n",
    "        return str(result)\n",
    "    else:\n",
    "        try:\n",
    "            # 如果没有新的全局变量产生，尝试计算并返回代码的执行结果\n",
    "            return str(eval(py_code, globals()))\n",
    "        except Exception as e:\n",
    "            # 如果计算代码执行结果也出错，返回成功执行代码的消息\n",
    "            return \"已经顺利执行代码\"\n"
   ]
  },
  {
   "cell_type": "code",
   "execution_count": 242,
   "id": "ec99b5ff-8c6c-4fbc-99c6-c43ecfd368d7",
   "metadata": {
    "tags": []
   },
   "outputs": [],
   "source": [
    "functions_list = [python_inter]"
   ]
  },
  {
   "cell_type": "code",
   "execution_count": 244,
   "id": "00bd33a1-baa7-48b7-8684-38d42f5697d3",
   "metadata": {
    "tags": []
   },
   "outputs": [
    {
     "data": {
      "text/plain": [
       "[{'type': 'function',\n",
       "  'function': {'name': 'python_inter',\n",
       "   'description': '该函数的主要作用是对iquery数据库中各张数据表进行查询和处理，并获取最终查询或处理结果。',\n",
       "   'parameters': {'type': 'object',\n",
       "    'properties': {'py_code': {'type': 'string',\n",
       "      'description': '字符串形式的Python代码，用于执行对iquery数据库中各张数据表进行操作。'}},\n",
       "    'required': ['py_code']}}}]"
      ]
     },
     "execution_count": 244,
     "metadata": {},
     "output_type": "execute_result"
    }
   ],
   "source": [
    "tools = auto_functions(functions_list)\n",
    "tools"
   ]
  },
  {
   "cell_type": "code",
   "execution_count": 246,
   "id": "63136bbc-14dc-4ee5-9d71-5707f9294bdf",
   "metadata": {
    "tags": []
   },
   "outputs": [
    {
     "data": {
      "text/plain": [
       "ChatCompletionMessage(content='', role='assistant', function_call=None, tool_calls=[ChatCompletionMessageToolCall(id='call_6dQ7TXBFFr2Hmbr95LmKVXmE', function=Function(arguments='{\"py_code\":\"test_dataframe.columns\"}', name='python_inter'), type='function')])"
      ]
     },
     "execution_count": 246,
     "metadata": {},
     "output_type": "execute_result"
    }
   ],
   "source": [
    "messages=[\n",
    "            {\"role\": \"user\", \"content\": \"已经读取iquery数据库中的user_payments数据表，并保存为test_dataframe\"},\n",
    "            {\"role\": \"user\", \"content\": \"test_dataframe是已经定义好的变量\"},\n",
    "            {\"role\": \"user\", \"content\": \"请帮我检查test_dataframe中总共包含几个字段\"}\n",
    "        ]\n",
    "    \n",
    "response = client.chat.completions.create(\n",
    "        model=\"gpt-3.5-turbo\",\n",
    "        messages=messages,\n",
    "        tools=tools,\n",
    "        tool_choice=\"auto\",  \n",
    "    )\n",
    "\n",
    "response.choices[0].message"
   ]
  },
  {
   "cell_type": "code",
   "execution_count": 247,
   "id": "ccd95392-3c1d-40f7-a7c4-1bd510b5da17",
   "metadata": {
    "tags": []
   },
   "outputs": [],
   "source": [
    "py_code=response.choices[0].message.tool_calls[0].function.arguments"
   ]
  },
  {
   "cell_type": "code",
   "execution_count": 248,
   "id": "727ba004-9fa6-4586-a130-7e29d8a0fc40",
   "metadata": {
    "tags": []
   },
   "outputs": [],
   "source": [
    "code = json.loads(py_code)"
   ]
  },
  {
   "cell_type": "code",
   "execution_count": 249,
   "id": "b54e3faa-02ac-49c7-9767-46b9dcafe23d",
   "metadata": {
    "tags": []
   },
   "outputs": [
    {
     "data": {
      "text/plain": [
       "{'py_code': 'test_dataframe.columns'}"
      ]
     },
     "execution_count": 249,
     "metadata": {},
     "output_type": "execute_result"
    }
   ],
   "source": [
    "code"
   ]
  },
  {
   "cell_type": "code",
   "execution_count": 250,
   "id": "460ce476-1629-4b84-a202-5bb4350245e3",
   "metadata": {
    "tags": []
   },
   "outputs": [
    {
     "data": {
      "text/plain": [
       "'test_dataframe.columns'"
      ]
     },
     "execution_count": 250,
     "metadata": {},
     "output_type": "execute_result"
    }
   ],
   "source": [
    "code_str = code.get(\"py_code\")\n",
    "code_str"
   ]
  },
  {
   "cell_type": "code",
   "execution_count": 251,
   "id": "7deb20b3-2ac9-4b9e-b5d7-6d04e4ce1702",
   "metadata": {
    "tags": []
   },
   "outputs": [
    {
     "data": {
      "text/plain": [
       "\"Index(['customerID', 'gender', 'SeniorCitizen', 'Partner', 'Dependents'], dtype='object')\""
      ]
     },
     "execution_count": 251,
     "metadata": {},
     "output_type": "execute_result"
    }
   ],
   "source": [
    "python_inter(code_str)"
   ]
  },
  {
   "cell_type": "code",
   "execution_count": 252,
   "id": "eed988f2-6752-46f4-a7ab-ec90d1e06959",
   "metadata": {
    "tags": []
   },
   "outputs": [
    {
     "data": {
      "text/plain": [
       "ChatCompletionMessage(content=None, role='assistant', function_call=None, tool_calls=[ChatCompletionMessageToolCall(id='call_3UGhgROr32SHsF2AUXtRAr93', function=Function(arguments='{\\n\"py_code\": \"test_dataframe.dtypes\"\\n}', name='python_inter'), type='function')])"
      ]
     },
     "execution_count": 252,
     "metadata": {},
     "output_type": "execute_result"
    }
   ],
   "source": [
    "messages=[\n",
    "            {\"role\": \"user\", \"content\": \"已经读取iquery数据库中的user_payments数据表，并保存为test_dataframe\"},\n",
    "            {\"role\": \"user\", \"content\": \"test_dataframe是已经定义好的变量\"},\n",
    "            {\"role\": \"user\", \"content\": \"请帮我检查test_dataframe中各字段的基本类型和取值范围\"}\n",
    "        ]\n",
    "    \n",
    "response = client.chat.completions.create(\n",
    "        model=\"gpt-3.5-turbo-16k\",\n",
    "        messages=messages,\n",
    "        tools=tools,\n",
    "        tool_choice=\"auto\",  \n",
    "    )\n",
    "\n",
    "response.choices[0].message"
   ]
  },
  {
   "cell_type": "code",
   "execution_count": 253,
   "id": "3ff2d587-3e72-4ca2-b10c-955ca0b83ee6",
   "metadata": {
    "tags": []
   },
   "outputs": [
    {
     "data": {
      "text/plain": [
       "'test_dataframe.dtypes'"
      ]
     },
     "execution_count": 253,
     "metadata": {},
     "output_type": "execute_result"
    }
   ],
   "source": [
    "code = json.loads(response.choices[0].message.tool_calls[0].function.arguments)\n",
    "code_str = code.get(\"py_code\")\n",
    "code_str"
   ]
  },
  {
   "cell_type": "code",
   "execution_count": 254,
   "id": "bde4c849-c82f-4d80-98ce-293ef49b80f8",
   "metadata": {
    "tags": []
   },
   "outputs": [
    {
     "data": {
      "text/plain": [
       "'customerID       object\\ngender           object\\nSeniorCitizen     int64\\nPartner          object\\nDependents       object\\ndtype: object'"
      ]
     },
     "execution_count": 254,
     "metadata": {},
     "output_type": "execute_result"
    }
   ],
   "source": [
    "python_inter(code_str)"
   ]
  },
  {
   "cell_type": "markdown",
   "id": "ef1b1105-8db3-498d-84fb-1fea47c59035",
   "metadata": {},
   "source": [
    "测试定义的外部变量"
   ]
  },
  {
   "cell_type": "code",
   "execution_count": 255,
   "id": "30d3b73c-7c05-428c-bd34-06e4d12d691c",
   "metadata": {
    "tags": []
   },
   "outputs": [
    {
     "data": {
      "text/plain": [
       "ChatCompletionMessage(content='', role='assistant', function_call=None, tool_calls=[ChatCompletionMessageToolCall(id='call_IqJhhQ3s3JKvci8pr9d1suJF', function=Function(arguments='{\"py_code\":\"missing_value = test_dataframe.isnull().sum()\"}', name='python_inter'), type='function')])"
      ]
     },
     "execution_count": 255,
     "metadata": {},
     "output_type": "execute_result"
    }
   ],
   "source": [
    "messages=[\n",
    "            {\"role\": \"user\", \"content\": \"已经读取iquery数据库中的user_payments数据表，并保存为test_dataframe\"},\n",
    "            {\"role\": \"user\", \"content\": \"test_dataframe是已经定义好的变量\"},\n",
    "            {\"role\": \"user\", \"content\": \"请帮我检查test_dataframe中各列的缺失值情况，并将统计结果保存为missing_value对象\"}\n",
    "        ]\n",
    "    \n",
    "response = client.chat.completions.create(\n",
    "        model=\"gpt-3.5-turbo\",\n",
    "        messages=messages,\n",
    "        tools=tools,\n",
    "        tool_choice=\"auto\",  \n",
    "    )\n",
    "\n",
    "response.choices[0].message"
   ]
  },
  {
   "cell_type": "code",
   "execution_count": 256,
   "id": "320e8f2f-9d85-4023-af69-dcae82d24028",
   "metadata": {
    "tags": []
   },
   "outputs": [
    {
     "data": {
      "text/plain": [
       "customerID       0\n",
       "gender           0\n",
       "SeniorCitizen    0\n",
       "Partner          0\n",
       "Dependents       0\n",
       "dtype: int64"
      ]
     },
     "execution_count": 256,
     "metadata": {},
     "output_type": "execute_result"
    }
   ],
   "source": [
    "missing_value "
   ]
  },
  {
   "cell_type": "code",
   "execution_count": 257,
   "id": "0ac9b669-ce31-47c3-b896-93fef9c89b0a",
   "metadata": {
    "tags": []
   },
   "outputs": [
    {
     "data": {
      "text/plain": [
       "'missing_value = test_dataframe.isnull().sum()'"
      ]
     },
     "execution_count": 257,
     "metadata": {},
     "output_type": "execute_result"
    }
   ],
   "source": [
    "code = json.loads(response.choices[0].message.tool_calls[0].function.arguments)\n",
    "code_str = code.get(\"py_code\")\n",
    "code_str"
   ]
  },
  {
   "cell_type": "code",
   "execution_count": 258,
   "id": "f51c4179-806b-446a-8ef2-7cdc15e59eab",
   "metadata": {
    "tags": []
   },
   "outputs": [
    {
     "data": {
      "text/plain": [
       "'已经顺利执行代码'"
      ]
     },
     "execution_count": 258,
     "metadata": {},
     "output_type": "execute_result"
    }
   ],
   "source": [
    "python_inter(code_str)"
   ]
  },
  {
   "cell_type": "code",
   "execution_count": 259,
   "id": "596c4f54-eb2b-4df5-9cad-67273fb4b7bb",
   "metadata": {
    "tags": []
   },
   "outputs": [
    {
     "data": {
      "text/plain": [
       "customerID       0\n",
       "gender           0\n",
       "SeniorCitizen    0\n",
       "Partner          0\n",
       "Dependents       0\n",
       "dtype: int64"
      ]
     },
     "execution_count": 259,
     "metadata": {},
     "output_type": "execute_result"
    }
   ],
   "source": [
    "missing_value"
   ]
  },
  {
   "cell_type": "markdown",
   "id": "98487fcd-bab7-40ec-8c91-11414e6f07c5",
   "metadata": {},
   "source": [
    "# 4. 可视化展示数据"
   ]
  },
  {
   "cell_type": "markdown",
   "id": "68bd922b-6b95-4f48-bf32-5d4706112619",
   "metadata": {},
   "source": [
    "## 4.1 借助Python代码解释器进行可视化数据展示"
   ]
  },
  {
   "cell_type": "code",
   "execution_count": 265,
   "id": "27544023-9369-4ba7-893f-c0bc46a250b2",
   "metadata": {
    "tags": []
   },
   "outputs": [
    {
     "data": {
      "text/plain": [
       "ChatCompletionMessage(content=None, role='assistant', function_call=None, tool_calls=[ChatCompletionMessageToolCall(id='call_UCFjq2t6rmDfrlmVilsiJZSN', function=Function(arguments='{\"py_code\":\"import matplotlib.pyplot as plt\\\\n\\\\ndata = test_dataframe\\\\n\\\\n# 统计gender字段的不同取值分布情况\\\\ngender_distribution = data[\\'gender\\'].value_counts()\\\\n\\\\n# 以可视化形式展示\\\\nplt.figure(figsize=(8, 6))\\\\nplt.bar(gender_distribution.index, gender_distribution.values, color=\\'skyblue\\')\\\\nplt.xlabel(\\'Gender\\')\\\\nplt.ylabel(\\'Count\\')\\\\nplt.title(\\'Distribution of Gender\\')\\\\nplt.show()\"}', name='python_inter'), type='function')])"
      ]
     },
     "execution_count": 265,
     "metadata": {},
     "output_type": "execute_result"
    }
   ],
   "source": [
    "messages=[\n",
    "            {\"role\": \"user\", \"content\": \"已经读取iquery数据库中的user_payments数据表，并保存为test_dataframe\"},\n",
    "            {\"role\": \"user\", \"content\": \"test_dataframe是已经定义好的变量\"},\n",
    "            {\"role\": \"user\", \"content\": \"请帮我统计test_dataframe中gender字段的不同取值分布情况，并以可视化形式进行展示\"}\n",
    "        ]\n",
    "    \n",
    "response = client.chat.completions.create(\n",
    "        model=\"gpt-3.5-turbo\",\n",
    "        messages=messages,\n",
    "        tools=tools,\n",
    "        tool_choice=\"auto\",  \n",
    "    )\n",
    "\n",
    "response.choices[0].message"
   ]
  },
  {
   "cell_type": "code",
   "execution_count": 266,
   "id": "754553f1-6b60-46be-9971-9f2016dc486a",
   "metadata": {
    "tags": []
   },
   "outputs": [
    {
     "data": {
      "text/plain": [
       "\"import matplotlib.pyplot as plt\\n\\ndata = test_dataframe\\n\\n# 统计gender字段的不同取值分布情况\\ngender_distribution = data['gender'].value_counts()\\n\\n# 以可视化形式展示\\nplt.figure(figsize=(8, 6))\\nplt.bar(gender_distribution.index, gender_distribution.values, color='skyblue')\\nplt.xlabel('Gender')\\nplt.ylabel('Count')\\nplt.title('Distribution of Gender')\\nplt.show()\""
      ]
     },
     "execution_count": 266,
     "metadata": {},
     "output_type": "execute_result"
    }
   ],
   "source": [
    "code = json.loads(response.choices[0].message.tool_calls[0].function.arguments)\n",
    "code_str = code.get(\"py_code\")\n",
    "code_str"
   ]
  },
  {
   "cell_type": "code",
   "execution_count": 267,
   "id": "6b44eb44-59ed-42cc-a585-bbadcab187aa",
   "metadata": {
    "tags": []
   },
   "outputs": [
    {
     "data": {
      "image/png": "[encoded data removed]",
      "text/plain": [
       "<Figure size 800x600 with 1 Axes>"
      ]
     },
     "metadata": {},
     "output_type": "display_data"
    },
    {
     "data": {
      "text/plain": [
       "\"{'data':    customerID  gender  SeniorCitizen Partner Dependents\\n0  0003-MKNFE    Male              0      No         No\\n1  0004-TLHLJ    Male              0      No         No\\n2  0011-IGKFF    Male              1     Yes         No\\n3  0013-EXCHZ  Female              1     Yes         No\\n4  0013-SMEOE  Female              1     Yes         No\\n5  0015-UOCOJ  Female              1      No         No\\n6  0017-DINOC    Male              0      No         No\\n7  0017-IUDMW  Female              0     Yes        Yes\\n8  0019-EFAEP  Female              0      No         No\\n9  0019-GFNTW  Female              0      No         No}\""
      ]
     },
     "execution_count": 267,
     "metadata": {},
     "output_type": "execute_result"
    }
   ],
   "source": [
    "python_inter(code_str)"
   ]
  },
  {
   "cell_type": "markdown",
   "id": "4a8c12b0-ac55-477d-b837-a14ce5112fb3",
   "metadata": {},
   "source": [
    "## 4.2 把可视化图片存入云盘文档"
   ]
  },
  {
   "cell_type": "code",
   "execution_count": 268,
   "id": "a0174c6f-0a54-4d3b-8274-93065d5abb0e",
   "metadata": {
    "tags": []
   },
   "outputs": [
    {
     "data": {
      "text/plain": [
       "[<matplotlib.lines.Line2D at 0x7f8e5158c5b0>]"
      ]
     },
     "execution_count": 268,
     "metadata": {},
     "output_type": "execute_result"
    },
    {
     "data": {
      "image/png": "[encoded data removed]",
      "text/plain": [
       "<Figure size 640x480 with 1 Axes>"
      ]
     },
     "metadata": {},
     "output_type": "display_data"
    }
   ],
   "source": [
    "import matplotlib.pyplot as plt\n",
    "\n",
    "# 创建一个图形\n",
    "fig, ax = plt.subplots()\n",
    "ax.plot([1, 2, 3, 4, 5])"
   ]
  },
  {
   "cell_type": "code",
   "execution_count": 269,
   "id": "123b83ae-c845-4b61-ad53-d09e9ebeed0b",
   "metadata": {
    "tags": []
   },
   "outputs": [
    {
     "data": {
      "text/plain": [
       "matplotlib.figure.Figure"
      ]
     },
     "execution_count": 269,
     "metadata": {},
     "output_type": "execute_result"
    }
   ],
   "source": [
    "type(fig)"
   ]
  },
  {
   "cell_type": "code",
   "execution_count": 30,
   "id": "38c5bac8-3288-4a37-ae73-699bc27d187d",
   "metadata": {
    "tags": []
   },
   "outputs": [],
   "source": [
    "from docx import Document\n",
    "import matplotlib.pyplot as plt\n",
    "import os\n",
    "import tempfile\n",
    "\n",
    "def append_img_in_doc(folder_name, doc_name, img):\n",
    "    \"\"\"\"\n",
    "    往文件里追加图片\n",
    "    @param folder_name=目录名，doc_name=文件名，img=图片对象，数据类型为matplotlib.figure.Figure对象\n",
    "    \"\"\"\n",
    "    base_path = \"/root/autodl-tmp/iquery项目/iquery云盘\"\n",
    "    ## 目录地址\n",
    "    full_path_folder=base_path+\"/\"+folder_name\n",
    "    ## 文件地址\n",
    "    full_path_doc = os.path.join(full_path_folder, doc_name)+\".doc\"\n",
    "    \n",
    "\n",
    "    # 检查目录是否存在，如果不存在则创建\n",
    "    if not os.path.exists(full_path_folder):\n",
    "        os.makedirs(full_path_folder)\n",
    "    \n",
    "    # 检查文件是否存在\n",
    "    if os.path.exists(full_path_doc):\n",
    "        print(full_path_doc)\n",
    "        # 文件存在，打开并追加内容\n",
    "        document = Document(full_path_doc)\n",
    "    else:\n",
    "        # 文件不存在，创建一个新的文档对象\n",
    "        document = Document()\n",
    "\n",
    "    # 追加图片\n",
    "    # 将matplotlib的Figure对象保存为临时图片文件\n",
    "    with tempfile.NamedTemporaryFile(delete=False, suffix='.png') as tmpfile:\n",
    "        fig.savefig(tmpfile.name, format='png')\n",
    "        # 将图片插入到.docx文档中\n",
    "        document.add_picture(tmpfile.name)\n",
    "    \n",
    "    # 保存文档\n",
    "    document.save(full_path_doc)\n",
    "    print(f\"图片已追加到 {doc_name}\")"
   ]
  },
  {
   "cell_type": "code",
   "execution_count": 271,
   "id": "13011dc0-166c-47b3-a5d6-c101b04f5d68",
   "metadata": {
    "tags": []
   },
   "outputs": [
    {
     "name": "stdout",
     "output_type": "stream",
     "text": [
      "/root/autodl-tmp/iquery项目/iquery云盘/电信用户行为分析/数据分析问答.doc\n",
      "图片已追加到 数据分析问答\n"
     ]
    }
   ],
   "source": [
    "append_img_in_doc(folder_name=\"电信用户行为分析\", doc_name=\"数据分析问答\", img=fig)"
   ]
  },
  {
   "cell_type": "markdown",
   "id": "43234cd1-05ad-45f4-8f89-3f3ac0e78e1e",
   "metadata": {
    "tags": []
   },
   "source": [
    "# 5. 实现把图片变为fig对象的代码逻辑"
   ]
  },
  {
   "cell_type": "code",
   "execution_count": 272,
   "id": "0f8d5931-5944-4f45-bcdb-afc81224eaa2",
   "metadata": {
    "tags": []
   },
   "outputs": [
    {
     "data": {
      "text/plain": [
       "ChatCompletionMessage(content='', role='assistant', function_call=None, tool_calls=[ChatCompletionMessageToolCall(id='call_UtO3ktvkVhgMxog7boQfWN5y', function=Function(arguments='{\\n  \"py_code\": \"import matplotlib.pyplot as plt\\\\n\\\\n# 统计gender字段的不同取值分布情况\\\\ngender_counts = test_dataframe[\\'gender\\'].value_counts()\\\\n\\\\n# 绘制柱状图\\\\nplt.figure(figsize=(8, 6))\\\\nplt.bar(gender_counts.index, gender_counts.values)\\\\nplt.xlabel(\\'Gender\\')\\\\nplt.ylabel(\\'Count\\')\\\\nplt.title(\\'Distribution of Gender\\')\\\\n\\\\n# 展示图形\\\\nplt.show()\"\\n}', name='python_inter'), type='function')])"
      ]
     },
     "execution_count": 272,
     "metadata": {},
     "output_type": "execute_result"
    }
   ],
   "source": [
    "messages=[\n",
    "            {\"role\": \"user\", \"content\": \"已经读取iquery数据库中的user_payments数据表，并保存为test_dataframe\"},\n",
    "            {\"role\": \"user\", \"content\": \"test_dataframe是已经定义好的变量\"},\n",
    "            {\"role\": \"user\", \"content\": \"请帮我统计test_dataframe中gender字段的不同取值分布情况，并以可视化形式进行展示，可视化展示时请尽量绘制更加清晰美观的图片\"}\n",
    "        ]\n",
    "    \n",
    "response = client.chat.completions.create(\n",
    "        model=\"gpt-3.5-turbo\",\n",
    "        messages=messages,\n",
    "        tools=tools,\n",
    "        tool_choice=\"auto\",  \n",
    "    )\n",
    "\n",
    "response.choices[0].message"
   ]
  },
  {
   "cell_type": "code",
   "execution_count": 273,
   "id": "a23fa032-9ecf-409d-bd78-2ca214604951",
   "metadata": {
    "tags": []
   },
   "outputs": [
    {
     "data": {
      "text/plain": [
       "\"import matplotlib.pyplot as plt\\n\\n# 统计gender字段的不同取值分布情况\\ngender_counts = test_dataframe['gender'].value_counts()\\n\\n# 绘制柱状图\\nplt.figure(figsize=(8, 6))\\nplt.bar(gender_counts.index, gender_counts.values)\\nplt.xlabel('Gender')\\nplt.ylabel('Count')\\nplt.title('Distribution of Gender')\\n\\n# 展示图形\\nplt.show()\""
      ]
     },
     "execution_count": 273,
     "metadata": {},
     "output_type": "execute_result"
    }
   ],
   "source": [
    "code = json.loads(response.choices[0].message.tool_calls[0].function.arguments)\n",
    "code_str = code.get(\"py_code\")\n",
    "code_str"
   ]
  },
  {
   "cell_type": "code",
   "execution_count": 274,
   "id": "cb64766b-3e65-4b4c-a705-9c3c76f33f12",
   "metadata": {
    "tags": []
   },
   "outputs": [
    {
     "data": {
      "image/png": "[encoded data removed]",
      "text/plain": [
       "<Figure size 800x600 with 1 Axes>"
      ]
     },
     "metadata": {},
     "output_type": "display_data"
    },
    {
     "data": {
      "text/plain": [
       "'已经顺利执行代码'"
      ]
     },
     "execution_count": 274,
     "metadata": {},
     "output_type": "execute_result"
    }
   ],
   "source": [
    "python_inter(code_str)"
   ]
  },
  {
   "cell_type": "code",
   "execution_count": 275,
   "id": "0d8d0fd3-3db3-42e5-8598-a88c236f237f",
   "metadata": {
    "tags": []
   },
   "outputs": [
    {
     "data": {
      "text/plain": [
       "\"import matplotlib.pyplot as plt\\n\\n# 统计gender字段的不同取值分布情况\\ngender_counts = test_dataframe['gender'].value_counts()\\n\\n# 绘制柱状图\\nplt.figure(figsize=(8, 6))\\nplt.bar(gender_counts.index, gender_counts.values)\\nplt.xlabel('Gender')\\nplt.ylabel('Count')\\nplt.title('Distribution of Gender')\\n\\n# 展示图形\\nplt.show()\""
      ]
     },
     "execution_count": 275,
     "metadata": {},
     "output_type": "execute_result"
    }
   ],
   "source": [
    "code_str"
   ]
  },
  {
   "cell_type": "code",
   "execution_count": 31,
   "id": "50ee7b02-da65-466d-abf0-31c6aaeecf15",
   "metadata": {
    "tags": []
   },
   "outputs": [],
   "source": [
    "def insert_fig_object(code_str):\n",
    "    global fig\n",
    "    # 检查是否已存在 fig 对象的创建\n",
    "    if 'fig = plt.figure' in code_str:\n",
    "        return code_str  # 如果存在，则返回原始代码字符串\n",
    "\n",
    "    # 定义可能的库别名和全名\n",
    "    plot_aliases = ['plt.', 'matplotlib.pyplot.','plot']\n",
    "    sns_aliases = ['sns.', 'seaborn.']\n",
    "\n",
    "    # 寻找第一次出现绘图相关代码的位置\n",
    "    first_plot_occurrence = min((code_str.find(alias) for alias in plot_aliases + sns_aliases if code_str.find(alias) >= 0), default=-1)\n",
    " \n",
    "    # 如果找到绘图代码，则在该位置之前插入 fig 对象的创建\n",
    "    if first_plot_occurrence != -1:\n",
    "        plt_figure_index = code_str.find('plt.figure')\n",
    "        if plt_figure_index != -1:\n",
    "            # 寻找 plt.figure 后的括号位置，以确定是否有参数\n",
    "            closing_bracket_index = code_str.find(')', plt_figure_index)\n",
    "            # 如果找到了 plt.figure()，则替换为 fig = plt.figure()\n",
    "            modified_str = code_str[:plt_figure_index] + 'fig = ' + code_str[plt_figure_index:closing_bracket_index + 1] + code_str[closing_bracket_index + 1:]\n",
    "        else:\n",
    "            modified_str = code_str[:first_plot_occurrence] + 'fig = plt.figure()\\n' + code_str[first_plot_occurrence:]\n",
    "        return modified_str\n",
    "    else:\n",
    "        return code_str  # 如果没有找到绘图代码，则返回原始代码字符串"
   ]
  },
  {
   "cell_type": "code",
   "execution_count": 158,
   "id": "87f98282-163d-4663-88a9-542c76426259",
   "metadata": {
    "tags": []
   },
   "outputs": [
    {
     "name": "stdout",
     "output_type": "stream",
     "text": [
      "import matplotlib.pyplot as plt\n",
      "import seaborn as sns\n",
      "\n",
      "counts = test_dataframe['gender'].value_counts()\n",
      "\n",
      "fig = plt.figure(figsize=(8,6))\n",
      "sns.set(style='whitegrid')\n",
      "sns.barplot(x=counts.index, y=counts.values)\n",
      "plt.title('Distribution of Gender in test_dataframe')\n",
      "plt.xlabel('Gender')\n",
      "plt.ylabel('Count')\n",
      "plt.show()\n"
     ]
    }
   ],
   "source": [
    "code_temp1=(\n",
    " \"import matplotlib.pyplot as plt\\nimport seaborn as sns\\n\\ncounts = test_dataframe['gender'].value_counts()\\n\\nplt.figure(figsize=(8,6))\\nsns.set(style='whitegrid')\\nsns.barplot(x=counts.index, y=counts.values)\\nplt.title('Distribution of Gender in test_dataframe')\\nplt.xlabel('Gender')\\nplt.ylabel('Count')\\nplt.show()\"\n",
    ")\n",
    "modified_str = insert_fig_object(code_temp1)\n",
    "print(modified_str)"
   ]
  },
  {
   "cell_type": "code",
   "execution_count": 277,
   "id": "879cc404-1456-4228-98d5-a042029606be",
   "metadata": {
    "tags": []
   },
   "outputs": [
    {
     "name": "stdout",
     "output_type": "stream",
     "text": [
      "import matplotlib.pyplot as plt\n",
      "\n",
      "# 统计gender字段的不同取值分布情况\n",
      "gender_counts = test_dataframe['gender'].value_counts()\n",
      "\n",
      "# 绘制柱状图\n",
      "fig = plt.figure(figsize=(8, 6))\n",
      "plt.bar(gender_counts.index, gender_counts.values)\n",
      "plt.xlabel('Gender')\n",
      "plt.ylabel('Count')\n",
      "plt.title('Distribution of Gender')\n",
      "\n",
      "# 展示图形\n",
      "plt.show()\n"
     ]
    }
   ],
   "source": [
    "code_temp1=(\n",
    "\"import matplotlib.pyplot as plt\\n\\n# 统计gender字段的不同取值分布情况\\ngender_counts = test_dataframe['gender'].value_counts()\\n\\n# 绘制柱状图\\nplt.figure(figsize=(8, 6))\\nplt.bar(gender_counts.index, gender_counts.values)\\nplt.xlabel('Gender')\\nplt.ylabel('Count')\\nplt.title('Distribution of Gender')\\n\\n# 展示图形\\nplt.show()\"\n",
    ")\n",
    "modified_str = insert_fig_object(code_temp1)\n",
    "print(modified_str)"
   ]
  },
  {
   "cell_type": "code",
   "execution_count": 278,
   "id": "9715563b-4319-448b-b499-30ed049221ed",
   "metadata": {
    "tags": []
   },
   "outputs": [
    {
     "data": {
      "image/png": "[encoded data removed]",
      "text/plain": [
       "<Figure size 800x600 with 1 Axes>"
      ]
     },
     "metadata": {},
     "output_type": "display_data"
    }
   ],
   "source": [
    "import matplotlib.pyplot as plt\n",
    "\n",
    "# 统计gender字段的不同取值分布情况\n",
    "gender_counts = test_dataframe['gender'].value_counts()\n",
    "\n",
    "# 绘制柱状图\n",
    "fig = plt.figure(figsize=(8, 6))\n",
    "plt.bar(gender_counts.index, gender_counts.values)\n",
    "plt.xlabel('Gender')\n",
    "plt.ylabel('Count')\n",
    "plt.title('Distribution of Gender')\n",
    "\n",
    "# 展示图形\n",
    "plt.show()"
   ]
  },
  {
   "cell_type": "code",
   "execution_count": 159,
   "id": "e8c94fb0-2fc5-4ef7-9372-8d2e5d675236",
   "metadata": {
    "tags": []
   },
   "outputs": [
    {
     "data": {
      "image/png": "[encoded data removed]",
      "text/plain": [
       "<Figure size 800x600 with 1 Axes>"
      ]
     },
     "metadata": {},
     "output_type": "display_data"
    }
   ],
   "source": [
    "import matplotlib.pyplot as plt\n",
    "import seaborn as sns\n",
    "\n",
    "counts = test_dataframe['gender'].value_counts()\n",
    "\n",
    "fig = plt.figure(figsize=(8,6))\n",
    "sns.set(style='whitegrid')\n",
    "sns.barplot(x=counts.index, y=counts.values)\n",
    "plt.title('Distribution of Gender in test_dataframe')\n",
    "plt.xlabel('Gender')\n",
    "plt.ylabel('Count')\n",
    "plt.show()"
   ]
  },
  {
   "cell_type": "code",
   "execution_count": 32,
   "id": "fd71e5ac-de13-4adb-8767-c9efca510b38",
   "metadata": {
    "tags": []
   },
   "outputs": [],
   "source": [
    "def extract_python(json_str):\n",
    "       # 使用literal_eval将字符串转换为字典\n",
    "    dict_data = json.loads(json_str)\n",
    "    # 提取'sql_query'的值\n",
    "    py_code_value = dict_data['py_code']\n",
    "    # 提取并返回'sql_query'的值\n",
    "    return py_code_value"
   ]
  },
  {
   "cell_type": "code",
   "execution_count": 280,
   "id": "ac60154b-d666-4b87-8ef6-77cef7e2c3ab",
   "metadata": {
    "tags": []
   },
   "outputs": [
    {
     "name": "stdout",
     "output_type": "stream",
     "text": [
      "{\n",
      "  \"py_code\": \"import matplotlib.pyplot as plt\\n\\n# 统计gender字段的不同取值分布情况\\ngender_counts = test_dataframe['gender'].value_counts()\\n\\n# 绘制柱状图\\nplt.figure(figsize=(8, 6))\\nplt.bar(gender_counts.index, gender_counts.values)\\nplt.xlabel('Gender')\\nplt.ylabel('Count')\\nplt.title('Distribution of Gender')\\n\\n# 展示图形\\nplt.show()\"\n",
      "}\n",
      "import matplotlib.pyplot as plt\n",
      "\n",
      "# 统计gender字段的不同取值分布情况\n",
      "gender_counts = test_dataframe['gender'].value_counts()\n",
      "\n",
      "# 绘制柱状图\n",
      "plt.figure(figsize=(8, 6))\n",
      "plt.bar(gender_counts.index, gender_counts.values)\n",
      "plt.xlabel('Gender')\n",
      "plt.ylabel('Count')\n",
      "plt.title('Distribution of Gender')\n",
      "\n",
      "# 展示图形\n",
      "plt.show()\n"
     ]
    }
   ],
   "source": [
    "json_str = response.choices[0].message.tool_calls[0].function.arguments\n",
    "print(json_str)\n",
    "print(extract_python(json_str))"
   ]
  },
  {
   "cell_type": "code",
   "execution_count": 33,
   "id": "b225f6fa-642d-432b-9857-70cb8dcd0a7b",
   "metadata": {
    "tags": []
   },
   "outputs": [],
   "source": [
    "def python_inter(py_code):\n",
    "    \"\"\"\n",
    "    用于对chatbi数据库中各张数据表进行查询和处理，并获取最终查询或处理结果。\n",
    "    :param py_code: 字符串形式的Python代码，用于执行对chatbi数据库中各张数据表进行操作\n",
    "    :return：代码运行的最终结果\n",
    "    \"\"\"    \n",
    "    # 添加图片对象，如果存在绘图代码，则创建fig对象\n",
    "    py_code = insert_fig_object(py_code)\n",
    "    global_vars_before = set(globals().keys())\n",
    "    try:\n",
    "        exec(py_code, globals())\n",
    "    except Exception as e:\n",
    "        return str(e)\n",
    "    global_vars_after = set(globals().keys())\n",
    "    new_vars = global_vars_after - global_vars_before\n",
    "    if new_vars:\n",
    "        result = {var: globals()[var] for var in new_vars}\n",
    "        return str(result)\n",
    "    else:\n",
    "        try:\n",
    "            return str(eval(py_code, globals()))\n",
    "        except Exception as e:\n",
    "            return \"已经顺利执行代码\""
   ]
  },
  {
   "cell_type": "code",
   "execution_count": 282,
   "id": "6f088a12-2606-4cb5-9fb6-b48dfdb8c0a0",
   "metadata": {
    "tags": []
   },
   "outputs": [
    {
     "data": {
      "image/png": "[encoded data removed]",
      "text/plain": [
       "<Figure size 800x600 with 1 Axes>"
      ]
     },
     "metadata": {},
     "output_type": "display_data"
    },
    {
     "data": {
      "text/plain": [
       "'已经顺利执行代码'"
      ]
     },
     "execution_count": 282,
     "metadata": {},
     "output_type": "execute_result"
    }
   ],
   "source": [
    "python_inter(code_str)"
   ]
  },
  {
   "cell_type": "code",
   "execution_count": 283,
   "id": "8059df7a-ad03-4967-8339-433bf73ea7cb",
   "metadata": {
    "tags": []
   },
   "outputs": [
    {
     "data": {
      "image/png": "[encoded data removed]",
      "text/plain": [
       "<Figure size 800x600 with 1 Axes>"
      ]
     },
     "execution_count": 283,
     "metadata": {},
     "output_type": "execute_result"
    }
   ],
   "source": [
    "fig"
   ]
  },
  {
   "cell_type": "code",
   "execution_count": null,
   "id": "27fd1337-3bbd-402f-bc3c-477a20e6d8c5",
   "metadata": {},
   "outputs": [],
   "source": []
  },
  {
   "cell_type": "code",
   "execution_count": null,
   "id": "cf279d6a-4f3a-4621-a73b-1bf6e6838c57",
   "metadata": {},
   "outputs": [],
   "source": []
  },
  {
   "cell_type": "markdown",
   "id": "e8d8944d-eac9-42a9-82d0-f73037152a6c",
   "metadata": {},
   "source": [
    "# 6. 多轮对话增加Python代码解释器效果"
   ]
  },
  {
   "cell_type": "code",
   "execution_count": 80,
   "id": "4a9696cb-0fa8-4fc5-b4ee-7af33e6c92c2",
   "metadata": {
    "tags": []
   },
   "outputs": [],
   "source": [
    "def extract_python(json_str):\n",
    "    if isinstance(json_str, dict):\n",
    "        return json_str['py_code']   \n",
    "       # 使用literal_eval将字符串转换为字典\n",
    "    dict_data = json.loads(json_str)\n",
    "    # 提取'sql_query'的值\n",
    "    py_code_value = dict_data['py_code']\n",
    "    # 提取并返回'sql_query'的值\n",
    "    return py_code_value"
   ]
  },
  {
   "cell_type": "code",
   "execution_count": 62,
   "id": "ff340853-a4da-4ff0-8e16-3d751819ece9",
   "metadata": {
    "tags": []
   },
   "outputs": [],
   "source": [
    "def check_code_run(messages,\n",
    "                   project_name,\n",
    "                   doc_name,\n",
    "                   functions_list=None,\n",
    "                   tools=None,\n",
    "                   model=\"gpt-3.5-turbo\",\n",
    "                   auto_run = True):\n",
    "    \"\"\"\n",
    "    能够自动执行外部函数调用的对话模型\n",
    "    :param messages: 必要参数，字典类型，输入到Chat模型的messages参数对象\n",
    "    :param prject_name: 项目名\n",
    "    :param doc_name: 文件名\n",
    "    :param functions_list: 可选参数，默认为None，可以设置为包含全部外部函数的列表对象\n",
    "    :param model: Chat模型，可选参数，默认模型为gpt-3.5-turbo\n",
    "    :return：Chat模型输出结果\n",
    "    \"\"\"\n",
    "    code = None\n",
    "    # 如果没有外部函数库，则执行普通的对话任务\n",
    "    if functions_list == None:\n",
    "        response = client.chat.completions.create(\n",
    "                        model=model,\n",
    "                        messages=messages,\n",
    "                        )\n",
    "        response_message = response.choices[0].message\n",
    "        final_response = response_message.content\n",
    "        \n",
    "    # 若存在外部函数库，则需要灵活选取外部函数并进行回答\n",
    "    else:\n",
    "\n",
    "        # 创建外部函数库字典\n",
    "        available_functions = {func.__name__: func for func in functions_list}\n",
    "\n",
    "        # 第一次调用大模型\n",
    "        response = client.chat.completions.create(\n",
    "                        model=model,\n",
    "                        messages=messages,\n",
    "                        tools=tools,\n",
    "                        tool_choice=\"auto\", )\n",
    "        response_message = response.choices[0].message\n",
    "        tool_calls = response_message.tool_calls\n",
    "        if tool_calls:\n",
    "            messages.append(response_message) \n",
    "            for tool_call in tool_calls:\n",
    "                function_name = tool_call.function.name\n",
    "                function_to_call = available_functions[function_name]\n",
    "                function_args = json.loads(tool_call.function.arguments)\n",
    "                #########################################\n",
    "                    # 创建code对象\n",
    "                if 'sql_inter' in function_name or 'extract_data' in function_name:\n",
    "                    code = extract_sql(function_args)\n",
    "                    # 将代码字符串转换为Markdown格式\n",
    "                    markdown_code = f\"```sql\\n{code}\\n```\"\n",
    "                else:\n",
    "                    code = extract_python(function_args)\n",
    "                    \n",
    "                    code = insert_fig_object(code)\n",
    "                    # 将代码字符串转换为Markdown格式\n",
    "                    markdown_code = f\"```python\\n{code}\\n```\"\n",
    "                #########################################\n",
    "              \n",
    "                if auto_run == False: \n",
    "                    print(\"已将问题转化为如下代码准备运行：\")\n",
    "                    # 在Jupyter Notebook中展示Markdown格式的代码\n",
    "                    display(Markdown(markdown_code))\n",
    "                    #sql_query = extract_sql_by_str(function_args)\n",
    "                    #print(\"抽取出来的SQL：\" + sql_query)\n",
    "\n",
    "                    res = input('是否确认并继续执行（1），或者退出本次运行过程（2）')\n",
    "                    if res == '2':\n",
    "                        print(\"终止运行\")\n",
    "                        return None\n",
    "                    else:\n",
    "                        print(\"正在执行代码，请稍后...\")\n",
    "                        \n",
    "                function_response = function_to_call(**function_args)\n",
    "                messages.append(\n",
    "                    {\n",
    "                        \"tool_call_id\": tool_call.id,\n",
    "                        \"role\": \"tool\",\n",
    "                        \"name\": function_name,\n",
    "                        \"content\": function_response,\n",
    "                    }\n",
    "                ) \n",
    "            ## 第二次调用模型\n",
    "            second_response = client.chat.completions.create(\n",
    "                model=model,\n",
    "                messages=messages,\n",
    "            ) \n",
    "            # 获取最终结果\n",
    "            final_response = second_response.choices[0].message.content\n",
    "        else:\n",
    "            final_response = response_message.content\n",
    "    del messages\n",
    "    ##################################\n",
    "    if code:\n",
    "        substrings = ['plt.', 'matplotlib.pyplot.', 'sns.', 'seaborn.','plot']\n",
    "        if any(substring in code for substring in substrings):\n",
    "            global fig\n",
    "            append_img_in_doc(project_name, doc_name, img=fig)\n",
    "            print(\"图片保存成功！\")\n",
    "    ################################\n",
    "                \n",
    "    return final_response"
   ]
  },
  {
   "cell_type": "code",
   "execution_count": 70,
   "id": "c5e0cac2-d230-4dcd-947b-9526f9b82c2d",
   "metadata": {
    "tags": []
   },
   "outputs": [],
   "source": [
    "import tiktoken\n",
    "\n",
    "def chat_with_inter(functions_list=None, \n",
    "                    prompt=\"你好呀\", \n",
    "                    model=\"gpt-3.5-turbo\", \n",
    "                    system_message=[{\"role\": \"system\", \"content\": \"你是一个智能助手。\"}], \n",
    "                    auto_run = True):\n",
    "    \n",
    "    print(\"正在初始化外部函数库\")\n",
    "    # 创建函数列表对应的参数解释列表\n",
    "    functions = auto_functions(functions_list)\n",
    "    #print(functions)\n",
    "    print(\"外部函数库初始化完成\")\n",
    "    project_name = input(\"请输入当前分析项目名称：\")\n",
    "    folder_name = create_directory(project_name)\n",
    "    print(\"已完成数据分析文件创建\")\n",
    "    doc_name = input(\"请输入当前分析阶段，如数据探索阶段和理解、数据清洗阶段等：\")\n",
    "    doc_name += '问答'\n",
    "    print(\"好的，即将进入交互式分析流程\")\n",
    "    # 多轮对话阈值\n",
    "    if 'gpt-4' in model:\n",
    "        tokens_thr = 6000\n",
    "    elif '16k' in model:\n",
    "        tokens_thr = 14000\n",
    "    else:\n",
    "        tokens_thr = 3000\n",
    "    \n",
    "    messages = system_message\n",
    "    ## 完成给用户输入的问题赋值\n",
    "    user_input = prompt\n",
    "    messages.append({\"role\": \"user\", \"content\": prompt})\n",
    "    ## 计算token大小\n",
    "    embedding_model = \"text-embedding-ada-002\"\n",
    "    # 模型对应的分词器（TOKENIZER）\n",
    "    embedding_encoding = \"cl100k_base\"\n",
    "    encoding = tiktoken.get_encoding(embedding_encoding)\n",
    "    tokens_count = len(encoding.encode((prompt + system_message[0][\"content\"])))\n",
    "    \n",
    "    while True:           \n",
    "        answer = check_code_run(messages,\n",
    "                                project_name=project_name,\n",
    "                                doc_name = doc_name,\n",
    "                                functions_list=functions_list, \n",
    "                                tools=functions,\n",
    "                                model=model, \n",
    "                                auto_run = auto_run)\n",
    "        \n",
    "        \n",
    "        print(f\"模型回答: {answer}\")\n",
    "        \n",
    "        #####################判断是否记录文档 start#######################\n",
    "        while True:\n",
    "            record = input('是否记录本次回答（1），还是再次输入问题并生成该问题答案（2）')\n",
    "            if record == '1':\n",
    "                \n",
    "                Q_temp = 'Q:' + user_input\n",
    "                A_temp = 'A:' + answer\n",
    "                \n",
    "                append_in_doc(folder_name=project_name, \n",
    "                                               doc_name=doc_name, \n",
    "                                               qa_string=Q_temp)\n",
    "                append_in_doc(folder_name=project_name, \n",
    "                                               doc_name=doc_name, \n",
    "                                               qa_string=A_temp)\n",
    "                \n",
    "                # 记录本轮问题答案\n",
    "                messages.append({\"role\": \"assistant\", \"content\": answer})\n",
    "                break\n",
    "            else:\n",
    "                print('好的，请再次输入问题')\n",
    "                user_input = input()\n",
    "                messages[-1][\"content\"] = user_input\n",
    "                answer = check_code_run(messages, \n",
    "                                        project_name=project_name,\n",
    "                                        doc_name = doc_name,\n",
    "                                        functions_list=functions_list,\n",
    "                                        tools=functions,\n",
    "                                        model=model,                                       \n",
    "                                        auto_run = auto_run)  \n",
    "                \n",
    "                print(f\"模型回答: {answer}\")\n",
    "                \n",
    "        ########################判断是否记录文档 stop #######################\n",
    "        \n",
    "\n",
    "        # 询问用户是否还有其他问题\n",
    "        user_input = input(\"您还有其他问题吗？(输入退出以结束对话): \")\n",
    "        if user_input == \"退出\":\n",
    "            del messages\n",
    "            break\n",
    "\n",
    "        # 记录新一轮问答\n",
    "        messages.append({\"role\": \"assistant\", \"content\": answer})\n",
    "        messages.append({\"role\": \"user\", \"content\": user_input})\n",
    "        \n",
    "        # 计算当前总token数\n",
    "        tokens_count += len(encoding.encode((answer + user_input)))\n",
    "        \n",
    "        # 删除超出token阈值的对话内容\n",
    "        while tokens_count >= tokens_thr:\n",
    "            tokens_count -= len(encoding.encode(messages.pop(1)[\"content\"]))"
   ]
  },
  {
   "cell_type": "code",
   "execution_count": 64,
   "id": "befc56a6-df69-4cc1-ba62-4971feafb7f3",
   "metadata": {
    "tags": []
   },
   "outputs": [],
   "source": [
    "#sql_inter,\n",
    "functions_list = [extract_data, python_inter]"
   ]
  },
  {
   "cell_type": "code",
   "execution_count": 65,
   "id": "4da020a3-167b-45f9-a820-53433b0c14f1",
   "metadata": {
    "tags": []
   },
   "outputs": [],
   "source": [
    "from IPython.display import display, Markdown, Code"
   ]
  },
  {
   "cell_type": "code",
   "execution_count": 83,
   "id": "8fc73321-9f35-4d52-aa05-b2d675db6ba1",
   "metadata": {
    "tags": []
   },
   "outputs": [
    {
     "name": "stdout",
     "output_type": "stream",
     "text": [
      "正在初始化外部函数库\n",
      "发生错误： Expecting value: line 1 column 1 (char 0)\n",
      "正在重新运行...\n",
      "[{'type': 'function', 'function': {'name': 'extract_data', 'description': '用于借助pymysql，将MySQL中的iquery数据库中的表读取并保存到本地Python环境中。', 'parameters': {'type': 'object', 'properties': {'sql_query': {'type': 'string', 'description': '字符串形式的SQL查询语句，用于提取MySQL中iquery数据库中的某张表。'}, 'df_name': {'type': 'string', 'description': '将MySQL数据库中提取的表格进行本地保存时的变量名，以字符串形式表示。'}}, 'required': ['sql_query', 'df_name']}}}, {'type': 'function', 'function': {'name': 'python_inter', 'description': '用于对chatbi数据库中各张数据表进行查询和处理，并获取最终查询或处理结果。', 'parameters': {'type': 'object', 'properties': {'py_code': {'type': 'string', 'description': '字符串形式的Python代码，用于执行对chatbi数据库中各张数据表进行操作'}}, 'required': ['py_code']}}}]\n",
      "外部函数库初始化完成\n"
     ]
    },
    {
     "name": "stdin",
     "output_type": "stream",
     "text": [
      "请输入当前分析项目名称： 电信用户行为分析\n"
     ]
    },
    {
     "name": "stdout",
     "output_type": "stream",
     "text": [
      "目录 电信用户行为分析 已存在\n",
      "已完成数据分析文件创建\n"
     ]
    },
    {
     "name": "stdin",
     "output_type": "stream",
     "text": [
      "请输入当前分析阶段，如数据探索阶段和理解、数据清洗阶段等： 数据可视化\n"
     ]
    },
    {
     "name": "stdout",
     "output_type": "stream",
     "text": [
      "好的，即将进入交互式分析流程\n",
      "已将问题转化为如下代码准备运行：\n"
     ]
    },
    {
     "data": {
      "text/markdown": [
       "```sql\n",
       "SELECT * FROM user_demographics\n",
       "```"
      ],
      "text/plain": [
       "<IPython.core.display.Markdown object>"
      ]
     },
     "metadata": {},
     "output_type": "display_data"
    },
    {
     "name": "stdin",
     "output_type": "stream",
     "text": [
      "是否确认并继续执行（1），或者退出本次运行过程（2） 1\n"
     ]
    },
    {
     "name": "stdout",
     "output_type": "stream",
     "text": [
      "正在执行代码，请稍后...\n"
     ]
    },
    {
     "name": "stderr",
     "output_type": "stream",
     "text": [
      "/tmp/ipykernel_150812/966933623.py:20: UserWarning: pandas only supports SQLAlchemy connectable (engine/connection) or database string URI or sqlite3 DBAPI2 connection. Other DBAPI2 objects are not tested. Please consider using SQLAlchemy.\n",
      "  globals()[df_name] = pd.read_sql(sql_query, connection)\n"
     ]
    },
    {
     "name": "stdout",
     "output_type": "stream",
     "text": [
      "模型回答: 已将iquery数据库中的user_demographics表保存到本地Python环境中，并命名为user_demographics_df。\n"
     ]
    },
    {
     "name": "stdin",
     "output_type": "stream",
     "text": [
      "是否记录本次回答（1），还是再次输入问题并生成该问题答案（2） 1\n"
     ]
    },
    {
     "name": "stdout",
     "output_type": "stream",
     "text": [
      "内容已追加到 数据可视化问答\n",
      "内容已追加到 数据可视化问答\n"
     ]
    },
    {
     "name": "stdin",
     "output_type": "stream",
     "text": [
      "您还有其他问题吗？(输入退出以结束对话):  解释一下user_demographics_df数据集中的字段\n"
     ]
    },
    {
     "name": "stdout",
     "output_type": "stream",
     "text": [
      "模型回答: user_demographics_df数据集包含以下字段：\n",
      "\n",
      "1. customerID：客户ID，为user_demographics表的主键，由数字和字母组成的字符串。\n",
      "\n",
      "2. gender：用户的性别，可取值为Female（女性）或Male（男性）。\n",
      "\n",
      "3. SeniorCitizen：是否为老年人，可取值为0（不是老年人）或1（是老年人）。\n",
      "\n",
      "4. Partner：是否有伴侣，可取值为Yes（有伴侣）或No（没有伴侣）。\n",
      "\n",
      "5. Dependents：是否经济独立，用于判断用户是否已经成年，可取值为Yes（经济独立）或No（不经济独立）。\n",
      "\n",
      "这些字段记录了每位电信用户的个人基本情况，包括性别、年龄状况、是否结婚以及是否经济独立等信息。\n"
     ]
    },
    {
     "name": "stdin",
     "output_type": "stream",
     "text": [
      "是否记录本次回答（1），还是再次输入问题并生成该问题答案（2） 1\n"
     ]
    },
    {
     "name": "stdout",
     "output_type": "stream",
     "text": [
      "内容已追加到 数据可视化问答\n",
      "内容已追加到 数据可视化问答\n"
     ]
    },
    {
     "name": "stdin",
     "output_type": "stream",
     "text": [
      "您还有其他问题吗？(输入退出以结束对话):  用可视化的方式展示user_demographics_df数据集中gender字段不同取值的占比情况\n"
     ]
    },
    {
     "ename": "KeyError",
     "evalue": "'python'",
     "output_type": "error",
     "traceback": [
      "\u001b[0;31m---------------------------------------------------------------------------\u001b[0m",
      "\u001b[0;31mKeyError\u001b[0m                                  Traceback (most recent call last)",
      "Cell \u001b[0;32mIn[83], line 1\u001b[0m\n\u001b[0;32m----> 1\u001b[0m \u001b[43mchat_with_inter\u001b[49m\u001b[43m(\u001b[49m\u001b[43mfunctions_list\u001b[49m\u001b[38;5;241;43m=\u001b[39;49m\u001b[43mfunctions_list\u001b[49m\u001b[43m,\u001b[49m\u001b[43m \u001b[49m\n\u001b[1;32m      2\u001b[0m \u001b[43m                \u001b[49m\u001b[43mprompt\u001b[49m\u001b[38;5;241;43m=\u001b[39;49m\u001b[38;5;124;43m\"\u001b[39;49m\u001b[38;5;124;43m请将iquery数据库中的user_demographics表保存到本地Python环境中，并命名为user_demographics_df\u001b[39;49m\u001b[38;5;124;43m\"\u001b[39;49m\u001b[43m,\u001b[49m\u001b[43m \u001b[49m\n\u001b[1;32m      3\u001b[0m \u001b[43m                \u001b[49m\u001b[43mmodel\u001b[49m\u001b[38;5;241;43m=\u001b[39;49m\u001b[38;5;124;43m\"\u001b[39;49m\u001b[38;5;124;43mgpt-3.5-turbo-16k\u001b[39;49m\u001b[38;5;124;43m\"\u001b[39;49m\u001b[43m,\u001b[49m\u001b[43m \u001b[49m\n\u001b[1;32m      4\u001b[0m \u001b[43m                \u001b[49m\u001b[43msystem_message\u001b[49m\u001b[38;5;241;43m=\u001b[39;49m\u001b[43m[\u001b[49m\u001b[43m{\u001b[49m\u001b[38;5;124;43m\"\u001b[39;49m\u001b[38;5;124;43mrole\u001b[39;49m\u001b[38;5;124;43m\"\u001b[39;49m\u001b[43m:\u001b[49m\u001b[43m \u001b[49m\u001b[38;5;124;43m\"\u001b[39;49m\u001b[38;5;124;43msystem\u001b[39;49m\u001b[38;5;124;43m\"\u001b[39;49m\u001b[43m,\u001b[49m\u001b[43m \u001b[49m\u001b[38;5;124;43m\"\u001b[39;49m\u001b[38;5;124;43mcontent\u001b[39;49m\u001b[38;5;124;43m\"\u001b[39;49m\u001b[43m:\u001b[49m\u001b[43m \u001b[49m\u001b[43mmd_content\u001b[49m\u001b[43m}\u001b[49m\u001b[43m]\u001b[49m\u001b[43m,\u001b[49m\u001b[43m \u001b[49m\n\u001b[1;32m      5\u001b[0m \u001b[43m                \u001b[49m\u001b[43mauto_run\u001b[49m\u001b[43m \u001b[49m\u001b[38;5;241;43m=\u001b[39;49m\u001b[43m \u001b[49m\u001b[38;5;28;43;01mFalse\u001b[39;49;00m\u001b[43m)\u001b[49m\n\u001b[1;32m      6\u001b[0m \u001b[38;5;66;03m## 用可视化的方式展示user_demographics_df数据集中gender字段不同取值的占比情况\u001b[39;00m\n",
      "Cell \u001b[0;32mIn[70], line 40\u001b[0m, in \u001b[0;36mchat_with_inter\u001b[0;34m(functions_list, prompt, model, system_message, auto_run)\u001b[0m\n\u001b[1;32m     37\u001b[0m tokens_count \u001b[38;5;241m=\u001b[39m \u001b[38;5;28mlen\u001b[39m(encoding\u001b[38;5;241m.\u001b[39mencode((prompt \u001b[38;5;241m+\u001b[39m system_message[\u001b[38;5;241m0\u001b[39m][\u001b[38;5;124m\"\u001b[39m\u001b[38;5;124mcontent\u001b[39m\u001b[38;5;124m\"\u001b[39m])))\n\u001b[1;32m     39\u001b[0m \u001b[38;5;28;01mwhile\u001b[39;00m \u001b[38;5;28;01mTrue\u001b[39;00m:           \n\u001b[0;32m---> 40\u001b[0m     answer \u001b[38;5;241m=\u001b[39m \u001b[43mcheck_code_run\u001b[49m\u001b[43m(\u001b[49m\u001b[43mmessages\u001b[49m\u001b[43m,\u001b[49m\n\u001b[1;32m     41\u001b[0m \u001b[43m                            \u001b[49m\u001b[43mproject_name\u001b[49m\u001b[38;5;241;43m=\u001b[39;49m\u001b[43mproject_name\u001b[49m\u001b[43m,\u001b[49m\n\u001b[1;32m     42\u001b[0m \u001b[43m                            \u001b[49m\u001b[43mdoc_name\u001b[49m\u001b[43m \u001b[49m\u001b[38;5;241;43m=\u001b[39;49m\u001b[43m \u001b[49m\u001b[43mdoc_name\u001b[49m\u001b[43m,\u001b[49m\n\u001b[1;32m     43\u001b[0m \u001b[43m                            \u001b[49m\u001b[43mfunctions_list\u001b[49m\u001b[38;5;241;43m=\u001b[39;49m\u001b[43mfunctions_list\u001b[49m\u001b[43m,\u001b[49m\u001b[43m \u001b[49m\n\u001b[1;32m     44\u001b[0m \u001b[43m                            \u001b[49m\u001b[43mtools\u001b[49m\u001b[38;5;241;43m=\u001b[39;49m\u001b[43mfunctions\u001b[49m\u001b[43m,\u001b[49m\n\u001b[1;32m     45\u001b[0m \u001b[43m                            \u001b[49m\u001b[43mmodel\u001b[49m\u001b[38;5;241;43m=\u001b[39;49m\u001b[43mmodel\u001b[49m\u001b[43m,\u001b[49m\u001b[43m \u001b[49m\n\u001b[1;32m     46\u001b[0m \u001b[43m                            \u001b[49m\u001b[43mauto_run\u001b[49m\u001b[43m \u001b[49m\u001b[38;5;241;43m=\u001b[39;49m\u001b[43m \u001b[49m\u001b[43mauto_run\u001b[49m\u001b[43m)\u001b[49m\n\u001b[1;32m     49\u001b[0m     \u001b[38;5;28mprint\u001b[39m(\u001b[38;5;124mf\u001b[39m\u001b[38;5;124m\"\u001b[39m\u001b[38;5;124m模型回答: \u001b[39m\u001b[38;5;132;01m{\u001b[39;00manswer\u001b[38;5;132;01m}\u001b[39;00m\u001b[38;5;124m\"\u001b[39m)\n\u001b[1;32m     51\u001b[0m     \u001b[38;5;66;03m#####################判断是否记录文档 start#######################\u001b[39;00m\n",
      "Cell \u001b[0;32mIn[62], line 45\u001b[0m, in \u001b[0;36mcheck_code_run\u001b[0;34m(messages, project_name, doc_name, functions_list, tools, model, auto_run)\u001b[0m\n\u001b[1;32m     43\u001b[0m \u001b[38;5;28;01mfor\u001b[39;00m tool_call \u001b[38;5;129;01min\u001b[39;00m tool_calls:\n\u001b[1;32m     44\u001b[0m     function_name \u001b[38;5;241m=\u001b[39m tool_call\u001b[38;5;241m.\u001b[39mfunction\u001b[38;5;241m.\u001b[39mname\n\u001b[0;32m---> 45\u001b[0m     function_to_call \u001b[38;5;241m=\u001b[39m \u001b[43mavailable_functions\u001b[49m\u001b[43m[\u001b[49m\u001b[43mfunction_name\u001b[49m\u001b[43m]\u001b[49m\n\u001b[1;32m     46\u001b[0m     function_args \u001b[38;5;241m=\u001b[39m json\u001b[38;5;241m.\u001b[39mloads(tool_call\u001b[38;5;241m.\u001b[39mfunction\u001b[38;5;241m.\u001b[39marguments)\n\u001b[1;32m     47\u001b[0m     \u001b[38;5;66;03m#########################################\u001b[39;00m\n\u001b[1;32m     48\u001b[0m         \u001b[38;5;66;03m# 创建code对象\u001b[39;00m\n",
      "\u001b[0;31mKeyError\u001b[0m: 'python'"
     ]
    }
   ],
   "source": [
    "chat_with_inter(functions_list=functions_list, \n",
    "                prompt=\"请将iquery数据库中的user_demographics表保存到本地Python环境中，并命名为user_demographics_df\", \n",
    "                model=\"gpt-3.5-turbo\", \n",
    "                system_message=[{\"role\": \"system\", \"content\": md_content}], \n",
    "                auto_run = False)\n",
    "## 用可视化的方式展示user_demographics_df数据集中gender字段不同取值的占比情况"
   ]
  },
  {
   "cell_type": "code",
   "execution_count": null,
   "id": "6cfb87b8-283c-47a1-9c3b-d929c83e15f1",
   "metadata": {},
   "outputs": [],
   "source": []
  },
  {
   "cell_type": "code",
   "execution_count": null,
   "id": "542fb665-5be3-4d01-92e5-4c20d73bcf69",
   "metadata": {},
   "outputs": [],
   "source": []
  },
  {
   "cell_type": "code",
   "execution_count": null,
   "id": "5f4200f4-6684-45a5-a688-a3de1e3aee4b",
   "metadata": {},
   "outputs": [],
   "source": []
  }
 ],
 "metadata": {
  "kernelspec": {
   "display_name": "Python 3 (ipykernel)",
   "language": "python",
   "name": "python3"
  },
  "language_info": {
   "codemirror_mode": {
    "name": "ipython",
    "version": 3
   },
   "file_extension": ".py",
   "mimetype": "text/x-python",
   "name": "python",
   "nbconvert_exporter": "python",
   "pygments_lexer": "ipython3",
   "version": "3.8.10"
  }
 },
 "nbformat": 4,
 "nbformat_minor": 5
}
