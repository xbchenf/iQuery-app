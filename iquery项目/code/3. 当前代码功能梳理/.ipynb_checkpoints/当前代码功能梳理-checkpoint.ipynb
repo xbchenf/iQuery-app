{
 "cells": [
  {
   "cell_type": "code",
   "execution_count": 1,
   "id": "507580cf-0183-47e9-ac08-49c853126404",
   "metadata": {
    "tags": []
   },
   "outputs": [],
   "source": [
    "## 导入依赖\n",
    "import openai\n",
    "import os\n",
    "import numpy as np\n",
    "import pandas as pd\n",
    "import json\n",
    "import io\n",
    "from openai import OpenAI\n",
    "import inspect\n",
    "import pymysql\n",
    "import tiktoken\n",
    "from docx import Document\n",
    "import matplotlib.pyplot as plt\n",
    "import seaborn as sns\n",
    "import tempfile\n",
    "import ast\n",
    "from IPython.display import display, Markdown, Code\n",
    "\n",
    "\n",
    "\n",
    "\n",
    "openai.api_key = os.getenv(\"OPENAI_API_KEY\")\n",
    "openai.api_base=\"https://newone.nxykj.tech/v1\"\n",
    "\n",
    "\n",
    "client = OpenAI(api_key=openai.api_key ,base_url=openai.api_base)"
   ]
  },
  {
   "cell_type": "markdown",
   "id": "be0303bf-6f35-4d61-a145-d8f76d2f117c",
   "metadata": {},
   "source": [
    "# 1. 外挂知识库"
   ]
  },
  {
   "cell_type": "code",
   "execution_count": 2,
   "id": "325c31b5-84cb-4739-9baa-8fec8a8e884d",
   "metadata": {
    "tags": []
   },
   "outputs": [],
   "source": [
    "# 读取数据字典\n",
    "with open('/root/autodl-tmp/iquery项目/data/数据字典/iquery数据字典.md', 'r', encoding='utf-8') as f:\n",
    "    md_content = f.read()"
   ]
  },
  {
   "cell_type": "code",
   "execution_count": 3,
   "id": "e2fa41fe-b002-4ac2-8fea-b2cd6a782bd7",
   "metadata": {
    "tags": []
   },
   "outputs": [],
   "source": [
    "# 读取业务知识文档\n",
    "with open(\"/root/autodl-tmp/iquery项目/data/业务知识/本公司数据分析师业务介绍.md\", 'r', encoding='utf-8') as f:\n",
    "    da_instruct = f.read()"
   ]
  },
  {
   "cell_type": "markdown",
   "id": "fd58b78a-e48f-4043-b380-5974cba39226",
   "metadata": {},
   "source": [
    "# 2. 在线云盘功能实现"
   ]
  },
  {
   "cell_type": "code",
   "execution_count": 4,
   "id": "37c20557-2c5f-447f-b827-961da1d87379",
   "metadata": {
    "tags": []
   },
   "outputs": [],
   "source": [
    "import os\n",
    "\n",
    "def create_directory(directory):\n",
    "    \"\"\"\n",
    "    根据项目创建云盘目录\n",
    "    \"\"\"\n",
    "    base_path = \"/root/autodl-tmp/iquery项目/iquery云盘\"\n",
    "    full_path = os.path.join(base_path, directory)\n",
    "    # 如果目录不存在，则创建它\n",
    "    if not os.path.exists(full_path):\n",
    "        os.makedirs(full_path)\n",
    "        print(f\"目录 {directory} 创建成功\")\n",
    "    else:\n",
    "        print(f\"目录 {directory} 已存在\")"
   ]
  },
  {
   "cell_type": "code",
   "execution_count": 5,
   "id": "2d262ba9-07cd-4098-9ad3-c49b4c2afd6d",
   "metadata": {
    "tags": []
   },
   "outputs": [],
   "source": [
    "import os\n",
    "from docx import Document\n",
    "\n",
    "def append_in_doc(folder_name, doc_name, qa_string):\n",
    "    \"\"\"\"\n",
    "    往文件里追加内容\n",
    "    @param folder_name=目录名，doc_name=文件名，qa_string=追加的内容\n",
    "    \"\"\"\n",
    "    base_path = \"/root/autodl-tmp/iquery项目/iquery云盘\"\n",
    "    ## 目录地址\n",
    "    full_path_folder=base_path+\"/\"+folder_name\n",
    "    ## 文件地址\n",
    "    full_path_doc = os.path.join(full_path_folder, doc_name)+\".doc\"\n",
    "    \n",
    "\n",
    "    # 检查目录是否存在，如果不存在则创建\n",
    "    if not os.path.exists(full_path_folder):\n",
    "        os.makedirs(full_path_folder)\n",
    "    \n",
    "    # 检查文件是否存在\n",
    "    if os.path.exists(full_path_doc):\n",
    "        # 文件存在，打开并追加内容\n",
    "        document = Document(full_path_doc)\n",
    "    else:\n",
    "        # 文件不存在，创建一个新的文档对象\n",
    "        document = Document()\n",
    "\n",
    "    # 追加内容\n",
    "    document.add_paragraph(qa_string)\n",
    "    \n",
    "    # 保存文档\n",
    "    document.save(full_path_doc)\n",
    "    print(f\"内容已追加到 {doc_name}\")"
   ]
  },
  {
   "cell_type": "code",
   "execution_count": 6,
   "id": "7d69d2ba-7a1c-4c26-9880-e9687a1c0712",
   "metadata": {
    "tags": []
   },
   "outputs": [],
   "source": [
    "from docx import Document\n",
    "import matplotlib.pyplot as plt\n",
    "import os\n",
    "import tempfile\n",
    "\n",
    "def append_img_in_doc(folder_name, doc_name, img):\n",
    "    \"\"\"\"\n",
    "    往文件里追加图片\n",
    "    @param folder_name=目录名，doc_name=文件名，img=图片对象，数据类型为matplotlib.figure.Figure对象\n",
    "    \"\"\"\n",
    "    base_path = \"/root/autodl-tmp/iquery项目/iquery云盘\"\n",
    "    ## 目录地址\n",
    "    full_path_folder=base_path+\"/\"+folder_name\n",
    "    ## 文件地址\n",
    "    full_path_doc = os.path.join(full_path_folder, doc_name)+\".doc\"\n",
    "    \n",
    "\n",
    "    # 检查目录是否存在，如果不存在则创建\n",
    "    if not os.path.exists(full_path_folder):\n",
    "        os.makedirs(full_path_folder)\n",
    "    \n",
    "    # 检查文件是否存在\n",
    "    if os.path.exists(full_path_doc):\n",
    "        print(full_path_doc)\n",
    "        # 文件存在，打开并追加内容\n",
    "        document = Document(full_path_doc)\n",
    "    else:\n",
    "        # 文件不存在，创建一个新的文档对象\n",
    "        document = Document()\n",
    "\n",
    "    # 追加图片\n",
    "    # 将matplotlib的Figure对象保存为临时图片文件\n",
    "    with tempfile.NamedTemporaryFile(delete=False, suffix='.png') as tmpfile:\n",
    "        fig.savefig(tmpfile.name, format='png')\n",
    "        # 将图片插入到.docx文档中\n",
    "        document.add_picture(tmpfile.name)\n",
    "    \n",
    "    # 保存文档\n",
    "    document.save(full_path_doc)\n",
    "    print(f\"图片已追加到 {doc_name}\")\n"
   ]
  },
  {
   "cell_type": "code",
   "execution_count": 7,
   "id": "00b09670-b1f4-42c0-a94a-186f5f6452a8",
   "metadata": {
    "tags": []
   },
   "outputs": [],
   "source": [
    "## 实现根据项目和文件获取文件内容的方法\n",
    "\n",
    "from docx import Document\n",
    "import os\n",
    "\n",
    "def get_file_content(project_name, file_name):\n",
    "    \"\"\"\n",
    "    实现根据项目名和文件名获取文件内容的方法\n",
    "    @param project_name:项目名，file_name：文件名\n",
    "    @return 文件内容\n",
    "    \"\"\"\n",
    "    # 构建文件的完整路径\n",
    "    base_path = \"/root/autodl-tmp/iquery项目/iquery云盘\"\n",
    "    file_path = os.path.join(project_name, file_name)\n",
    "    full_path = os.path.join(base_path, file_path)+\".doc\"\n",
    "    \n",
    "    # 确保文件存在\n",
    "    if not os.path.exists(full_path):\n",
    "        return \"文件不存在\"\n",
    "    \n",
    "    try:\n",
    "        # 加载文档\n",
    "        doc = Document(full_path)\n",
    "        content = []\n",
    "        \n",
    "        # 遍历文档中的每个段落，并收集文本\n",
    "        for para in doc.paragraphs:\n",
    "            content.append(para.text)\n",
    "        \n",
    "        # 将所有段落文本合并成一个字符串返回\n",
    "        return '\\n'.join(content)\n",
    "    except Exception as e:\n",
    "        return f\"读取文件时发生错误: {e}\""
   ]
  },
  {
   "cell_type": "markdown",
   "id": "4dd2f80d-3942-46c9-ae1d-264b85b37ded",
   "metadata": {},
   "source": [
    "# 3. 辅助函数"
   ]
  },
  {
   "cell_type": "code",
   "execution_count": 8,
   "id": "6ab58591-6bd3-419c-b30d-1493aaf0a28a",
   "metadata": {
    "tags": []
   },
   "outputs": [],
   "source": [
    "import ast\n",
    "def extract_python(json_str):\n",
    "    \"\"\"\n",
    "    解析JSON字符串中的Python代码\n",
    "    \"\"\"\n",
    "    if isinstance(json_str, dict):\n",
    "        return json_str['py_code']   \n",
    "       # 使用literal_eval将字符串转换为字典\n",
    "    dict_data = json.loads(json_str)\n",
    "    # 提取'py_code'的值\n",
    "    py_code_value = dict_data['py_code']\n",
    "    # 提取并返回'py_code'的值\n",
    "    return py_code_value"
   ]
  },
  {
   "cell_type": "code",
   "execution_count": 9,
   "id": "81ee180f-6eb4-4f78-8821-5e68e5622a59",
   "metadata": {
    "tags": []
   },
   "outputs": [],
   "source": [
    "import ast\n",
    "\n",
    "def extract_sql(json_str):\n",
    "    \"\"\"\n",
    "    解析JSON字符串中的SQL代码\n",
    "    \"\"\"\n",
    "    if isinstance(json_str, dict):\n",
    "        return json_str['sql_query']\n",
    "    # 使用literal_eval将字符串转换为字典\n",
    "    dict_data = ast.literal_eval(json.dumps(json_str))\n",
    "\n",
    "    # 提取'sql_query'的值\n",
    "    sql_query_value = dict_data['sql_query']\n",
    "    # 提取并返回'sql_query'的值\n",
    "    return sql_query_value"
   ]
  },
  {
   "cell_type": "code",
   "execution_count": 10,
   "id": "dbc035c1-b6de-4e3a-a20b-a9bd77b38cec",
   "metadata": {
    "tags": []
   },
   "outputs": [],
   "source": [
    "def insert_fig_object(code_str):\n",
    "    \"\"\"\n",
    "    为图片创建fig对象\n",
    "    \"\"\"\n",
    "    global fig\n",
    "    # 检查是否已存在 fig 对象的创建\n",
    "    if 'fig = plt.figure' in code_str:\n",
    "        return code_str  # 如果存在，则返回原始代码字符串\n",
    "\n",
    "    # 定义可能的库别名和全名\n",
    "    plot_aliases = ['plt.', 'matplotlib.pyplot.','plot']\n",
    "    sns_aliases = ['sns.', 'seaborn.']\n",
    "\n",
    "    # 寻找第一次出现绘图相关代码的位置\n",
    "    first_plot_occurrence = min((code_str.find(alias) for alias in plot_aliases + sns_aliases if code_str.find(alias) >= 0), default=-1)\n",
    " \n",
    "    # 如果找到绘图代码，则在该位置之前插入 fig 对象的创建\n",
    "    if first_plot_occurrence != -1:\n",
    "        plt_figure_index = code_str.find('plt.figure')\n",
    "        if plt_figure_index != -1:\n",
    "            # 寻找 plt.figure 后的括号位置，以确定是否有参数\n",
    "            closing_bracket_index = code_str.find(')', plt_figure_index)\n",
    "            # 如果找到了 plt.figure()，则替换为 fig = plt.figure()\n",
    "            modified_str = code_str[:plt_figure_index] + 'fig = ' + code_str[plt_figure_index:closing_bracket_index + 1] + code_str[closing_bracket_index + 1:]\n",
    "        else:\n",
    "            modified_str = code_str[:first_plot_occurrence] + 'fig = plt.figure()\\n' + code_str[first_plot_occurrence:]\n",
    "        return modified_str\n",
    "    else:\n",
    "        return code_str  # 如果没有找到绘图代码，则返回原始代码字符串"
   ]
  },
  {
   "cell_type": "markdown",
   "id": "7fb72ccb-9514-42e8-b4eb-304b90a4e8af",
   "metadata": {},
   "source": [
    "# 4. 外部函数"
   ]
  },
  {
   "cell_type": "code",
   "execution_count": 11,
   "id": "48734fbd-d31f-4156-a41a-dfbb1d96ccbc",
   "metadata": {
    "tags": []
   },
   "outputs": [],
   "source": [
    "def python_inter(py_code):\n",
    "    \"\"\"\n",
    "    用于对chatbi数据库中各张数据表进行查询和处理，并获取最终查询或处理结果。\n",
    "    :param py_code: 字符串形式的Python代码，用于执行对chatbi数据库中各张数据表进行操作\n",
    "    :return：代码运行的最终结果\n",
    "    \"\"\"    \n",
    "    # 添加图片对象，如果存在绘图代码，则创建fig对象\n",
    "    py_code = insert_fig_object(py_code)\n",
    "    global_vars_before = set(globals().keys())\n",
    "    try:\n",
    "        exec(py_code, globals())\n",
    "    except Exception as e:\n",
    "        return str(e)\n",
    "    global_vars_after = set(globals().keys())\n",
    "    new_vars = global_vars_after - global_vars_before\n",
    "    if new_vars:\n",
    "        result = {var: globals()[var] for var in new_vars}\n",
    "        return str(result)\n",
    "    else:\n",
    "        try:\n",
    "            return str(eval(py_code, globals()))\n",
    "        except Exception as e:\n",
    "            return \"已经顺利执行代码\""
   ]
  },
  {
   "cell_type": "code",
   "execution_count": 12,
   "id": "b094dd5b-9d82-44a0-acfd-8dcf370cab61",
   "metadata": {
    "tags": []
   },
   "outputs": [],
   "source": [
    "def sql_inter(sql_query):\n",
    "    \"\"\"\n",
    "    用于获取iquery数据库中各张表的有关相关信息，\\\n",
    "    核心功能是将输入的SQL代码传输至iquery数据库所在的MySQL环境中进行运行，\\\n",
    "    并最终返回SQL代码运行结果。需要注意的是，本函数是借助pymysql来连接MySQL数据库。\n",
    "    :param sql_query: 字符串形式的SQL查询语句，用于执行对MySQL中iquery数据库中各张表进行查询，并获得各表中的各类相关信息\n",
    "    :return：sql_query在MySQL中的运行结果。\n",
    "    \"\"\"\n",
    "    \n",
    "    mysql_pw = \"iquery_agent\"\n",
    "    \n",
    "    connection = pymysql.connect(\n",
    "            host='localhost',  # 数据库地址\n",
    "            user='iquery_agent',  # 数据库用户名\n",
    "            passwd=mysql_pw,  # 数据库密码\n",
    "            db='iquery',  # 数据库名\n",
    "            charset='utf8'  # 字符集选择utf8\n",
    "        )\n",
    "    \n",
    "    try:\n",
    "        with connection.cursor() as cursor:\n",
    "            # SQL查询语句\n",
    "            sql = sql_query\n",
    "            cursor.execute(sql)\n",
    "\n",
    "            # 获取查询结果\n",
    "            results = cursor.fetchall()\n",
    "\n",
    "    finally:\n",
    "        connection.close()\n",
    "    \n",
    "    \n",
    "    return json.dumps(results)"
   ]
  },
  {
   "cell_type": "code",
   "execution_count": 13,
   "id": "eb798553-fc9a-4804-8c96-6a2f47caa5dc",
   "metadata": {
    "tags": []
   },
   "outputs": [],
   "source": [
    "def extract_data(sql_query,df_name):\n",
    "    \"\"\"\n",
    "    用于借助pymysql，将MySQL中的iquery数据库中的表读取并保存到本地Python环境中。\n",
    "    :param sql_query: 字符串形式的SQL查询语句，用于提取MySQL中iquery数据库中的某张表。\n",
    "    :param df_name: 将MySQL数据库中提取的表格进行本地保存时的变量名，以字符串形式表示。\n",
    "    :return：表格读取和保存结果\n",
    "    \"\"\"\n",
    "    \n",
    "    mysql_pw = \"iquery_agent\"\n",
    "    \n",
    "    connection = pymysql.connect(\n",
    "            host='localhost',  # 数据库地址\n",
    "            user='iquery_agent',  # 数据库用户名\n",
    "            passwd=mysql_pw,  # 数据库密码\n",
    "            db='iquery',  # 数据库名\n",
    "            charset='utf8'  # 字符集选择utf8\n",
    "        )\n",
    "    \n",
    "    \n",
    "    globals()[df_name] = pd.read_sql(sql_query, connection)\n",
    "    \n",
    "    return \"已成功完成%s变量创建\" % df_name"
   ]
  },
  {
   "cell_type": "markdown",
   "id": "b444dc0b-6a0c-4bc1-b4d7-02b011e7cd8f",
   "metadata": {},
   "source": [
    "# 5. 核心函数"
   ]
  },
  {
   "cell_type": "code",
   "execution_count": 14,
   "id": "007b9690-ca87-47d5-8816-eb2891a9b6c4",
   "metadata": {
    "tags": []
   },
   "outputs": [],
   "source": [
    "def auto_functions(functions_list):\n",
    "    \"\"\"\n",
    "    Chat模型的functions参数编写函数\n",
    "    :param functions_list: 包含一个或者多个函数对象的列表；\n",
    "    :return：满足Chat模型functions参数要求的functions对象\n",
    "    \"\"\"\n",
    "    def functions_generate(functions_list):\n",
    "        # 创建空列表，用于保存每个函数的描述字典\n",
    "        functions = []\n",
    "        # 对每个外部函数进行循环\n",
    "        for function in functions_list:\n",
    "            # 读取函数对象的函数说明\n",
    "            function_description = inspect.getdoc(function)\n",
    "            # 读取函数的函数名字符串\n",
    "            function_name = function.__name__\n",
    "\n",
    "            system_prompt = '以下是某的函数说明：%s' % function_description\n",
    "            user_prompt = '根据这个函数的函数说明，请帮我创建一个JSON格式的字典，这个字典有如下5点要求：\\\n",
    "                           1.字典总共有三个键值对；\\\n",
    "                           2.第一个键值对的Key是字符串name，value是该函数的名字：%s，也是字符串；\\\n",
    "                           3.第二个键值对的Key是字符串description，value是该函数的函数的功能说明，也是字符串；\\\n",
    "                           4.第三个键值对的Key是字符串parameters，value是一个JSON Schema对象，用于说明该函数的参数输入规范。\\\n",
    "                           5.输出结果必须是一个JSON格式的字典，只输出这个字典即可，前后不需要任何前后修饰或说明的语句' % function_name\n",
    "\n",
    "            response = client.chat.completions.create(\n",
    "                              model=\"gpt-3.5-turbo\",\n",
    "                              messages=[\n",
    "                                {\"role\": \"system\", \"content\": system_prompt},\n",
    "                                {\"role\": \"user\", \"content\": user_prompt}\n",
    "                              ]\n",
    "                            )\n",
    "            json_function_description=json.loads(response.choices[0].message.content.replace(\"```\",\"\").replace(\"json\",\"\"))\n",
    "            json_str={\"type\": \"function\",\"function\":json_function_description}\n",
    "            functions.append(json_str)\n",
    "        return functions\n",
    "    \n",
    "    max_attempts = 4\n",
    "    attempts = 0\n",
    "\n",
    "    while attempts < max_attempts:\n",
    "        try:\n",
    "            functions = functions_generate(functions_list)\n",
    "            break  # 如果代码成功执行，跳出循环\n",
    "        except Exception as e:\n",
    "            attempts += 1  # 增加尝试次数\n",
    "            print(\"发生错误：\", e)\n",
    "            if attempts == max_attempts:\n",
    "                print(\"已达到最大尝试次数，程序终止。\")\n",
    "                raise  # 重新引发最后一个异常\n",
    "            else:\n",
    "                print(\"正在重新运行...\")\n",
    "    return functions"
   ]
  },
  {
   "cell_type": "code",
   "execution_count": 15,
   "id": "1660c558-4b80-40cf-a21c-203e030f5861",
   "metadata": {
    "tags": []
   },
   "outputs": [],
   "source": [
    "from IPython.display import display, Markdown, Code\n",
    "def check_code_run(messages,\n",
    "                   project_name,\n",
    "                   doc_name,\n",
    "                   functions_list=None,\n",
    "                   tools=None,\n",
    "                   model=\"gpt-3.5-turbo\",\n",
    "                   auto_run = True):\n",
    "    \"\"\"\n",
    "    能够自动执行外部函数调用的对话模型\n",
    "    :param messages: 必要参数，字典类型，输入到Chat模型的messages参数对象\n",
    "    :param prject_name: 项目名\n",
    "    :param doc_name: 文件名\n",
    "    :param functions_list: 可选参数，默认为None，可以设置为包含全部外部函数的列表对象\n",
    "    :param model: Chat模型，可选参数，默认模型为gpt-3.5-turbo\n",
    "    :return：Chat模型输出结果\n",
    "    \"\"\"\n",
    "    code = None\n",
    "    # 如果没有外部函数库，则执行普通的对话任务\n",
    "    if functions_list == None:\n",
    "        response = client.chat.completions.create(\n",
    "                        model=model,\n",
    "                        messages=messages,\n",
    "                        )\n",
    "        response_message = response.choices[0].message\n",
    "        final_response = response_message.content\n",
    "        \n",
    "    # 若存在外部函数库，则需要灵活选取外部函数并进行回答\n",
    "    else:\n",
    "\n",
    "        # 创建外部函数库字典\n",
    "        available_functions = {func.__name__: func for func in functions_list}\n",
    "\n",
    "        # 第一次调用大模型\n",
    "        response = client.chat.completions.create(\n",
    "                        model=model,\n",
    "                        messages=messages,\n",
    "                        tools=tools,\n",
    "                        tool_choice=\"auto\", )\n",
    "        response_message = response.choices[0].message\n",
    "        tool_calls = response_message.tool_calls\n",
    "        if tool_calls:\n",
    "            messages.append(response_message) \n",
    "            for tool_call in tool_calls:\n",
    "                function_name = tool_call.function.name\n",
    "                function_to_call = available_functions[function_name]\n",
    "                function_args = json.loads(tool_call.function.arguments)\n",
    "                #########################################\n",
    "                    # 创建code对象\n",
    "                if 'sql_inter' in function_name or 'extract_data' in function_name:\n",
    "                    code = extract_sql(function_args)\n",
    "                    # 将代码字符串转换为Markdown格式\n",
    "                    markdown_code = f\"```sql\\n{code}\\n```\"\n",
    "                else:\n",
    "                    code = extract_python(function_args)\n",
    "                    \n",
    "                    code = insert_fig_object(code)\n",
    "                    # 将代码字符串转换为Markdown格式\n",
    "                    markdown_code = f\"```python\\n{code}\\n```\"\n",
    "                #########################################\n",
    "              \n",
    "                if auto_run == False: \n",
    "                    print(\"已将问题转化为如下代码准备运行：\")\n",
    "                    # 在Jupyter Notebook中展示Markdown格式的代码\n",
    "                    display(Markdown(markdown_code))\n",
    "                \n",
    "                    res = input('是否确认并继续执行（1），或者退出本次运行过程（2）')\n",
    "                    if res == '2':\n",
    "                        print(\"终止运行\")\n",
    "                        return None\n",
    "                    else:\n",
    "                        print(\"正在执行代码，请稍后...\")\n",
    "                        \n",
    "                function_response = function_to_call(**function_args)\n",
    "                messages.append(\n",
    "                    {\n",
    "                        \"tool_call_id\": tool_call.id,\n",
    "                        \"role\": \"tool\",\n",
    "                        \"name\": function_name,\n",
    "                        \"content\": function_response,\n",
    "                    }\n",
    "                ) \n",
    "            ## 第二次调用模型\n",
    "            second_response = client.chat.completions.create(\n",
    "                model=model,\n",
    "                messages=messages,\n",
    "            ) \n",
    "            # 获取最终结果\n",
    "            final_response = second_response.choices[0].message.content\n",
    "        else:\n",
    "            final_response = response_message.content\n",
    "    del messages\n",
    "    ##################################\n",
    "    if code:\n",
    "        substrings = ['plt.', 'matplotlib.pyplot.', 'sns.', 'seaborn.','plot']\n",
    "        if any(substring in code for substring in substrings):\n",
    "            global fig\n",
    "            append_img_in_doc(project_name, doc_name, img=fig)\n",
    "            print(\"图片保存成功！\")\n",
    "    ################################\n",
    "                \n",
    "    return final_response"
   ]
  },
  {
   "cell_type": "code",
   "execution_count": 16,
   "id": "9f25aeeb-b09d-4a89-a4f8-93959c7efee8",
   "metadata": {
    "tags": []
   },
   "outputs": [],
   "source": [
    "import tiktoken\n",
    "\n",
    "def chat_with_inter(functions_list=None, \n",
    "                    prompt=\"你好呀\", \n",
    "                    model=\"gpt-3.5-turbo\", \n",
    "                    system_message=[{\"role\": \"system\", \"content\": \"你是一个智能助手。\"}], \n",
    "                    auto_run = True):\n",
    "    \n",
    "    print(\"正在初始化外部函数库\")\n",
    "    # 创建函数列表对应的参数解释列表\n",
    "    tools = auto_functions(functions_list)\n",
    "    print(\"外部函数库初始化完成\")\n",
    "    project_name = input(\"请输入当前分析项目名称：\")\n",
    "    folder_name = create_directory(project_name)\n",
    "    print(\"已完成数据分析文件创建\")\n",
    "    doc_name = input(\"请输入当前分析阶段，如数据探索阶段和理解、数据清洗阶段等：\")\n",
    "    doc_name += '问答'\n",
    "    print(\"好的，即将进入交互式分析流程\")\n",
    "    # 多轮对话阈值\n",
    "    if 'gpt-4' in model:\n",
    "        tokens_thr = 6000\n",
    "    elif '16k' in model:\n",
    "        tokens_thr = 14000\n",
    "    else:\n",
    "        tokens_thr = 3000\n",
    "    \n",
    "    messages = system_message\n",
    "    ## 完成给用户输入的问题赋值\n",
    "    user_input = prompt\n",
    "    messages.append({\"role\": \"user\", \"content\": prompt})\n",
    "    ## 计算token大小\n",
    "    embedding_model = \"text-embedding-ada-002\"\n",
    "    # 模型对应的分词器（TOKENIZER）\n",
    "    embedding_encoding = \"cl100k_base\"\n",
    "    encoding = tiktoken.get_encoding(embedding_encoding)\n",
    "    tokens_count = len(encoding.encode((prompt + system_message[0][\"content\"])))\n",
    "    \n",
    "    while True:           \n",
    "        answer = check_code_run(messages,\n",
    "                                project_name=project_name,\n",
    "                                doc_name = doc_name,\n",
    "                                functions_list=functions_list, \n",
    "                                tools=tools,\n",
    "                                model=model, \n",
    "                                auto_run = auto_run)\n",
    "        \n",
    "        \n",
    "        print(f\"模型回答: {answer}\")\n",
    "        \n",
    "        #####################判断是否记录文档 start#######################\n",
    "        while True:\n",
    "            record = input('是否记录本次回答（1），还是再次输入问题并生成该问题答案（2）')\n",
    "            if record == '1':\n",
    "                \n",
    "                Q_temp = 'Q:' + user_input\n",
    "                A_temp = 'A:' + answer\n",
    "                \n",
    "                append_in_doc(folder_name=project_name, \n",
    "                                               doc_name=doc_name, \n",
    "                                               qa_string=Q_temp)\n",
    "                append_in_doc(folder_name=project_name, \n",
    "                                               doc_name=doc_name, \n",
    "                                               qa_string=A_temp)\n",
    "                \n",
    "                # 记录本轮问题答案\n",
    "                messages.append({\"role\": \"assistant\", \"content\": answer})\n",
    "                break\n",
    "            else:\n",
    "                print('好的，请再次输入问题')\n",
    "                user_input = input()\n",
    "                messages[-1][\"content\"] = user_input\n",
    "                answer = check_code_run(messages, \n",
    "                                        project_name=project_name,\n",
    "                                        doc_name = doc_name,\n",
    "                                        functions_list=functions_list,\n",
    "                                        tools=tools,\n",
    "                                        model=model,                                       \n",
    "                                        auto_run = auto_run)  \n",
    "                \n",
    "                print(f\"模型回答: {answer}\")\n",
    "                \n",
    "        ########################判断是否记录文档 stop #######################\n",
    "        \n",
    "\n",
    "        # 询问用户是否还有其他问题\n",
    "        user_input = input(\"您还有其他问题吗？(输入退出以结束对话): \")\n",
    "        if user_input == \"退出\":\n",
    "            del messages\n",
    "            break\n",
    "\n",
    "        # 记录新一轮问答\n",
    "        messages.append({\"role\": \"assistant\", \"content\": answer})\n",
    "        messages.append({\"role\": \"user\", \"content\": user_input})\n",
    "        \n",
    "        # 计算当前总token数\n",
    "        tokens_count += len(encoding.encode((answer + user_input)))\n",
    "        \n",
    "        # 删除超出token阈值的对话内容\n",
    "        while tokens_count >= tokens_thr:\n",
    "            tokens_count -= len(encoding.encode(messages.pop(1)[\"content\"]))"
   ]
  },
  {
   "cell_type": "code",
   "execution_count": 17,
   "id": "440b4606-f507-4a7c-afa8-254c5f5c2a24",
   "metadata": {
    "tags": []
   },
   "outputs": [],
   "source": [
    "functions_list = [extract_data, python_inter]"
   ]
  },
  {
   "cell_type": "code",
   "execution_count": 18,
   "id": "cfbadc1d-4e1a-434d-a495-51f7451154d9",
   "metadata": {
    "tags": []
   },
   "outputs": [
    {
     "name": "stdout",
     "output_type": "stream",
     "text": [
      "正在初始化外部函数库\n",
      "外部函数库初始化完成\n"
     ]
    },
    {
     "name": "stdin",
     "output_type": "stream",
     "text": [
      "请输入当前分析项目名称： iquery项目总结\n"
     ]
    },
    {
     "name": "stdout",
     "output_type": "stream",
     "text": [
      "目录 iquery项目总结 已存在\n",
      "已完成数据分析文件创建\n"
     ]
    },
    {
     "name": "stdin",
     "output_type": "stream",
     "text": [
      "请输入当前分析阶段，如数据探索阶段和理解、数据清洗阶段等： 数据可视化\n"
     ]
    },
    {
     "name": "stdout",
     "output_type": "stream",
     "text": [
      "好的，即将进入交互式分析流程\n",
      "已将问题转化为如下代码准备运行：\n"
     ]
    },
    {
     "data": {
      "text/markdown": [
       "```sql\n",
       "SELECT * FROM user_demographics\n",
       "```"
      ],
      "text/plain": [
       "<IPython.core.display.Markdown object>"
      ]
     },
     "metadata": {},
     "output_type": "display_data"
    },
    {
     "name": "stdin",
     "output_type": "stream",
     "text": [
      "是否确认并继续执行（1），或者退出本次运行过程（2） 1\n"
     ]
    },
    {
     "name": "stdout",
     "output_type": "stream",
     "text": [
      "正在执行代码，请稍后...\n"
     ]
    },
    {
     "name": "stderr",
     "output_type": "stream",
     "text": [
      "/tmp/ipykernel_1136/966933623.py:20: UserWarning: pandas only supports SQLAlchemy connectable (engine/connection) or database string URI or sqlite3 DBAPI2 connection. Other DBAPI2 objects are not tested. Please consider using SQLAlchemy.\n",
      "  globals()[df_name] = pd.read_sql(sql_query, connection)\n"
     ]
    },
    {
     "name": "stdout",
     "output_type": "stream",
     "text": [
      "模型回答: 已将iquery数据库中的user_demographics表保存到本地Python环境中，并命名为user_demographics_df。\n"
     ]
    },
    {
     "name": "stdin",
     "output_type": "stream",
     "text": [
      "是否记录本次回答（1），还是再次输入问题并生成该问题答案（2） 1\n"
     ]
    },
    {
     "name": "stdout",
     "output_type": "stream",
     "text": [
      "内容已追加到 数据可视化问答\n",
      "内容已追加到 数据可视化问答\n"
     ]
    },
    {
     "name": "stdin",
     "output_type": "stream",
     "text": [
      "您还有其他问题吗？(输入退出以结束对话):  统计一下user_demographics_d数据集中有多少条数据\n"
     ]
    },
    {
     "name": "stdout",
     "output_type": "stream",
     "text": [
      "已将问题转化为如下代码准备运行：\n"
     ]
    },
    {
     "data": {
      "text/markdown": [
       "```python\n",
       "len(user_demographics_df)\n",
       "```"
      ],
      "text/plain": [
       "<IPython.core.display.Markdown object>"
      ]
     },
     "metadata": {},
     "output_type": "display_data"
    },
    {
     "name": "stdin",
     "output_type": "stream",
     "text": [
      "是否确认并继续执行（1），或者退出本次运行过程（2） 1\n"
     ]
    },
    {
     "name": "stdout",
     "output_type": "stream",
     "text": [
      "正在执行代码，请稍后...\n",
      "模型回答: user_demographics数据集中共有5353条数据。\n"
     ]
    },
    {
     "name": "stdin",
     "output_type": "stream",
     "text": [
      "是否记录本次回答（1），还是再次输入问题并生成该问题答案（2） 1\n"
     ]
    },
    {
     "name": "stdout",
     "output_type": "stream",
     "text": [
      "内容已追加到 数据可视化问答\n",
      "内容已追加到 数据可视化问答\n"
     ]
    },
    {
     "name": "stdin",
     "output_type": "stream",
     "text": [
      "您还有其他问题吗？(输入退出以结束对话):  解释一下user_demographics_d数据集的字段\n"
     ]
    },
    {
     "name": "stdout",
     "output_type": "stream",
     "text": [
      "模型回答: user_demographics数据集中的字段解释如下：\n",
      "\n",
      "1. customerID：客户ID，user_demographics数据表的主键，由数字和字母组成。\n",
      "\n",
      "2. gender：用户的性别，取值为Female（女性）或Male（男性）。\n",
      "\n",
      "3. SeniorCitizen：是否为老人，取值为0（不是）或1（是）。\n",
      "\n",
      "4. Partner：用户是否有伴侣，取值为Yes（有）或No（没有）。\n",
      "\n",
      "5. Dependents：用户经济是否独立，往往用于判断用户是否已经成年，取值为Yes（有）或No（没有）。\n",
      "\n",
      "这些字段记录了用户的个人基本情况，包括性别、年龄状况、是否结婚以及是否经济独立等。\n"
     ]
    },
    {
     "name": "stdin",
     "output_type": "stream",
     "text": [
      "是否记录本次回答（1），还是再次输入问题并生成该问题答案（2） 1\n"
     ]
    },
    {
     "name": "stdout",
     "output_type": "stream",
     "text": [
      "内容已追加到 数据可视化问答\n",
      "内容已追加到 数据可视化问答\n"
     ]
    },
    {
     "name": "stdin",
     "output_type": "stream",
     "text": [
      "您还有其他问题吗？(输入退出以结束对话):  iquery数据库中有哪些表？\n"
     ]
    },
    {
     "name": "stdout",
     "output_type": "stream",
     "text": [
      "已将问题转化为如下代码准备运行：\n"
     ]
    },
    {
     "data": {
      "text/markdown": [
       "```python\n",
       "tables = engine.table_names()\n",
       "tables\n",
       "```"
      ],
      "text/plain": [
       "<IPython.core.display.Markdown object>"
      ]
     },
     "metadata": {},
     "output_type": "display_data"
    },
    {
     "name": "stdin",
     "output_type": "stream",
     "text": [
      "是否确认并继续执行（1），或者退出本次运行过程（2） 1\n"
     ]
    },
    {
     "name": "stdout",
     "output_type": "stream",
     "text": [
      "正在执行代码，请稍后...\n",
      "模型回答: 我需要连接到数据库以获取表名。请提供连接到iquery数据库的相关信息，例如主机名、端口号、用户名和密码等。\n"
     ]
    },
    {
     "name": "stdin",
     "output_type": "stream",
     "text": [
      "是否记录本次回答（1），还是再次输入问题并生成该问题答案（2） 2\n"
     ]
    },
    {
     "name": "stdout",
     "output_type": "stream",
     "text": [
      "好的，请再次输入问题\n"
     ]
    },
    {
     "name": "stdin",
     "output_type": "stream",
     "text": [
      " 查看一下iquery数据库下有哪些表？\n"
     ]
    },
    {
     "name": "stdout",
     "output_type": "stream",
     "text": [
      "已将问题转化为如下代码准备运行：\n"
     ]
    },
    {
     "data": {
      "text/markdown": [
       "```python\n",
       "tables = engine.table_names()\n",
       "tables\n",
       "```"
      ],
      "text/plain": [
       "<IPython.core.display.Markdown object>"
      ]
     },
     "metadata": {},
     "output_type": "display_data"
    },
    {
     "name": "stdin",
     "output_type": "stream",
     "text": [
      "是否确认并继续执行（1），或者退出本次运行过程（2） 1\n"
     ]
    },
    {
     "name": "stdout",
     "output_type": "stream",
     "text": [
      "正在执行代码，请稍后...\n",
      "模型回答: 在当前环境下无法访问iquery数据库，因此无法查看数据库中的表。请确保已经正确连接到iquery数据库，并且具有访问权限。\n"
     ]
    },
    {
     "name": "stdin",
     "output_type": "stream",
     "text": [
      "是否记录本次回答（1），还是再次输入问题并生成该问题答案（2） 查看一下MySQL数据中iquery数据库下有哪些表？\n"
     ]
    },
    {
     "name": "stdout",
     "output_type": "stream",
     "text": [
      "好的，请再次输入问题\n"
     ]
    },
    {
     "name": "stdin",
     "output_type": "stream",
     "text": [
      " 查看一下MySQL数据中iquery数据库下有哪些表？\n"
     ]
    },
    {
     "name": "stdout",
     "output_type": "stream",
     "text": [
      "已将问题转化为如下代码准备运行：\n"
     ]
    },
    {
     "data": {
      "text/markdown": [
       "```python\n",
       "tables = engine.table_names()\n",
       "tables\n",
       "```"
      ],
      "text/plain": [
       "<IPython.core.display.Markdown object>"
      ]
     },
     "metadata": {},
     "output_type": "display_data"
    },
    {
     "name": "stdin",
     "output_type": "stream",
     "text": [
      "是否确认并继续执行（1），或者退出本次运行过程（2） 1\n"
     ]
    },
    {
     "name": "stdout",
     "output_type": "stream",
     "text": [
      "正在执行代码，请稍后...\n",
      "模型回答: I'm sorry, it seems that there was an error in accessing the database. Please make sure that you have established a connection to the iquery database and try again.\n"
     ]
    },
    {
     "name": "stdin",
     "output_type": "stream",
     "text": [
      "是否记录本次回答（1），还是再次输入问题并生成该问题答案（2） 1\n"
     ]
    },
    {
     "name": "stdout",
     "output_type": "stream",
     "text": [
      "内容已追加到 数据可视化问答\n",
      "内容已追加到 数据可视化问答\n"
     ]
    },
    {
     "name": "stdin",
     "output_type": "stream",
     "text": [
      "您还有其他问题吗？(输入退出以结束对话):  我想分析一下电信用户流失情况，需要到iquery中哪些表？\n"
     ]
    },
    {
     "name": "stdout",
     "output_type": "stream",
     "text": [
      "模型回答: 要分析电信用户的流失情况，您需要访问iquery数据库中的以下表：\n",
      "\n",
      "1. user_demographics：用户的个人基本情况，包括性别、年龄状况、是否结婚以及是否经济独立等。\n",
      "\n",
      "2. user_services：用户订购的电信服务情况，包括电话服务、网络服务以及其他可能的增值服务。\n",
      "\n",
      "3. user_payments：用户的支付情况，包括支付方式、合同类型以及每月和总消费金额等。\n",
      "\n",
      "4. user_churn：用户的流失情况，记录了用户是否已流失。\n",
      "\n",
      "通过分析这些表的数据，您可以了解用户的基本特征、订购的服务类型、支付情况以及是否存在流失的情况，从而进行相关的用户流失分析。\n"
     ]
    },
    {
     "name": "stdin",
     "output_type": "stream",
     "text": [
      "是否记录本次回答（1），还是再次输入问题并生成该问题答案（2） 1\n"
     ]
    },
    {
     "name": "stdout",
     "output_type": "stream",
     "text": [
      "内容已追加到 数据可视化问答\n",
      "内容已追加到 数据可视化问答\n"
     ]
    },
    {
     "name": "stdin",
     "output_type": "stream",
     "text": [
      "您还有其他问题吗？(输入退出以结束对话):  统计一下user_churn表中用户流失的占比\n"
     ]
    },
    {
     "name": "stdout",
     "output_type": "stream",
     "text": [
      "已将问题转化为如下代码准备运行：\n"
     ]
    },
    {
     "data": {
      "text/markdown": [
       "```python\n",
       "churn_count = user_churn_df['Churn'].value_counts()\n",
       "churn_percentage = churn_count['Yes'] / churn_count.sum()\n",
       "churn_percentage\n",
       "```"
      ],
      "text/plain": [
       "<IPython.core.display.Markdown object>"
      ]
     },
     "metadata": {},
     "output_type": "display_data"
    },
    {
     "name": "stdin",
     "output_type": "stream",
     "text": [
      "是否确认并继续执行（1），或者退出本次运行过程（2） 1\n"
     ]
    },
    {
     "name": "stdout",
     "output_type": "stream",
     "text": [
      "正在执行代码，请稍后...\n",
      "模型回答: 在计算用户流失占比之前，请先将user_churn表保存到本地Python环境中，并命名为user_churn_df。然后可以使用以下代码来计算用户流失的占比：\n",
      "\n",
      "```python\n",
      "churn_count = user_churn_df['Churn'].value_counts()\n",
      "churn_percentage = churn_count['Yes'] / churn_count.sum()\n",
      "churn_percentage\n",
      "```\n",
      "\n",
      "请先执行以上步骤，再计算用户流失的占比。\n"
     ]
    },
    {
     "name": "stdin",
     "output_type": "stream",
     "text": [
      "是否记录本次回答（1），还是再次输入问题并生成该问题答案（2） 1\n"
     ]
    },
    {
     "name": "stdout",
     "output_type": "stream",
     "text": [
      "内容已追加到 数据可视化问答\n",
      "内容已追加到 数据可视化问答\n"
     ]
    },
    {
     "name": "stdin",
     "output_type": "stream",
     "text": [
      "您还有其他问题吗？(输入退出以结束对话):  请将iquery数据库中的user_churn表保存到本地Python环境中，并命名为user_churn_df\n"
     ]
    },
    {
     "name": "stdout",
     "output_type": "stream",
     "text": [
      "已将问题转化为如下代码准备运行：\n"
     ]
    },
    {
     "data": {
      "text/markdown": [
       "```sql\n",
       "SELECT * FROM user_churn\n",
       "```"
      ],
      "text/plain": [
       "<IPython.core.display.Markdown object>"
      ]
     },
     "metadata": {},
     "output_type": "display_data"
    },
    {
     "name": "stdin",
     "output_type": "stream",
     "text": [
      "是否确认并继续执行（1），或者退出本次运行过程（2） 1\n"
     ]
    },
    {
     "name": "stdout",
     "output_type": "stream",
     "text": [
      "正在执行代码，请稍后...\n",
      "模型回答: 已将iquery数据库中的user_churn表保存到本地Python环境中，并命名为user_churn_df。\n"
     ]
    },
    {
     "name": "stdin",
     "output_type": "stream",
     "text": [
      "是否记录本次回答（1），还是再次输入问题并生成该问题答案（2） 1\n"
     ]
    },
    {
     "name": "stdout",
     "output_type": "stream",
     "text": [
      "内容已追加到 数据可视化问答\n",
      "内容已追加到 数据可视化问答\n"
     ]
    },
    {
     "name": "stdin",
     "output_type": "stream",
     "text": [
      "您还有其他问题吗？(输入退出以结束对话):  统计一下user_churn_df中用户流失的占比\n"
     ]
    },
    {
     "name": "stdout",
     "output_type": "stream",
     "text": [
      "已将问题转化为如下代码准备运行：\n"
     ]
    },
    {
     "data": {
      "text/markdown": [
       "```python\n",
       "churn_count = user_churn_df['Churn'].value_counts()\n",
       "churn_percentage = churn_count['Yes'] / churn_count.sum()\n",
       "churn_percentage\n",
       "```"
      ],
      "text/plain": [
       "<IPython.core.display.Markdown object>"
      ]
     },
     "metadata": {},
     "output_type": "display_data"
    },
    {
     "name": "stdin",
     "output_type": "stream",
     "text": [
      "是否确认并继续执行（1），或者退出本次运行过程（2） 1\n"
     ]
    },
    {
     "name": "stdout",
     "output_type": "stream",
     "text": [
      "正在执行代码，请稍后...\n",
      "模型回答: 根据user_churn_df数据集统计，用户流失的占比为26.76%。其中，用户流失的数量为1521个，用户总数为5684个。\n",
      "\n",
      "请注意，用户流失占比的计算是基于user_churn_df数据集的统计，具体的占比可能会因数据集的更新和样本的选择而有所不同。\n"
     ]
    },
    {
     "name": "stdin",
     "output_type": "stream",
     "text": [
      "是否记录本次回答（1），还是再次输入问题并生成该问题答案（2） 1\n"
     ]
    },
    {
     "name": "stdout",
     "output_type": "stream",
     "text": [
      "内容已追加到 数据可视化问答\n",
      "内容已追加到 数据可视化问答\n"
     ]
    },
    {
     "name": "stdin",
     "output_type": "stream",
     "text": [
      "您还有其他问题吗？(输入退出以结束对话):  根据你掌握的数据情况，如果我想减少电信用户的流失，你有什么建议？\n"
     ]
    },
    {
     "name": "stdout",
     "output_type": "stream",
     "text": [
      "模型回答: 根据数据情况，如果您想减少电信用户的流失，我有以下建议：\n",
      "\n",
      "1. 提供优质的客户服务：建立一个高效和友好的客户服务团队，及时回应用户的问题和需求，提供满意的解决方案，以提升用户的满意度和忠诚度。\n",
      "\n",
      "2. 提供个性化的服务：了解用户的需求和偏好，根据其特定需求提供个性化的服务和定制化的产品，增加用户的粘性和满意度。\n",
      "\n",
      "3. 提供具有竞争力的价格：通过正常的市场竞争策略，提供有竞争力的价格和优惠活动，吸引用户留存并吸引新用户。\n",
      "\n",
      "4. 提供高质量的网络和技术支持：保持网络的稳定性和速度，提供及时的技术支持，确保用户可以顺畅地使用电信服务。\n",
      "\n",
      "5. 定期进行用户调研和反馈收集：定期进行用户满意度调研和反馈收集，了解用户的意见和反馈，及时改进和优化服务，提升用户的体验。\n",
      "\n",
      "6. 推出具有吸引力的增值服务：开发具有吸引力和差异化的增值服务，如网络电视、在线娱乐、智能家居等，以增加用户对服务的依赖性和满意度。\n",
      "\n",
      "7. 加强用户教育和沟通：定期向用户提供相关信息、产品更新和优惠活动，加强与用户的沟通和互动，增加用户的参与感和忠诚度。\n",
      "\n",
      "这些建议将有助于提高用户的满意度、忠诚度和留存率，减少电信用户的流失。然而，具体的策略和措施需要根据您的业务情况和目标受众做出具体调整和决策。\n"
     ]
    },
    {
     "name": "stdin",
     "output_type": "stream",
     "text": [
      "是否记录本次回答（1），还是再次输入问题并生成该问题答案（2） 1\n"
     ]
    },
    {
     "name": "stdout",
     "output_type": "stream",
     "text": [
      "内容已追加到 数据可视化问答\n",
      "内容已追加到 数据可视化问答\n"
     ]
    },
    {
     "name": "stdin",
     "output_type": "stream",
     "text": [
      "您还有其他问题吗？(输入退出以结束对话):  退出\n"
     ]
    }
   ],
   "source": [
    "chat_with_inter(functions_list=functions_list, \n",
    "                prompt=\"请将iquery数据库中的user_demographics表保存到本地Python环境中，并命名为user_demographics_df\", \n",
    "                model=\"gpt-3.5-turbo-16k\", \n",
    "                system_message=[{\"role\": \"system\", \"content\": md_content}], \n",
    "                auto_run = False)"
   ]
  },
  {
   "cell_type": "code",
   "execution_count": null,
   "id": "656203b4-39e6-4d89-b6ed-6f7ad1644e0d",
   "metadata": {},
   "outputs": [],
   "source": []
  },
  {
   "cell_type": "code",
   "execution_count": null,
   "id": "1f3b2357-4880-49ab-8a0f-32080ead39ae",
   "metadata": {},
   "outputs": [],
   "source": []
  },
  {
   "cell_type": "code",
   "execution_count": null,
   "id": "36163c78-ed54-4a9e-b665-81a88f0f8d77",
   "metadata": {},
   "outputs": [],
   "source": []
  },
  {
   "cell_type": "code",
   "execution_count": null,
   "id": "e1ab52bf-12a0-44b0-a940-e90b5b19d07b",
   "metadata": {},
   "outputs": [],
   "source": []
  },
  {
   "cell_type": "code",
   "execution_count": null,
   "id": "2c20c614-b779-4bbd-af3c-7269877639ca",
   "metadata": {},
   "outputs": [],
   "source": []
  },
  {
   "cell_type": "code",
   "execution_count": null,
   "id": "b89a8de6-5bfb-4738-8cd4-56a9a657c0ef",
   "metadata": {},
   "outputs": [],
   "source": []
  },
  {
   "cell_type": "code",
   "execution_count": null,
   "id": "09400cae-c331-4ecd-8f3e-7a1a9accaed1",
   "metadata": {},
   "outputs": [],
   "source": []
  },
  {
   "cell_type": "code",
   "execution_count": null,
   "id": "30d29717-af85-4bb5-99a1-8ec7d126c962",
   "metadata": {},
   "outputs": [],
   "source": []
  },
  {
   "cell_type": "code",
   "execution_count": null,
   "id": "aa3bc034-f088-4929-8411-8b7af1a46514",
   "metadata": {},
   "outputs": [],
   "source": []
  },
  {
   "cell_type": "code",
   "execution_count": null,
   "id": "58a17699-3285-459a-81ff-1f36c03b8f8c",
   "metadata": {},
   "outputs": [],
   "source": []
  },
  {
   "cell_type": "code",
   "execution_count": null,
   "id": "4cfa27c1-0a76-4595-a340-84eb0dadca45",
   "metadata": {},
   "outputs": [],
   "source": []
  },
  {
   "cell_type": "code",
   "execution_count": null,
   "id": "ab91a20a-dfec-4151-8fec-ad87dfad5c95",
   "metadata": {},
   "outputs": [],
   "source": []
  },
  {
   "cell_type": "code",
   "execution_count": null,
   "id": "1e1ae72f-a5dc-4ce7-8a0c-1c3c4d0048e5",
   "metadata": {},
   "outputs": [],
   "source": []
  },
  {
   "cell_type": "code",
   "execution_count": null,
   "id": "18c49a26-0961-4984-9ed8-67cbc2d53018",
   "metadata": {},
   "outputs": [],
   "source": []
  },
  {
   "cell_type": "code",
   "execution_count": null,
   "id": "db9c5ca1-9bd5-44cc-b30e-b0bed3d9a56c",
   "metadata": {},
   "outputs": [],
   "source": []
  },
  {
   "cell_type": "code",
   "execution_count": null,
   "id": "7d12b222-5cb1-4a90-aff1-bb14580714b6",
   "metadata": {},
   "outputs": [],
   "source": []
  },
  {
   "cell_type": "code",
   "execution_count": null,
   "id": "594cd0ee-e6b3-4eee-96c2-c8facddfbae5",
   "metadata": {},
   "outputs": [],
   "source": []
  }
 ],
 "metadata": {
  "kernelspec": {
   "display_name": "Python 3 (ipykernel)",
   "language": "python",
   "name": "python3"
  },
  "language_info": {
   "codemirror_mode": {
    "name": "ipython",
    "version": 3
   },
   "file_extension": ".py",
   "mimetype": "text/x-python",
   "name": "python",
   "nbconvert_exporter": "python",
   "pygments_lexer": "ipython3",
   "version": "3.8.10"
  }
 },
 "nbformat": 4,
 "nbformat_minor": 5
}
