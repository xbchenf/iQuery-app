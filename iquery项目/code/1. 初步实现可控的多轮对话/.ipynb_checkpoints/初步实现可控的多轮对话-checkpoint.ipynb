{
 "cells": [
  {
   "cell_type": "markdown",
   "id": "0466478c-d3a8-4249-be7e-16c3f136eaf8",
   "metadata": {},
   "source": [
    "# 1. 添加数据字典知识"
   ]
  },
  {
   "cell_type": "code",
   "execution_count": 61,
   "id": "11c1ec00-455f-429e-af78-cc5baa9e1fd9",
   "metadata": {
    "tags": []
   },
   "outputs": [],
   "source": []
  },
  {
   "cell_type": "code",
   "execution_count": 38,
   "id": "14600e80-ec1c-4ac4-b375-e90d6f4f0bd7",
   "metadata": {
    "tags": []
   },
   "outputs": [],
   "source": [
    "import openai\n",
    "import os\n",
    "import numpy as np\n",
    "import pandas as pd\n",
    "import json\n",
    "import io\n",
    "from openai import OpenAI\n",
    "import inspect\n",
    "import pymysql\n",
    "\n",
    "\n",
    "openai.api_key = os.getenv(\"OPENAI_API_KEY\")\n",
    "openai.api_base=\"https://newone.nxykj.tech/v1\"\n",
    "\n",
    "\n",
    "client = OpenAI(api_key=openai.api_key ,base_url=openai.api_base)"
   ]
  },
  {
   "cell_type": "code",
   "execution_count": 62,
   "id": "da77a820-963f-449a-9e32-6cc44a20f861",
   "metadata": {
    "tags": []
   },
   "outputs": [],
   "source": [
    "def auto_functions(functions_list):\n",
    "    \"\"\"\n",
    "    Chat模型的functions参数编写函数\n",
    "    :param functions_list: 包含一个或者多个函数对象的列表；\n",
    "    :return：满足Chat模型functions参数要求的functions对象\n",
    "    \"\"\"\n",
    "    def functions_generate(functions_list):\n",
    "        # 创建空列表，用于保存每个函数的描述字典\n",
    "        functions = []\n",
    "        # 对每个外部函数进行循环\n",
    "        for function in functions_list:\n",
    "            # 读取函数对象的函数说明\n",
    "            function_description = inspect.getdoc(function)\n",
    "            # 读取函数的函数名字符串\n",
    "            function_name = function.__name__\n",
    "\n",
    "            system_prompt = '以下是某的函数说明：%s' % function_description\n",
    "            user_prompt = '根据这个函数的函数说明，请帮我创建一个JSON格式的字典，这个字典有如下5点要求：\\\n",
    "                           1.字典总共有三个键值对；\\\n",
    "                           2.第一个键值对的Key是字符串name，value是该函数的名字：%s，也是字符串；\\\n",
    "                           3.第二个键值对的Key是字符串description，value是该函数的函数的功能说明，也是字符串；\\\n",
    "                           4.第三个键值对的Key是字符串parameters，value是一个JSON Schema对象，用于说明该函数的参数输入规范。\\\n",
    "                           5.输出结果必须是一个JSON格式的字典，只输出这个字典即可，前后不需要任何前后修饰或说明的语句' % function_name\n",
    "\n",
    "            response = client.chat.completions.create(\n",
    "                              model=\"gpt-3.5-turbo\",\n",
    "                              messages=[\n",
    "                                {\"role\": \"system\", \"content\": system_prompt},\n",
    "                                {\"role\": \"user\", \"content\": user_prompt}\n",
    "                              ]\n",
    "                            )\n",
    "            json_function_description=json.loads(response.choices[0].message.content.replace(\"```\",\"\").replace(\"json\",\"\"))\n",
    "            json_str={\"type\": \"function\",\"function\":json_function_description}\n",
    "            functions.append(json_str)\n",
    "        return functions\n",
    "    \n",
    "    max_attempts = 4\n",
    "    attempts = 0\n",
    "\n",
    "    while attempts < max_attempts:\n",
    "        try:\n",
    "            functions = functions_generate(functions_list)\n",
    "            break  # 如果代码成功执行，跳出循环\n",
    "        except Exception as e:\n",
    "            attempts += 1  # 增加尝试次数\n",
    "            print(\"发生错误：\", e)\n",
    "            if attempts == max_attempts:\n",
    "                print(\"已达到最大尝试次数，程序终止。\")\n",
    "                raise  # 重新引发最后一个异常\n",
    "            else:\n",
    "                print(\"正在重新运行...\")\n",
    "    return functions"
   ]
  },
  {
   "cell_type": "code",
   "execution_count": 63,
   "id": "7ec4860b-cce7-42ea-84f5-4c38c01f483f",
   "metadata": {
    "tags": []
   },
   "outputs": [],
   "source": [
    "def run_conversation(messages, functions_list=None, model=\"gpt-3.5-turbo\"):\n",
    "    \"\"\"\n",
    "    能够自动执行外部函数调用的对话模型\n",
    "    :param messages: 必要参数，字典类型，输入到Chat模型的messages参数对象\n",
    "    :param functions_list: 可选参数，默认为None，可以设置为包含全部外部函数的列表对象\n",
    "    :param model: Chat模型，可选参数，默认模型为gpt-3.5-turbo\n",
    "    :return：Chat模型输出结果\n",
    "    \"\"\"\n",
    "    # 如果没有外部函数库，则执行普通的对话任务\n",
    "    if functions_list == None:\n",
    "        response = client.chat.completions.create(\n",
    "                        model=model,\n",
    "                        messages=messages,\n",
    "                        )\n",
    "        response_message = response.choices[0].message\n",
    "        final_response = response_message.content\n",
    "        \n",
    "    # 若存在外部函数库，则需要灵活选取外部函数并进行回答\n",
    "    else:\n",
    "        # 创建functions对象\n",
    "        tools = auto_functions(functions_list)\n",
    "\n",
    "        # 创建外部函数库字典\n",
    "        available_functions = {func.__name__: func for func in functions_list}\n",
    "\n",
    "        # 第一次调用大模型\n",
    "        response = client.chat.completions.create(\n",
    "                        model=model,\n",
    "                        messages=messages,\n",
    "                        tools=tools,\n",
    "                        tool_choice=\"auto\", )\n",
    "        response_message = response.choices[0].message\n",
    "\n",
    "        tool_calls = response_message.tool_calls\n",
    "        if tool_calls:\n",
    "            messages.append(response_message) \n",
    "            for tool_call in tool_calls:\n",
    "                function_name = tool_call.function.name\n",
    "                function_to_call = available_functions[function_name]\n",
    "                function_args = json.loads(tool_call.function.arguments)\n",
    "                function_response = function_to_call(**function_args)\n",
    "                messages.append(\n",
    "                    {\n",
    "                        \"tool_call_id\": tool_call.id,\n",
    "                        \"role\": \"tool\",\n",
    "                        \"name\": function_name,\n",
    "                        \"content\": function_response,\n",
    "                    }\n",
    "                ) \n",
    "            ## 第二次调用模型\n",
    "            second_response = client.chat.completions.create(\n",
    "                model=model,\n",
    "                messages=messages,\n",
    "            ) \n",
    "            # 获取最终结果\n",
    "            final_response = second_response.choices[0].message.content\n",
    "        else:\n",
    "            final_response = response_message.content\n",
    "                \n",
    "    return final_response"
   ]
  },
  {
   "cell_type": "code",
   "execution_count": 64,
   "id": "cfcfee53-87f8-42d1-87a5-7669ce8eab66",
   "metadata": {
    "tags": []
   },
   "outputs": [],
   "source": [
    "def get_user_demographics(sql_query):\n",
    "    \"\"\"\n",
    "    用户获取user_demographics 表的相关信息\n",
    "    :param sql_query: 字符串形式的SQL语句\n",
    "    :return SQL查询的user_demographics 表的相关信息\n",
    "    \"\"\"\n",
    "    mysql_pw=\"iquery_agent\"\n",
    "    \n",
    "    connection = pymysql.connect(\n",
    "    host='localhost',  # 数据库地址\n",
    "    user='iquery_agent',  # 数据库用户名\n",
    "    passwd=mysql_pw,  # 数据库密码\n",
    "    db='iquery',  # 数据库名\n",
    "    charset='utf8'  # 字符集选择utf8   \n",
    "    )\n",
    "    try:\n",
    "        with connection.cursor() as cursor:\n",
    "            sql = sql_query\n",
    "            cursor.execute(sql)\n",
    "            results = cursor.fetchall()\n",
    "    finally:\n",
    "        cursor.close()\n",
    "    \n",
    "    column_names = [desc[0] for desc in cursor.description]\n",
    "\n",
    "    # 使用results和column_names创建DataFrame\n",
    "    df = pd.DataFrame(results, columns=column_names)\n",
    "        \n",
    "    return df.to_json(orient = \"records\")         "
   ]
  },
  {
   "cell_type": "code",
   "execution_count": 65,
   "id": "fa9a42e6-401f-4c3a-a236-94b5493a7785",
   "metadata": {
    "tags": []
   },
   "outputs": [],
   "source": [
    "functions_list = [get_user_demographics]"
   ]
  },
  {
   "cell_type": "code",
   "execution_count": 69,
   "id": "4f7812bd-7c9d-4e62-af15-c2ada6b36f08",
   "metadata": {
    "tags": []
   },
   "outputs": [
    {
     "data": {
      "text/plain": [
       "[{'type': 'function',\n",
       "  'function': {'name': 'get_user_demographics',\n",
       "   'description': '用户获取user_demographics 表的相关信息',\n",
       "   'parameters': {'type': 'object',\n",
       "    'properties': {'sql_query': {'type': 'string',\n",
       "      'description': '字符串形式的SQL语句'}},\n",
       "    'required': ['sql_query']}}}]"
      ]
     },
     "execution_count": 69,
     "metadata": {},
     "output_type": "execute_result"
    }
   ],
   "source": [
    "tools = auto_functions(functions_list)\n",
    "tools"
   ]
  },
  {
   "cell_type": "code",
   "execution_count": 70,
   "id": "9f969df6-1523-4008-8c9a-5159d82d6044",
   "metadata": {
    "tags": []
   },
   "outputs": [
    {
     "data": {
      "text/plain": [
       "ChatCompletionMessage(content=None, role='assistant', function_call=None, tool_calls=[ChatCompletionMessageToolCall(id='call_5VK3ywSsn76wNBfAEc17FaWr', function=Function(arguments='{\"sql_query\":\"SELECT COUNT(*) FROM user_demographics WHERE age >= 60 AND gender = \\'male\\'\"}', name='get_user_demographics'), type='function')])"
      ]
     },
     "execution_count": 70,
     "metadata": {},
     "output_type": "execute_result"
    }
   ],
   "source": [
    " messages=[\n",
    "            {\"role\": \"user\", \"content\": \"请问user_demographics表中个人属性为老年男性的数据总共有多少条？\"}\n",
    "        ]\n",
    "    \n",
    "response = client.chat.completions.create(\n",
    "        model=\"gpt-3.5-turbo\",\n",
    "        messages=messages,\n",
    "        tools=tools,\n",
    "        tool_choice=\"auto\",  \n",
    "    )\n",
    "\n",
    "response.choices[0].message"
   ]
  },
  {
   "cell_type": "code",
   "execution_count": 71,
   "id": "a3f57855-82ed-4261-b90f-2ec388f6e8b7",
   "metadata": {
    "tags": []
   },
   "outputs": [
    {
     "data": {
      "text/plain": [
       "'# iquery数据字典：iquery数据库数据字典\\n\\n本数据字典记录了iquery数据库中各张数据表的基本情况。\\n\\n## 1.user_demographics数据表\\n\\n- 基本解释\\n\\n  \\u200b\\t\\tuser_demographics数据表记录了电信用户的个人基本情况，主要涵盖客户基本生物属性，包括性别、年龄状况、是否结婚以及是否经济独立等。\\n\\n- 数据来源\\n\\n  \\u200b\\tuser_demographics数据集由一线业务人员人工采集记录，并且通过回访确认相关信息，数据集的准确性和可信度都非常高。\\n\\n- 各字段说明\\n\\n| Column Name | Description | Value Range | Value Explanation | Type |\\n|-------------|-------------|-------------|-------------------|------|\\n| customerID | 客户ID，user_demographics数据表主键 |              | 由数字和字母组成的 | VARCHAR(255) |\\n| gender | 用户的性别 | Female, Male | Female (女性), Male (男性) | VARCHAR(255) |\\n| SeniorCitizen | 是否为老人 | 0, 1 | 0 (不是), 1 (是) | INT |\\n| Partner | 用户是否有伴侣 | Yes, No | Yes (有), No (没有) | VARCHAR(255) |\\n| Dependents | 用户经济是否独立，往往用于判断用户是否已经成年 | No, Yes | Yes (有), No (没有) | VARCHAR(255) |\\n\\n## 2.user_services数据表\\n\\n- 基本解释\\n\\n  \\u200b        user_services数据表记录了每位用户订购电信服务的基本情况，截至目前，电信服务商提供了种类多样的服务，包括电话类服务和网络类服务等，本数据集表记录了每位用户订阅电信服务的基本情况。\\n\\n- 数据来源\\n\\n  \\u200b\\t\\tuser_services数据表由后台系统自动创建生成，并未经过人工校验。\\n\\n- 各字段说明\\n\\n| Column Name | Description | Value Range | Value Explanation | Type |\\n|-------------|-------------|-------------|-------------------|------|\\n| customerID | 客户ID，user_services数据表主键 |  | 由数字和字母组成的 | VARCHAR(255) |\\n| PhoneService | 用户是否有电话服务 | No, Yes | Yes (有), No (没有) | VARCHAR(255) |\\n| MultipleLines | 用户是否开通了多条电话业务 | No phone service, No, Yes | Yes (有多条电话线业务), No (没有多条电话线业务), No phone service (没有电话服务) | VARCHAR(255) |\\n| InternetService | 用户的互联网服务类型 | DSL, Fiber optic, No | DSL (DSL), Fiber optic (光纤), No (没有) | VARCHAR(255) |\\n| OnlineSecurity | 是否开通网络安全服务 | No, Yes, No internet service | Yes（有）、No（无） or No internetservice（没有网路服务） | VARCHAR(255) |\\n| OnlineBackup | 是否开通在线备份服务 | Yes, No, No internet service | Yes（有）、No（无） or No internetservice（没有网路服务） | VARCHAR(255) |\\n| DeviceProtection | 是否开通设备保护服务 | No, Yes, No internet service | Yes（有）、No（无） or No internetservice（没有网路服务） | VARCHAR(255) |\\n| TechSupport | 是否开通技术支持业务 | No, Yes, No internet service | Yes（有）、No（无） or No internetservice（没有网路服务） | VARCHAR(255) |\\n| StreamingTV | 是否开通网络电视 | No, Yes, No internet service | Yes（有）、No（无） or No internetservice（没有网路服务） | VARCHAR(255) |\\n| StreamingMovies | 是否开通网络电影 | No, Yes, No internet service | Yes（有）、No（无） or No internetservice（没有网路服务） | VARCHAR(255) |\\n\\n## 3.user_payments数据表\\n\\n- 基本解释\\n\\n  \\u200b\\t\\tuser_payments数据表记录了每一位用户支付状况，既包括用户的支付方式和合同类型，同时也包含用户具体支付金额，包括月付金额和总金额等。\\n\\n- 数据来源\\n\\n  \\u200b\\t\\tuser_payments数据表由后台自动记录生成，并未经过校验。\\n\\n- 各字段说明\\n\\n| Column Name | Description | Value Range | Value Explanation | Type |\\n|-------------|-------------|-------------|-------------------|------|\\n| customerID | 客户ID，user_payments数据表主键 |  | 由数字和字母组成的 | VARCHAR(255) |\\n| Contract | 合同类型 | Month-to-month, One year, Two year | Month-to-month (月付), One year (一年付), Two year (两年付) | VARCHAR(255) |\\n| PaperlessBilling | 是否无纸化账单 | Yes, No | Yes (是), No (否) | VARCHAR(255) |\\n| PaymentMethod | 支付方式 | Electronic check, Mailed check, Bank transfer (automatic), Credit card (automatic) | Electronic check (电子检查), Mailed check (邮寄支票), Bank transfer (automatic) (银行转账), Credit card (automatic) (信用卡) | VARCHAR(255) |\\n| MonthlyCharges | 月费用 |  | 用户平均每月支付费用 | FLOAT        |\\n| TotalCharges | 总费用 |  | 截至目前用户总消费金额 | VARCHAR(255) |\\n\\n## 4.user_churn\\n\\n- 基本解释\\n\\n  \\u200b\\t\\tuser_churn数据表记录了当前用户流失情况。\\n\\n- 数据来源\\n\\n  \\u200b\\t\\tuser_churn数据表由后台自动创建并记录，当合同截至后但用户未续费，则判断该用户目前处于流失状态。\\n\\n- 各字段说明\\n\\n| Column Name | Description | Value Range | Value Explanation | Type |\\n|-------------|-------------|-------------|-------------------|------|\\n| customerID | 客户ID，user_churn数据表主键 |             | 由数字和字母组成的 | VARCHAR(255) |\\n| Churn | 用户是否流失 | No, Yes | Yes (是), No (否) | VARCHAR(255) |\\n\\n'"
      ]
     },
     "execution_count": 71,
     "metadata": {},
     "output_type": "execute_result"
    }
   ],
   "source": [
    "# 打开并读取Markdown文件\n",
    "with open('/root/autodl-tmp/iquery项目/data/数据字典/iquery数据字典.md', 'r', encoding='utf-8') as f:\n",
    "    md_content = f.read()\n",
    "    \n",
    "md_content"
   ]
  },
  {
   "cell_type": "code",
   "execution_count": 72,
   "id": "994fe5a0-aee0-4c4c-bf9b-b6e1c0dafde9",
   "metadata": {
    "tags": []
   },
   "outputs": [
    {
     "data": {
      "text/plain": [
       "ChatCompletionMessage(content=None, role='assistant', function_call=None, tool_calls=[ChatCompletionMessageToolCall(id='call_e4LEDDcytWdGUx0m98plDpUa', function=Function(arguments='{\"sql_query\":\"SELECT * FROM user_demographics WHERE SeniorCitizen = 1 AND gender = \\'Male\\'\"}', name='get_user_demographics'), type='function')])"
      ]
     },
     "execution_count": 72,
     "metadata": {},
     "output_type": "execute_result"
    }
   ],
   "source": [
    "messages=[\n",
    "      {\"role\": \"system\", \"content\": md_content}, \n",
    "      {\"role\": \"user\", \"content\": \"请问user_demographics表中个人属性为老年男性的数据总共有多少条？\"}\n",
    "]\n",
    "response = client.chat.completions.create(\n",
    "        model=\"gpt-3.5-turbo\",\n",
    "        messages=messages,\n",
    "        tools=tools,\n",
    "        tool_choice=\"auto\",  \n",
    "    )\n",
    "\n",
    "response.choices[0].message"
   ]
  },
  {
   "cell_type": "code",
   "execution_count": 73,
   "id": "9e1cbaa0-b784-49bb-8294-ca00e510cf04",
   "metadata": {
    "tags": []
   },
   "outputs": [
    {
     "data": {
      "text/plain": [
       "'iquery数据库是一个用于电信用户数据分析的数据库，主要包括了四张数据表：user_demographics、user_services、user_payments和user_churn。这些数据表记录了电信用户的个人基本情况、订购的电信服务情况、支付情况以及流失情况。用户可以通过iquery数据库中的数据来进行用户行为分析、用户流失预测、产品定价优化等工作。每张数据表都有各自的字段说明，方便用户了解和利用数据库中的数据。'"
      ]
     },
     "execution_count": 73,
     "metadata": {},
     "output_type": "execute_result"
    }
   ],
   "source": [
    "messages=[\n",
    "      {\"role\": \"system\", \"content\": md_content}, \n",
    "      {\"role\": \"user\", \"content\": \"请帮我介绍下iquery这个数据库的基本情况\"}\n",
    "]\n",
    "response = client.chat.completions.create(\n",
    "        model=\"gpt-3.5-turbo\",\n",
    "        messages=messages,\n",
    "    )\n",
    "\n",
    "response.choices[0].message.content"
   ]
  },
  {
   "cell_type": "code",
   "execution_count": 74,
   "id": "cf8ed8d5-3a3e-4670-b04c-0211bc47eed2",
   "metadata": {
    "tags": []
   },
   "outputs": [
    {
     "name": "stdout",
     "output_type": "stream",
     "text": [
      "根据描述，user_demographics数据表由一线业务人员人工采集记录，并通过回访确认相关信息，数据集的准确性和可信度都非常高。而user_services数据表由后台系统自动生成，并未经过人工校验。因此，user_demographics数据表的数据可信度更高。\n"
     ]
    }
   ],
   "source": [
    "messages=[\n",
    "      {\"role\": \"system\", \"content\": md_content}, \n",
    "      {\"role\": \"user\", \"content\": \"user_demographics数据表和user_services数据表哪张表的数据可信度更高呢？\"}\n",
    "]\n",
    "response = client.chat.completions.create(\n",
    "        model=\"gpt-3.5-turbo\",\n",
    "        messages=messages,\n",
    "    )\n",
    "\n",
    "print(response.choices[0].message.content)"
   ]
  },
  {
   "cell_type": "markdown",
   "id": "99d328ac-a655-44a6-afa6-5a66a143e5b4",
   "metadata": {},
   "source": [
    "# 2. 实现代码执行需要确认逻辑"
   ]
  },
  {
   "cell_type": "code",
   "execution_count": 75,
   "id": "7d216223-115c-417a-8229-5a213d87e1b6",
   "metadata": {
    "tags": []
   },
   "outputs": [],
   "source": [
    "def sql_inter(sql_query):\n",
    "    \"\"\"\n",
    "    用于获取iquery数据库中各张表的有关相关信息，\\\n",
    "    核心功能是将输入的SQL代码传输至iquery数据库所在的MySQL环境中进行运行，\\\n",
    "    并最终返回SQL代码运行结果。需要注意的是，本函数是借助pymysql来连接MySQL数据库。\n",
    "    :param sql_query: 字符串形式的SQL查询语句，用于执行对MySQL中iquery数据库中各张表进行查询，并获得各表中的各类相关信息\n",
    "    :return：sql_query在MySQL中的运行结果。\n",
    "    \"\"\"\n",
    "    \n",
    "    mysql_pw = \"iquery_agent\"\n",
    "    \n",
    "    connection = pymysql.connect(\n",
    "            host='localhost',  # 数据库地址\n",
    "            user='iquery_agent',  # 数据库用户名\n",
    "            passwd=mysql_pw,  # 数据库密码\n",
    "            db='iquery',  # 数据库名\n",
    "            charset='utf8'  # 字符集选择utf8\n",
    "        )\n",
    "    \n",
    "    try:\n",
    "        with connection.cursor() as cursor:\n",
    "            # SQL查询语句\n",
    "            sql = sql_query\n",
    "            cursor.execute(sql)\n",
    "\n",
    "            # 获取查询结果\n",
    "            results = cursor.fetchall()\n",
    "\n",
    "    finally:\n",
    "        connection.close()\n",
    "    \n",
    "    \n",
    "    return json.dumps(results)"
   ]
  },
  {
   "cell_type": "code",
   "execution_count": 76,
   "id": "462fc620-3f02-43f9-8c1b-6c83baaa2767",
   "metadata": {
    "tags": []
   },
   "outputs": [],
   "source": [
    "functions_list = [sql_inter]"
   ]
  },
  {
   "cell_type": "code",
   "execution_count": 97,
   "id": "33040be0-5da5-47ca-8551-cb16488689b9",
   "metadata": {
    "tags": []
   },
   "outputs": [
    {
     "data": {
      "text/plain": [
       "[{'type': 'function',\n",
       "  'function': {'name': 'sql_inter',\n",
       "   'description': '用于获取iquery数据库中各张表的有关相关信息，核心功能是将输入的SQL代码传输至iquery数据库所在的MySQL环境中进行运行，并最终返回SQL代码运行结果。需要注意的是，本函数是借助pymysql来连接MySQL数据库。',\n",
       "   'parameters': {'type': 'object',\n",
       "    'properties': {'sql_query': {'type': 'string',\n",
       "      'description': '字符串形式的SQL查询语句，用于执行对MySQL中iquery数据库中各张表进行查询，并获得各表中的各类相关信息'}},\n",
       "    'required': ['sql_query']}}}]"
      ]
     },
     "execution_count": 97,
     "metadata": {},
     "output_type": "execute_result"
    }
   ],
   "source": [
    "tools = auto_functions(functions_list)\n",
    "tools"
   ]
  },
  {
   "cell_type": "code",
   "execution_count": null,
   "id": "88655ddd-3274-433b-afcb-a76f49d90d18",
   "metadata": {
    "tags": []
   },
   "outputs": [
    {
     "data": {
      "text/plain": [
       "'user_demographics数据表的主键为\"0003-MKNFE\"，而user_services数据表的主键为\"0002-ORFBO\"，所以它们并不完全一致。'"
      ]
     },
     "execution_count": 89,
     "metadata": {},
     "output_type": "execute_result"
    }
   ],
   "source": [
    "messages = [\n",
    "    {\"role\": \"system\", \"content\": md_content},\n",
    "    {\"role\": \"user\", \"content\": \"请问user_demographics数据表的主键和user_services数据表的主键是否完全一致？\"}\n",
    "]\n",
    "run_conversation(messages, functions_list=functions_list, model=\"gpt-3.5-turbo\")"
   ]
  },
  {
   "cell_type": "code",
   "execution_count": 91,
   "id": "9ba8034b-0e20-4b8d-8021-e77cb7d9d983",
   "metadata": {
    "tags": []
   },
   "outputs": [],
   "source": [
    "def extract_sql(json_str):\n",
    "    # 提取并返回'sql_query'的值\n",
    "    return json_str.get('sql_query', None)\n"
   ]
  },
  {
   "cell_type": "code",
   "execution_count": 101,
   "id": "b8b01e02-9295-4b69-a83d-81992d5260f9",
   "metadata": {
    "tags": []
   },
   "outputs": [],
   "source": [
    "def check_code_run(messages, functions_list=None, model=\"gpt-3.5-turbo\",auto_run = True):\n",
    "    \"\"\"\n",
    "    能够自动执行外部函数调用的对话模型\n",
    "    :param messages: 必要参数，字典类型，输入到Chat模型的messages参数对象\n",
    "    :param functions_list: 可选参数，默认为None，可以设置为包含全部外部函数的列表对象\n",
    "    :param model: Chat模型，可选参数，默认模型为gpt-3.5-turbo\n",
    "    :return：Chat模型输出结果\n",
    "    \"\"\"\n",
    "    # 如果没有外部函数库，则执行普通的对话任务\n",
    "    if functions_list == None:\n",
    "        response = client.chat.completions.create(\n",
    "                        model=model,\n",
    "                        messages=messages,\n",
    "                        )\n",
    "        response_message = response.choices[0].message\n",
    "        final_response = response_message.content\n",
    "        \n",
    "    # 若存在外部函数库，则需要灵活选取外部函数并进行回答\n",
    "    else:\n",
    "        # 创建functions对象\n",
    "        tools = auto_functions(functions_list)\n",
    "        \n",
    "\n",
    "        # 创建外部函数库字典\n",
    "        available_functions = {func.__name__: func for func in functions_list}\n",
    "\n",
    "        # 第一次调用大模型\n",
    "        response = client.chat.completions.create(\n",
    "                        model=model,\n",
    "                        messages=messages,\n",
    "                        tools=tools,\n",
    "                        tool_choice=\"auto\", )\n",
    "        response_message = response.choices[0].message\n",
    "        tool_calls = response_message.tool_calls\n",
    "        if tool_calls:\n",
    "            messages.append(response_message) \n",
    "            for tool_call in tool_calls:\n",
    "                function_name = tool_call.function.name\n",
    "                function_to_call = available_functions[function_name]\n",
    "                function_args = json.loads(tool_call.function.arguments)\n",
    "              \n",
    "              \n",
    "                if auto_run == False:\n",
    "                    sql_query = extract_sql(function_args)\n",
    "\n",
    "                    res = input('即将执行以下代码：%s。是否确认并继续执行（1），或者退出本次运行过程（2）' % sql_query)\n",
    "                    if res == '2':\n",
    "                        print(\"终止运行\")\n",
    "                        return None\n",
    "                    else:\n",
    "                        print(\"正在执行代码，请稍后...\")\n",
    "                        \n",
    "                function_response = function_to_call(**function_args)\n",
    "                messages.append(\n",
    "                    {\n",
    "                        \"tool_call_id\": tool_call.id,\n",
    "                        \"role\": \"tool\",\n",
    "                        \"name\": function_name,\n",
    "                        \"content\": function_response,\n",
    "                    }\n",
    "                ) \n",
    "            ## 第二次调用模型\n",
    "            second_response = client.chat.completions.create(\n",
    "                model=model,\n",
    "                messages=messages,\n",
    "            ) \n",
    "            # 获取最终结果\n",
    "            final_response = second_response.choices[0].message.content\n",
    "        else:\n",
    "            final_response = response_message.content\n",
    "    del messages\n",
    "                \n",
    "    return final_response"
   ]
  },
  {
   "cell_type": "code",
   "execution_count": 102,
   "id": "e41b0f2a-2fc3-4663-ad99-96a7f5a6f116",
   "metadata": {
    "tags": []
   },
   "outputs": [],
   "source": [
    "messages = [\n",
    "    {\"role\": \"system\", \"content\": md_content},\n",
    "    {\"role\": \"user\", \"content\": \"请问iquery数据库下user_demographics表的第10条数据内容是？\"}\n",
    "]"
   ]
  },
  {
   "cell_type": "code",
   "execution_count": 94,
   "id": "cd6f6dde-c839-4936-bf10-a91425ee4013",
   "metadata": {
    "tags": []
   },
   "outputs": [
    {
     "data": {
      "text/plain": [
       "[<function __main__.sql_inter(sql_query)>]"
      ]
     },
     "execution_count": 94,
     "metadata": {},
     "output_type": "execute_result"
    }
   ],
   "source": [
    "functions_list"
   ]
  },
  {
   "cell_type": "code",
   "execution_count": 104,
   "id": "ccfaed5d-37e6-4778-9ee6-ddb48266a034",
   "metadata": {
    "tags": []
   },
   "outputs": [
    {
     "name": "stdin",
     "output_type": "stream",
     "text": [
      "即将执行以下代码：SELECT * FROM user_demographics LIMIT 9, 1;。是否确认并继续执行（1），或者退出本次运行过程（2） 1\n"
     ]
    },
    {
     "name": "stdout",
     "output_type": "stream",
     "text": [
      "正在执行代码，请稍后...\n"
     ]
    },
    {
     "data": {
      "text/plain": [
       "'iquery数据库下user_demographics表的第10条数据内容如下：\\n\\n客户ID：0019-GFNTW\\n性别：女性\\n老人：否\\n伴侣：否\\n经济独立：否'"
      ]
     },
     "execution_count": 104,
     "metadata": {},
     "output_type": "execute_result"
    }
   ],
   "source": [
    "check_code_run(messages, \n",
    "               functions_list=functions_list, \n",
    "               model=\"gpt-3.5-turbo\", \n",
    "               auto_run = False)"
   ]
  },
  {
   "cell_type": "code",
   "execution_count": 107,
   "id": "5ff16bc9-d25d-4961-8a35-de7f281458e3",
   "metadata": {
    "tags": []
   },
   "outputs": [
    {
     "name": "stdin",
     "output_type": "stream",
     "text": [
      "即将执行以下代码：SELECT COUNT(*) AS total_count FROM user_demographics。是否确认并继续执行（1），或者退出本次运行过程（2） 1\n"
     ]
    },
    {
     "name": "stdout",
     "output_type": "stream",
     "text": [
      "正在执行代码，请稍后...\n"
     ]
    },
    {
     "data": {
      "text/plain": [
       "'user_demographics数据表中共有5353条数据。'"
      ]
     },
     "execution_count": 107,
     "metadata": {},
     "output_type": "execute_result"
    }
   ],
   "source": [
    "messages = [\n",
    "    {\"role\": \"system\", \"content\": md_content},\n",
    "    {\"role\": \"user\", \"content\": \"请问iquery数据库下user_demographics表有多少条数据？\"}\n",
    "]\n",
    "check_code_run(messages, \n",
    "               functions_list=functions_list, \n",
    "               model=\"gpt-3.5-turbo\", \n",
    "               auto_run = False)"
   ]
  },
  {
   "cell_type": "code",
   "execution_count": 109,
   "id": "c9439475-24d0-4ce5-b23d-a6e08c5f8dcc",
   "metadata": {
    "tags": []
   },
   "outputs": [
    {
     "name": "stdin",
     "output_type": "stream",
     "text": [
      "即将执行以下代码：SELECT gender, COUNT(*) AS count, COUNT(*)/(SELECT COUNT(*) FROM user_demographics)*100 AS percentage FROM user_demographics GROUP BY gender。是否确认并继续执行（1），或者退出本次运行过程（2） 1\n"
     ]
    },
    {
     "name": "stdout",
     "output_type": "stream",
     "text": [
      "正在执行代码，请稍后...\n"
     ]
    },
    {
     "ename": "TypeError",
     "evalue": "Object of type Decimal is not JSON serializable",
     "output_type": "error",
     "traceback": [
      "\u001b[0;31m---------------------------------------------------------------------------\u001b[0m",
      "\u001b[0;31mTypeError\u001b[0m                                 Traceback (most recent call last)",
      "Cell \u001b[0;32mIn[109], line 5\u001b[0m\n\u001b[1;32m      1\u001b[0m messages \u001b[38;5;241m=\u001b[39m [\n\u001b[1;32m      2\u001b[0m     {\u001b[38;5;124m\"\u001b[39m\u001b[38;5;124mrole\u001b[39m\u001b[38;5;124m\"\u001b[39m: \u001b[38;5;124m\"\u001b[39m\u001b[38;5;124msystem\u001b[39m\u001b[38;5;124m\"\u001b[39m, \u001b[38;5;124m\"\u001b[39m\u001b[38;5;124mcontent\u001b[39m\u001b[38;5;124m\"\u001b[39m: md_content},\n\u001b[1;32m      3\u001b[0m     {\u001b[38;5;124m\"\u001b[39m\u001b[38;5;124mrole\u001b[39m\u001b[38;5;124m\"\u001b[39m: \u001b[38;5;124m\"\u001b[39m\u001b[38;5;124muser\u001b[39m\u001b[38;5;124m\"\u001b[39m, \u001b[38;5;124m\"\u001b[39m\u001b[38;5;124mcontent\u001b[39m\u001b[38;5;124m\"\u001b[39m: \u001b[38;5;124m\"\u001b[39m\u001b[38;5;124m请问iquery数据库下user_demographics表中，男性和女性的占比分别是多少？\u001b[39m\u001b[38;5;124m\"\u001b[39m}\n\u001b[1;32m      4\u001b[0m ]\n\u001b[0;32m----> 5\u001b[0m \u001b[43mcheck_code_run\u001b[49m\u001b[43m(\u001b[49m\u001b[43mmessages\u001b[49m\u001b[43m,\u001b[49m\u001b[43m \u001b[49m\n\u001b[1;32m      6\u001b[0m \u001b[43m               \u001b[49m\u001b[43mfunctions_list\u001b[49m\u001b[38;5;241;43m=\u001b[39;49m\u001b[43mfunctions_list\u001b[49m\u001b[43m,\u001b[49m\u001b[43m \u001b[49m\n\u001b[1;32m      7\u001b[0m \u001b[43m               \u001b[49m\u001b[43mmodel\u001b[49m\u001b[38;5;241;43m=\u001b[39;49m\u001b[38;5;124;43m\"\u001b[39;49m\u001b[38;5;124;43mgpt-3.5-turbo\u001b[39;49m\u001b[38;5;124;43m\"\u001b[39;49m\u001b[43m,\u001b[49m\u001b[43m \u001b[49m\n\u001b[1;32m      8\u001b[0m \u001b[43m               \u001b[49m\u001b[43mauto_run\u001b[49m\u001b[43m \u001b[49m\u001b[38;5;241;43m=\u001b[39;49m\u001b[43m \u001b[49m\u001b[38;5;28;43;01mFalse\u001b[39;49;00m\u001b[43m)\u001b[49m\n",
      "Cell \u001b[0;32mIn[101], line 53\u001b[0m, in \u001b[0;36mcheck_code_run\u001b[0;34m(messages, functions_list, model, auto_run)\u001b[0m\n\u001b[1;32m     50\u001b[0m         \u001b[38;5;28;01melse\u001b[39;00m:\n\u001b[1;32m     51\u001b[0m             \u001b[38;5;28mprint\u001b[39m(\u001b[38;5;124m\"\u001b[39m\u001b[38;5;124m正在执行代码，请稍后...\u001b[39m\u001b[38;5;124m\"\u001b[39m)\n\u001b[0;32m---> 53\u001b[0m     function_response \u001b[38;5;241m=\u001b[39m \u001b[43mfunction_to_call\u001b[49m\u001b[43m(\u001b[49m\u001b[38;5;241;43m*\u001b[39;49m\u001b[38;5;241;43m*\u001b[39;49m\u001b[43mfunction_args\u001b[49m\u001b[43m)\u001b[49m\n\u001b[1;32m     54\u001b[0m     messages\u001b[38;5;241m.\u001b[39mappend(\n\u001b[1;32m     55\u001b[0m         {\n\u001b[1;32m     56\u001b[0m             \u001b[38;5;124m\"\u001b[39m\u001b[38;5;124mtool_call_id\u001b[39m\u001b[38;5;124m\"\u001b[39m: tool_call\u001b[38;5;241m.\u001b[39mid,\n\u001b[0;32m   (...)\u001b[0m\n\u001b[1;32m     60\u001b[0m         }\n\u001b[1;32m     61\u001b[0m     ) \n\u001b[1;32m     62\u001b[0m \u001b[38;5;66;03m## 第二次调用模型\u001b[39;00m\n",
      "Cell \u001b[0;32mIn[75], line 33\u001b[0m, in \u001b[0;36msql_inter\u001b[0;34m(sql_query)\u001b[0m\n\u001b[1;32m     29\u001b[0m \u001b[38;5;28;01mfinally\u001b[39;00m:\n\u001b[1;32m     30\u001b[0m     connection\u001b[38;5;241m.\u001b[39mclose()\n\u001b[0;32m---> 33\u001b[0m \u001b[38;5;28;01mreturn\u001b[39;00m \u001b[43mjson\u001b[49m\u001b[38;5;241;43m.\u001b[39;49m\u001b[43mdumps\u001b[49m\u001b[43m(\u001b[49m\u001b[43mresults\u001b[49m\u001b[43m)\u001b[49m\n",
      "File \u001b[0;32m~/miniconda3/lib/python3.8/json/__init__.py:231\u001b[0m, in \u001b[0;36mdumps\u001b[0;34m(obj, skipkeys, ensure_ascii, check_circular, allow_nan, cls, indent, separators, default, sort_keys, **kw)\u001b[0m\n\u001b[1;32m    226\u001b[0m \u001b[38;5;66;03m# cached encoder\u001b[39;00m\n\u001b[1;32m    227\u001b[0m \u001b[38;5;28;01mif\u001b[39;00m (\u001b[38;5;129;01mnot\u001b[39;00m skipkeys \u001b[38;5;129;01mand\u001b[39;00m ensure_ascii \u001b[38;5;129;01mand\u001b[39;00m\n\u001b[1;32m    228\u001b[0m     check_circular \u001b[38;5;129;01mand\u001b[39;00m allow_nan \u001b[38;5;129;01mand\u001b[39;00m\n\u001b[1;32m    229\u001b[0m     \u001b[38;5;28mcls\u001b[39m \u001b[38;5;129;01mis\u001b[39;00m \u001b[38;5;28;01mNone\u001b[39;00m \u001b[38;5;129;01mand\u001b[39;00m indent \u001b[38;5;129;01mis\u001b[39;00m \u001b[38;5;28;01mNone\u001b[39;00m \u001b[38;5;129;01mand\u001b[39;00m separators \u001b[38;5;129;01mis\u001b[39;00m \u001b[38;5;28;01mNone\u001b[39;00m \u001b[38;5;129;01mand\u001b[39;00m\n\u001b[1;32m    230\u001b[0m     default \u001b[38;5;129;01mis\u001b[39;00m \u001b[38;5;28;01mNone\u001b[39;00m \u001b[38;5;129;01mand\u001b[39;00m \u001b[38;5;129;01mnot\u001b[39;00m sort_keys \u001b[38;5;129;01mand\u001b[39;00m \u001b[38;5;129;01mnot\u001b[39;00m kw):\n\u001b[0;32m--> 231\u001b[0m     \u001b[38;5;28;01mreturn\u001b[39;00m \u001b[43m_default_encoder\u001b[49m\u001b[38;5;241;43m.\u001b[39;49m\u001b[43mencode\u001b[49m\u001b[43m(\u001b[49m\u001b[43mobj\u001b[49m\u001b[43m)\u001b[49m\n\u001b[1;32m    232\u001b[0m \u001b[38;5;28;01mif\u001b[39;00m \u001b[38;5;28mcls\u001b[39m \u001b[38;5;129;01mis\u001b[39;00m \u001b[38;5;28;01mNone\u001b[39;00m:\n\u001b[1;32m    233\u001b[0m     \u001b[38;5;28mcls\u001b[39m \u001b[38;5;241m=\u001b[39m JSONEncoder\n",
      "File \u001b[0;32m~/miniconda3/lib/python3.8/json/encoder.py:199\u001b[0m, in \u001b[0;36mJSONEncoder.encode\u001b[0;34m(self, o)\u001b[0m\n\u001b[1;32m    195\u001b[0m         \u001b[38;5;28;01mreturn\u001b[39;00m encode_basestring(o)\n\u001b[1;32m    196\u001b[0m \u001b[38;5;66;03m# This doesn't pass the iterator directly to ''.join() because the\u001b[39;00m\n\u001b[1;32m    197\u001b[0m \u001b[38;5;66;03m# exceptions aren't as detailed.  The list call should be roughly\u001b[39;00m\n\u001b[1;32m    198\u001b[0m \u001b[38;5;66;03m# equivalent to the PySequence_Fast that ''.join() would do.\u001b[39;00m\n\u001b[0;32m--> 199\u001b[0m chunks \u001b[38;5;241m=\u001b[39m \u001b[38;5;28;43mself\u001b[39;49m\u001b[38;5;241;43m.\u001b[39;49m\u001b[43miterencode\u001b[49m\u001b[43m(\u001b[49m\u001b[43mo\u001b[49m\u001b[43m,\u001b[49m\u001b[43m \u001b[49m\u001b[43m_one_shot\u001b[49m\u001b[38;5;241;43m=\u001b[39;49m\u001b[38;5;28;43;01mTrue\u001b[39;49;00m\u001b[43m)\u001b[49m\n\u001b[1;32m    200\u001b[0m \u001b[38;5;28;01mif\u001b[39;00m \u001b[38;5;129;01mnot\u001b[39;00m \u001b[38;5;28misinstance\u001b[39m(chunks, (\u001b[38;5;28mlist\u001b[39m, \u001b[38;5;28mtuple\u001b[39m)):\n\u001b[1;32m    201\u001b[0m     chunks \u001b[38;5;241m=\u001b[39m \u001b[38;5;28mlist\u001b[39m(chunks)\n",
      "File \u001b[0;32m~/miniconda3/lib/python3.8/json/encoder.py:257\u001b[0m, in \u001b[0;36mJSONEncoder.iterencode\u001b[0;34m(self, o, _one_shot)\u001b[0m\n\u001b[1;32m    252\u001b[0m \u001b[38;5;28;01melse\u001b[39;00m:\n\u001b[1;32m    253\u001b[0m     _iterencode \u001b[38;5;241m=\u001b[39m _make_iterencode(\n\u001b[1;32m    254\u001b[0m         markers, \u001b[38;5;28mself\u001b[39m\u001b[38;5;241m.\u001b[39mdefault, _encoder, \u001b[38;5;28mself\u001b[39m\u001b[38;5;241m.\u001b[39mindent, floatstr,\n\u001b[1;32m    255\u001b[0m         \u001b[38;5;28mself\u001b[39m\u001b[38;5;241m.\u001b[39mkey_separator, \u001b[38;5;28mself\u001b[39m\u001b[38;5;241m.\u001b[39mitem_separator, \u001b[38;5;28mself\u001b[39m\u001b[38;5;241m.\u001b[39msort_keys,\n\u001b[1;32m    256\u001b[0m         \u001b[38;5;28mself\u001b[39m\u001b[38;5;241m.\u001b[39mskipkeys, _one_shot)\n\u001b[0;32m--> 257\u001b[0m \u001b[38;5;28;01mreturn\u001b[39;00m \u001b[43m_iterencode\u001b[49m\u001b[43m(\u001b[49m\u001b[43mo\u001b[49m\u001b[43m,\u001b[49m\u001b[43m \u001b[49m\u001b[38;5;241;43m0\u001b[39;49m\u001b[43m)\u001b[49m\n",
      "File \u001b[0;32m~/miniconda3/lib/python3.8/json/encoder.py:179\u001b[0m, in \u001b[0;36mJSONEncoder.default\u001b[0;34m(self, o)\u001b[0m\n\u001b[1;32m    160\u001b[0m \u001b[38;5;28;01mdef\u001b[39;00m \u001b[38;5;21mdefault\u001b[39m(\u001b[38;5;28mself\u001b[39m, o):\n\u001b[1;32m    161\u001b[0m \u001b[38;5;250m    \u001b[39m\u001b[38;5;124;03m\"\"\"Implement this method in a subclass such that it returns\u001b[39;00m\n\u001b[1;32m    162\u001b[0m \u001b[38;5;124;03m    a serializable object for ``o``, or calls the base implementation\u001b[39;00m\n\u001b[1;32m    163\u001b[0m \u001b[38;5;124;03m    (to raise a ``TypeError``).\u001b[39;00m\n\u001b[0;32m   (...)\u001b[0m\n\u001b[1;32m    177\u001b[0m \n\u001b[1;32m    178\u001b[0m \u001b[38;5;124;03m    \"\"\"\u001b[39;00m\n\u001b[0;32m--> 179\u001b[0m     \u001b[38;5;28;01mraise\u001b[39;00m \u001b[38;5;167;01mTypeError\u001b[39;00m(\u001b[38;5;124mf\u001b[39m\u001b[38;5;124m'\u001b[39m\u001b[38;5;124mObject of type \u001b[39m\u001b[38;5;132;01m{\u001b[39;00mo\u001b[38;5;241m.\u001b[39m\u001b[38;5;18m__class__\u001b[39m\u001b[38;5;241m.\u001b[39m\u001b[38;5;18m__name__\u001b[39m\u001b[38;5;132;01m}\u001b[39;00m\u001b[38;5;124m \u001b[39m\u001b[38;5;124m'\u001b[39m\n\u001b[1;32m    180\u001b[0m                     \u001b[38;5;124mf\u001b[39m\u001b[38;5;124m'\u001b[39m\u001b[38;5;124mis not JSON serializable\u001b[39m\u001b[38;5;124m'\u001b[39m)\n",
      "\u001b[0;31mTypeError\u001b[0m: Object of type Decimal is not JSON serializable"
     ]
    }
   ],
   "source": [
    "messages = [\n",
    "    {\"role\": \"system\", \"content\": md_content},\n",
    "    {\"role\": \"user\", \"content\": \"请问iquery数据库下user_demographics表中，男性和女性的分别有多少人\"}\n",
    "]\n",
    "check_code_run(messages, \n",
    "               functions_list=functions_list, \n",
    "               model=\"gpt-3.5-turbo\", \n",
    "               auto_run = False)"
   ]
  },
  {
   "cell_type": "markdown",
   "id": "b833c635-8d9e-4e34-a6c5-8f303468305e",
   "metadata": {},
   "source": [
    "# 3. 实现多轮对话效果"
   ]
  },
  {
   "cell_type": "code",
   "execution_count": null,
   "id": "627992a0-1dfd-4462-b402-dd7f8a17bfb4",
   "metadata": {},
   "outputs": [],
   "source": [
    "import tiktoken\n",
    "\n",
    "def chat_with_inter(functions_list=None, \n",
    "                    prompt=\"你好呀\", \n",
    "                    model=\"gpt-3.5-turbo\", \n",
    "                    system_message=[{\"role\": \"system\", \"content\": \"你是一个智能助手。\"}], \n",
    "                    auto_run = True):\n",
    "    \n",
    "    # 创建函数列表对应的参数解释列表\n",
    "    functions = auto_functions(functions_list)\n",
    "    \n",
    "    # 多轮对话阈值\n",
    "    if 'gpt-4' in model:\n",
    "        tokens_thr = 6000\n",
    "    elif '16k' in model:\n",
    "        tokens_thr = 14000\n",
    "    else:\n",
    "        tokens_thr = 3000\n",
    "    \n",
    "    messages = system_message\n",
    "    messages.append({\"role\": \"user\", \"content\": prompt})\n",
    "    ## 计算token大小\n",
    "    embedding_model = \"text-embedding-ada-002\"\n",
    "    # 模型对应的分词器（TOKENIZER）\n",
    "    embedding_encoding = \"cl100k_base\"\n",
    "    encoding = tiktoken.get_encoding(embedding_encoding)\n",
    "    tokens_count = len(encoding.encode((prompt + system_message[0][\"content\"])))\n",
    "    \n",
    "    while True:           \n",
    "        answer = check_code_run(messages, \n",
    "                                functions_list=functions_list, \n",
    "                                model=model, \n",
    "                                auto_run = auto_run)\n",
    "        \n",
    "        \n",
    "        print(f\"模型回答: {answer}\")\n",
    "\n",
    "        # 询问用户是否还有其他问题\n",
    "        user_input = input(\"您还有其他问题吗？(输入退出以结束对话): \")\n",
    "        if user_input == \"退出\":\n",
    "            del messages\n",
    "            break\n",
    "\n",
    "        # 记录新一轮问答\n",
    "        messages.append({\"role\": \"assistant\", \"content\": answer})\n",
    "        messages.append({\"role\": \"user\", \"content\": user_input})\n",
    "        \n",
    "        # 计算当前总token数\n",
    "        tokens_count += len(encoding.encode((answer + user_input)))\n",
    "        \n",
    "        # 删除超出token阈值的对话内容\n",
    "        while tokens_count >= tokens_thr:\n",
    "            tokens_count -= len(encoding.encode(messages.pop(1)[\"content\"]))"
   ]
  },
  {
   "cell_type": "code",
   "execution_count": null,
   "id": "47b6de32-9df6-47fa-92ef-18078f04ba12",
   "metadata": {},
   "outputs": [],
   "source": [
    "chat_with_inter(functions_list=functions_list, \n",
    "                prompt=\"我想根据iquery数据库中数据分析用户流失情况，请问需要用到iquery数据库中的哪几张表呢？\", \n",
    "                model=\"gpt-3.5-turbo\", \n",
    "                system_message=[{\"role\": \"system\", \"content\": md_content}], \n",
    "                auto_run = False)"
   ]
  },
  {
   "cell_type": "raw",
   "id": "38ae4345-0b9a-4505-94d5-df921138b9d1",
   "metadata": {},
   "source": [
    "请问user_demographics表的第10条数据内容是？\n",
    "\n",
    "请问user_demographics数据表的主键和user_services数据表的主键是否完全一致？"
   ]
  },
  {
   "cell_type": "code",
   "execution_count": null,
   "id": "2e6f6062-7370-4c57-b653-f857967dea21",
   "metadata": {},
   "outputs": [],
   "source": []
  },
  {
   "cell_type": "code",
   "execution_count": null,
   "id": "a94b1cc9-a574-4ea0-902e-c459bfd11963",
   "metadata": {},
   "outputs": [],
   "source": []
  }
 ],
 "metadata": {
  "kernelspec": {
   "display_name": "Python 3 (ipykernel)",
   "language": "python",
   "name": "python3"
  },
  "language_info": {
   "codemirror_mode": {
    "name": "ipython",
    "version": 3
   },
   "file_extension": ".py",
   "mimetype": "text/x-python",
   "name": "python",
   "nbconvert_exporter": "python",
   "pygments_lexer": "ipython3",
   "version": "3.8.10"
  }
 },
 "nbformat": 4,
 "nbformat_minor": 5
}
